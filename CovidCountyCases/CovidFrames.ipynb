{
 "cells": [
  {
   "cell_type": "markdown",
   "metadata": {},
   "source": [
    "In this notebook, we will set up a simple dashboard of the number of covid cases/fatalities on a county by county level. We will play with Haskell to do this, using the Frames, Foldl, and Chart libraries in iHaskell."
   ]
  },
  {
   "cell_type": "code",
   "execution_count": 1,
   "metadata": {},
   "outputs": [
    {
     "data": {
      "text/html": [
       "<style>/* Styles used for the Hoogle display in the pager */\n",
       ".hoogle-doc {\n",
       "display: block;\n",
       "padding-bottom: 1.3em;\n",
       "padding-left: 0.4em;\n",
       "}\n",
       ".hoogle-code {\n",
       "display: block;\n",
       "font-family: monospace;\n",
       "white-space: pre;\n",
       "}\n",
       ".hoogle-text {\n",
       "display: block;\n",
       "}\n",
       ".hoogle-name {\n",
       "color: green;\n",
       "font-weight: bold;\n",
       "}\n",
       ".hoogle-head {\n",
       "font-weight: bold;\n",
       "}\n",
       ".hoogle-sub {\n",
       "display: block;\n",
       "margin-left: 0.4em;\n",
       "}\n",
       ".hoogle-package {\n",
       "font-weight: bold;\n",
       "font-style: italic;\n",
       "}\n",
       ".hoogle-module {\n",
       "font-weight: bold;\n",
       "}\n",
       ".hoogle-class {\n",
       "font-weight: bold;\n",
       "}\n",
       ".get-type {\n",
       "color: green;\n",
       "font-weight: bold;\n",
       "font-family: monospace;\n",
       "display: block;\n",
       "white-space: pre-wrap;\n",
       "}\n",
       ".show-type {\n",
       "color: green;\n",
       "font-weight: bold;\n",
       "font-family: monospace;\n",
       "margin-left: 1em;\n",
       "}\n",
       ".mono {\n",
       "font-family: monospace;\n",
       "display: block;\n",
       "}\n",
       ".err-msg {\n",
       "color: red;\n",
       "font-style: italic;\n",
       "font-family: monospace;\n",
       "white-space: pre;\n",
       "display: block;\n",
       "}\n",
       "#unshowable {\n",
       "color: red;\n",
       "font-weight: bold;\n",
       "}\n",
       ".err-msg.in.collapse {\n",
       "padding-top: 0.7em;\n",
       "}\n",
       ".highlight-code {\n",
       "white-space: pre;\n",
       "font-family: monospace;\n",
       "}\n",
       ".suggestion-warning { \n",
       "font-weight: bold;\n",
       "color: rgb(200, 130, 0);\n",
       "}\n",
       ".suggestion-error { \n",
       "font-weight: bold;\n",
       "color: red;\n",
       "}\n",
       ".suggestion-name {\n",
       "font-weight: bold;\n",
       "}\n",
       "</style><div class=\"suggestion-name\" style=\"clear:both;\">Unused LANGUAGE pragma</div><div class=\"suggestion-row\" style=\"float: left;\"><div class=\"suggestion-warning\">Found:</div><div class=\"highlight-code\" id=\"haskell\">{-# LANGUAGE DataKinds, FlexibleContexts, QuasiQuotes,\n",
       "  TemplateHaskell, TypeApplications, TypeOperators, OverloadedStrings\n",
       "  #-}</div></div><div class=\"suggestion-row\" style=\"float: left;\"><div class=\"suggestion-warning\">Why Not:</div><div class=\"highlight-code\" id=\"haskell\">{-# LANGUAGE DataKinds, FlexibleContexts, TypeOperators #-}</div></div>"
      ],
      "text/plain": [
       "Line 1: Unused LANGUAGE pragma\n",
       "Found:\n",
       "{-# LANGUAGE DataKinds, FlexibleContexts, QuasiQuotes,\n",
       "  TemplateHaskell, TypeApplications, TypeOperators, OverloadedStrings\n",
       "  #-}\n",
       "Why not:\n",
       "{-# LANGUAGE DataKinds, FlexibleContexts, TypeOperators #-}"
      ]
     },
     "metadata": {},
     "output_type": "display_data"
    }
   ],
   "source": [
    "{-# LANGUAGE DataKinds, FlexibleContexts, QuasiQuotes, TemplateHaskell, TypeApplications, TypeOperators, OverloadedStrings #-}"
   ]
  },
  {
   "cell_type": "markdown",
   "metadata": {},
   "source": [
    "Import the data manipulation libraries:"
   ]
  },
  {
   "cell_type": "code",
   "execution_count": 23,
   "metadata": {},
   "outputs": [],
   "source": [
    "import qualified Control.Foldl as L\n",
    "import qualified Data.Foldable as F\n",
    "import Data.Maybe (isNothing)\n",
    "import Data.Vinyl.XRec (toHKD)\n",
    "import Data.Vinyl.Curry (runcurryX)\n",
    "import Control.Lens hiding (Identity)\n",
    "import Frames\n",
    "import Data.Text (pack, unpack)"
   ]
  },
  {
   "cell_type": "markdown",
   "metadata": {},
   "source": [
    "Next comes the charting library."
   ]
  },
  {
   "cell_type": "code",
   "execution_count": 3,
   "metadata": {},
   "outputs": [],
   "source": [
    "import Graphics.Rendering.Chart.Easy"
   ]
  },
  {
   "cell_type": "markdown",
   "metadata": {},
   "source": [
    "Load the Data from the new-york times repository: https://github.com/nytimes/covid-19-data/blob/master/us-counties.csv"
   ]
  },
  {
   "cell_type": "code",
   "execution_count": 4,
   "metadata": {},
   "outputs": [],
   "source": [
    "tableTypes \"Covid\" \"us-counties.csv\""
   ]
  },
  {
   "cell_type": "code",
   "execution_count": 5,
   "metadata": {},
   "outputs": [],
   "source": [
    "loadCovid :: IO (Frame Covid)\n",
    "loadCovid = inCoreAoS (readTable \"us-counties.csv\")"
   ]
  },
  {
   "cell_type": "code",
   "execution_count": 6,
   "metadata": {},
   "outputs": [
    {
     "data": {
      "text/plain": []
     },
     "metadata": {},
     "output_type": "display_data"
    }
   ],
   "source": [
    "cs <- loadCovid"
   ]
  },
  {
   "cell_type": "markdown",
   "metadata": {},
   "source": [
    "Let's take a quick look at the first 5 elements of data:"
   ]
  },
  {
   "cell_type": "code",
   "execution_count": 7,
   "metadata": {},
   "outputs": [
    {
     "data": {
      "text/plain": [
       "{date :-> \"2020-01-21\", county :-> \"Snohomish\", state :-> \"Washington\", fips :-> 53061, cases :-> 1, deaths :-> 0}\n",
       "{date :-> \"2020-01-22\", county :-> \"Snohomish\", state :-> \"Washington\", fips :-> 53061, cases :-> 1, deaths :-> 0}\n",
       "{date :-> \"2020-01-23\", county :-> \"Snohomish\", state :-> \"Washington\", fips :-> 53061, cases :-> 1, deaths :-> 0}\n",
       "{date :-> \"2020-01-24\", county :-> \"Cook\", state :-> \"Illinois\", fips :-> 17031, cases :-> 1, deaths :-> 0}\n",
       "{date :-> \"2020-01-24\", county :-> \"Snohomish\", state :-> \"Washington\", fips :-> 53061, cases :-> 1, deaths :-> 0}"
      ]
     },
     "metadata": {},
     "output_type": "display_data"
    }
   ],
   "source": [
    "mapM_ print (take 5 (F.toList cs))"
   ]
  },
  {
   "cell_type": "markdown",
   "metadata": {},
   "source": [
    "Set up a filter by county."
   ]
  },
  {
   "cell_type": "code",
   "execution_count": 8,
   "metadata": {},
   "outputs": [],
   "source": [
    "countyLens countyName = (== countyName) . view county"
   ]
  },
  {
   "cell_type": "code",
   "execution_count": 9,
   "metadata": {},
   "outputs": [],
   "source": [
    "countyPrefilter countyName = L.prefilter (countyLens countyName)"
   ]
  },
  {
   "cell_type": "markdown",
   "metadata": {},
   "source": [
    "Next set up a fold to extract the number of cases/fatalities as a list"
   ]
  },
  {
   "cell_type": "code",
   "execution_count": 10,
   "metadata": {},
   "outputs": [],
   "source": [
    "listCasesFold = L.handles cases L.list\n",
    "listDeathsFold = L.handles deaths L.list"
   ]
  },
  {
   "cell_type": "code",
   "execution_count": 11,
   "metadata": {},
   "outputs": [],
   "source": [
    "countyCases countyName = countyPrefilter countyName listCasesFold\n",
    "countyDeaths countyName = countyPrefilter countyName listDeathsFold"
   ]
  },
  {
   "cell_type": "markdown",
   "metadata": {},
   "source": [
    "This extracts the cases in Alameda county as follows:"
   ]
  },
  {
   "cell_type": "code",
   "execution_count": 12,
   "metadata": {},
   "outputs": [
    {
     "data": {
      "text/plain": [
       "[1,1,2,2,2,3,3,3,24,25,25,29,29,29,37,40,49,53,57,67,87,127,139,151,156,199,241,277,291,304,334,380,417,464,464,587,609,655,695,734,766,827,864,907,908,983,1069,1084,1135,1185,1212,1260,1260,1350,1422,1458,1489,1519,1554,1589,1624,1657,1726,1770,1797,1830,1884,1938,1982,2044,2085,2122,2154,2199,2202,2321,2372,2413,2478,2543,2581]"
      ]
     },
     "metadata": {},
     "output_type": "display_data"
    }
   ],
   "source": [
    "L.fold (countyCases \"Alameda\") cs"
   ]
  },
  {
   "cell_type": "markdown",
   "metadata": {},
   "source": [
    "Now let's graph it:"
   ]
  },
  {
   "cell_type": "code",
   "execution_count": 13,
   "metadata": {},
   "outputs": [],
   "source": [
    "countyChart countyName = toRenderable $ do\n",
    "    layout_title .= \"Cases vs Deaths for \" ++ countyName\n",
    "    setColors [opaque blue, opaque red]\n",
    "    plot ( line \"Cases\" [zip [1..] (L.fold (countyCases (pack countyName)) cs)])\n",
    "    plot ( line \"Deaths\" [zip [1..] (L.fold (countyDeaths (pack countyName)) cs)])"
   ]
  },
  {
   "cell_type": "code",
   "execution_count": 14,
   "metadata": {},
   "outputs": [
    {
     "data": {
      "image/png": "[encoded data removed]",
      "image/svg+xml": [
       "<?xml version=\"1.0\" encoding=\"UTF-8\"?>\n",
       "<svg xmlns=\"http://www.w3.org/2000/svg\" xmlns:xlink=\"http://www.w3.org/1999/xlink\" width=\"450pt\" height=\"300pt\" viewBox=\"0 0 450 300\" version=\"1.1\">\n",
       "<defs>\n",
       "<g>\n",
       "<symbol overflow=\"visible\" id=\"glyph-2020-05-2357148.988056s0-0\">\n",
       "<path style=\"stroke:none;\" d=\"M 1.128906 0 L 1.128906 -10.796875 L 9.820312 -10.796875 L 9.820312 0 Z M 8.472656 -1.347656 L 8.472656 -9.449219 L 2.476562 -9.449219 L 2.476562 -1.347656 Z M 8.472656 -1.347656 \"/>\n",
       "</symbol>\n",
       "<symbol overflow=\"visible\" id=\"glyph-2020-05-2357148.988056s0-1\">\n",
       "<path style=\"stroke:none;\" d=\"M 0.671875 -5.308594 C 0.671875 -7.195312 1.179688 -8.648438 2.191406 -9.667969 C 3.070312 -10.554688 4.1875 -11 5.542969 -11 C 7.359375 -11 8.6875 -10.40625 9.527344 -9.214844 C 9.992188 -8.546875 10.242188 -7.875 10.277344 -7.199219 L 8.019531 -7.199219 C 7.875 -7.71875 7.6875 -8.109375 7.457031 -8.371094 C 7.046875 -8.839844 6.4375 -9.074219 5.632812 -9.074219 C 4.8125 -9.074219 4.164062 -8.742188 3.691406 -8.082031 C 3.21875 -7.421875 2.980469 -6.484375 2.980469 -5.273438 C 2.980469 -4.0625 3.230469 -3.15625 3.730469 -2.550781 C 4.230469 -1.949219 4.867188 -1.648438 5.640625 -1.648438 C 6.429688 -1.648438 7.035156 -1.90625 7.449219 -2.425781 C 7.679688 -2.703125 7.867188 -3.121094 8.019531 -3.675781 L 10.253906 -3.675781 C 10.058594 -2.5 9.558594 -1.542969 8.757812 -0.804688 C 7.953125 -0.0664062 6.921875 0.300781 5.667969 0.300781 C 4.117188 0.300781 2.894531 -0.199219 2.007812 -1.195312 C 1.117188 -2.195312 0.671875 -3.566406 0.671875 -5.308594 Z M 0.671875 -5.308594 \"/>\n",
       "</symbol>\n",
       "<symbol overflow=\"visible\" id=\"glyph-2020-05-2357148.988056s0-2\">\n",
       "<path style=\"stroke:none;\" d=\"M 5.375 -3.882812 C 5.242188 -3.800781 5.109375 -3.730469 4.976562 -3.679688 C 4.84375 -3.628906 4.65625 -3.582031 4.421875 -3.539062 L 3.953125 -3.449219 C 3.515625 -3.371094 3.199219 -3.277344 3.011719 -3.164062 C 2.6875 -2.972656 2.527344 -2.679688 2.527344 -2.277344 C 2.527344 -1.921875 2.625 -1.664062 2.824219 -1.503906 C 3.023438 -1.347656 3.261719 -1.265625 3.546875 -1.265625 C 3.996094 -1.265625 4.40625 -1.398438 4.785156 -1.664062 C 5.164062 -1.925781 5.359375 -2.40625 5.375 -3.105469 Z M 4.109375 -4.855469 C 4.496094 -4.90625 4.769531 -4.964844 4.9375 -5.039062 C 5.234375 -5.164062 5.382812 -5.363281 5.382812 -5.632812 C 5.382812 -5.960938 5.269531 -6.183594 5.042969 -6.308594 C 4.816406 -6.433594 4.484375 -6.496094 4.042969 -6.496094 C 3.550781 -6.496094 3.199219 -6.375 2.996094 -6.128906 C 2.847656 -5.949219 2.75 -5.707031 2.703125 -5.398438 L 0.6875 -5.398438 C 0.730469 -6.097656 0.929688 -6.671875 1.273438 -7.117188 C 1.824219 -7.820312 2.773438 -8.171875 4.117188 -8.171875 C 4.992188 -8.171875 5.765625 -8 6.445312 -7.652344 C 7.125 -7.304688 7.464844 -6.652344 7.464844 -5.691406 L 7.464844 -2.027344 C 7.464844 -1.773438 7.46875 -1.46875 7.476562 -1.105469 C 7.492188 -0.832031 7.535156 -0.648438 7.601562 -0.550781 C 7.671875 -0.453125 7.773438 -0.371094 7.910156 -0.308594 L 7.910156 0 L 5.640625 0 C 5.578125 -0.160156 5.53125 -0.3125 5.507812 -0.453125 C 5.484375 -0.59375 5.464844 -0.757812 5.449219 -0.9375 C 5.160156 -0.625 4.828125 -0.359375 4.453125 -0.140625 C 4.003906 0.117188 3.496094 0.25 2.929688 0.25 C 2.207031 0.25 1.609375 0.0429688 1.140625 -0.371094 C 0.667969 -0.78125 0.433594 -1.367188 0.433594 -2.125 C 0.433594 -3.105469 0.8125 -3.816406 1.566406 -4.253906 C 1.980469 -4.492188 2.59375 -4.664062 3.398438 -4.769531 Z M 4.109375 -4.855469 \"/>\n",
       "</symbol>\n",
       "<symbol overflow=\"visible\" id=\"glyph-2020-05-2357148.988056s0-3\">\n",
       "<path style=\"stroke:none;\" d=\"M 2.601562 -2.546875 C 2.644531 -2.175781 2.738281 -1.914062 2.886719 -1.757812 C 3.144531 -1.480469 3.625 -1.339844 4.320312 -1.339844 C 4.730469 -1.339844 5.058594 -1.402344 5.300781 -1.523438 C 5.542969 -1.644531 5.660156 -1.828125 5.660156 -2.074219 C 5.660156 -2.308594 5.5625 -2.484375 5.367188 -2.609375 C 5.171875 -2.730469 4.449219 -2.9375 3.195312 -3.238281 C 2.289062 -3.460938 1.652344 -3.742188 1.28125 -4.078125 C 0.910156 -4.410156 0.726562 -4.890625 0.726562 -5.515625 C 0.726562 -6.253906 1.015625 -6.886719 1.59375 -7.414062 C 2.171875 -7.945312 2.984375 -8.210938 4.035156 -8.210938 C 5.03125 -8.210938 5.84375 -8.011719 6.472656 -7.613281 C 7.097656 -7.214844 7.457031 -6.527344 7.550781 -5.550781 L 5.464844 -5.550781 C 5.433594 -5.820312 5.359375 -6.03125 5.238281 -6.1875 C 5.007812 -6.472656 4.617188 -6.613281 4.066406 -6.613281 C 3.609375 -6.613281 3.289062 -6.542969 3.09375 -6.402344 C 2.902344 -6.261719 2.804688 -6.09375 2.804688 -5.902344 C 2.804688 -5.664062 2.90625 -5.492188 3.113281 -5.382812 C 3.316406 -5.269531 4.042969 -5.078125 5.289062 -4.804688 C 6.117188 -4.609375 6.742188 -4.3125 7.15625 -3.917969 C 7.566406 -3.519531 7.769531 -3.015625 7.769531 -2.417969 C 7.769531 -1.625 7.476562 -0.980469 6.886719 -0.480469 C 6.300781 0.0195312 5.390625 0.269531 4.160156 0.269531 C 2.90625 0.269531 1.980469 0.0078125 1.378906 -0.523438 C 0.78125 -1.054688 0.484375 -1.726562 0.484375 -2.546875 Z M 2.601562 -2.546875 \"/>\n",
       "</symbol>\n",
       "<symbol overflow=\"visible\" id=\"glyph-2020-05-2357148.988056s0-4\">\n",
       "<path style=\"stroke:none;\" d=\"M 4.125 -6.476562 C 3.640625 -6.476562 3.265625 -6.324219 3 -6.019531 C 2.734375 -5.71875 2.566406 -5.308594 2.496094 -4.789062 L 5.742188 -4.789062 C 5.707031 -5.339844 5.539062 -5.761719 5.242188 -6.046875 C 4.941406 -6.332031 4.566406 -6.476562 4.125 -6.476562 Z M 4.125 -8.195312 C 4.789062 -8.195312 5.386719 -8.070312 5.917969 -7.820312 C 6.449219 -7.574219 6.890625 -7.179688 7.234375 -6.644531 C 7.546875 -6.171875 7.75 -5.621094 7.84375 -4.996094 C 7.898438 -4.628906 7.921875 -4.101562 7.910156 -3.414062 L 2.445312 -3.414062 C 2.476562 -2.613281 2.726562 -2.050781 3.199219 -1.726562 C 3.488281 -1.527344 3.835938 -1.429688 4.242188 -1.429688 C 4.671875 -1.429688 5.019531 -1.550781 5.289062 -1.792969 C 5.433594 -1.925781 5.5625 -2.109375 5.675781 -2.34375 L 7.808594 -2.34375 C 7.753906 -1.871094 7.507812 -1.390625 7.066406 -0.902344 C 6.382812 -0.125 5.425781 0.265625 4.195312 0.265625 C 3.179688 0.265625 2.285156 -0.0625 1.507812 -0.71875 C 0.730469 -1.371094 0.34375 -2.4375 0.34375 -3.910156 C 0.34375 -5.292969 0.695312 -6.351562 1.394531 -7.089844 C 2.09375 -7.828125 3.003906 -8.195312 4.125 -8.195312 Z M 4.125 -8.195312 \"/>\n",
       "</symbol>\n",
       "<symbol overflow=\"visible\" id=\"glyph-2020-05-2357148.988056s0-5\">\n",
       "<g>\n",
       "</g>\n",
       "</symbol>\n",
       "<symbol overflow=\"visible\" id=\"glyph-2020-05-2357148.988056s0-6\">\n",
       "<path style=\"stroke:none;\" d=\"M 5.894531 -7.984375 L 8.136719 -7.984375 L 5.257812 0 L 3.054688 0 L 0.191406 -7.984375 L 2.535156 -7.984375 L 4.195312 -2.09375 Z M 5.894531 -7.984375 \"/>\n",
       "</symbol>\n",
       "<symbol overflow=\"visible\" id=\"glyph-2020-05-2357148.988056s0-7\">\n",
       "<path style=\"stroke:none;\" d=\"M 3.332031 -8.921875 L 3.332031 -1.875 L 5.414062 -1.875 C 6.476562 -1.875 7.21875 -2.398438 7.640625 -3.449219 C 7.867188 -4.027344 7.984375 -4.710938 7.984375 -5.507812 C 7.984375 -6.605469 7.8125 -7.449219 7.46875 -8.039062 C 7.125 -8.625 6.4375 -8.921875 5.414062 -8.921875 Z M 5.792969 -10.796875 C 6.460938 -10.785156 7.019531 -10.707031 7.464844 -10.5625 C 8.21875 -10.3125 8.832031 -9.855469 9.300781 -9.191406 C 9.675781 -8.65625 9.933594 -8.074219 10.070312 -7.449219 C 10.207031 -6.824219 10.277344 -6.226562 10.277344 -5.660156 C 10.277344 -4.226562 9.988281 -3.011719 9.410156 -2.015625 C 8.628906 -0.671875 7.425781 0 5.792969 0 L 1.140625 0 L 1.140625 -10.796875 Z M 5.792969 -10.796875 \"/>\n",
       "</symbol>\n",
       "<symbol overflow=\"visible\" id=\"glyph-2020-05-2357148.988056s0-8\">\n",
       "<path style=\"stroke:none;\" d=\"M 0.152344 -6.421875 L 0.152344 -7.910156 L 1.265625 -7.910156 L 1.265625 -10.136719 L 3.332031 -10.136719 L 3.332031 -7.910156 L 4.628906 -7.910156 L 4.628906 -6.421875 L 3.332031 -6.421875 L 3.332031 -2.203125 C 3.332031 -1.875 3.375 -1.671875 3.457031 -1.59375 C 3.539062 -1.511719 3.792969 -1.472656 4.21875 -1.472656 C 4.28125 -1.472656 4.347656 -1.472656 4.421875 -1.476562 C 4.492188 -1.476562 4.5625 -1.480469 4.628906 -1.488281 L 4.628906 0.0742188 L 3.640625 0.109375 C 2.652344 0.144531 1.980469 -0.0273438 1.617188 -0.402344 C 1.382812 -0.640625 1.265625 -1.011719 1.265625 -1.507812 L 1.265625 -6.421875 Z M 0.152344 -6.421875 \"/>\n",
       "</symbol>\n",
       "<symbol overflow=\"visible\" id=\"glyph-2020-05-2357148.988056s0-9\">\n",
       "<path style=\"stroke:none;\" d=\"M 5.375 -8.1875 C 5.867188 -8.1875 6.316406 -8.101562 6.71875 -7.933594 C 7.121094 -7.761719 7.453125 -7.5 7.710938 -7.148438 C 7.929688 -6.851562 8.066406 -6.542969 8.117188 -6.230469 C 8.164062 -5.914062 8.1875 -5.398438 8.1875 -4.6875 L 8.1875 0 L 6.058594 0 L 6.058594 -4.855469 C 6.058594 -5.285156 5.984375 -5.632812 5.835938 -5.894531 C 5.648438 -6.265625 5.285156 -6.453125 4.753906 -6.453125 C 4.203125 -6.453125 3.78125 -6.269531 3.496094 -5.898438 C 3.210938 -5.53125 3.070312 -5.003906 3.070312 -4.320312 L 3.070312 0 L 0.988281 0 L 0.988281 -10.757812 L 3.070312 -10.757812 L 3.070312 -6.945312 C 3.371094 -7.40625 3.722656 -7.730469 4.121094 -7.914062 C 4.519531 -8.097656 4.9375 -8.1875 5.375 -8.1875 Z M 5.375 -8.1875 \"/>\n",
       "</symbol>\n",
       "<symbol overflow=\"visible\" id=\"glyph-2020-05-2357148.988056s0-10\">\n",
       "<path style=\"stroke:none;\" d=\"M 3.917969 -10.90625 C 4.050781 -10.90625 4.171875 -10.902344 4.277344 -10.894531 C 4.382812 -10.886719 4.53125 -10.875 4.71875 -10.863281 L 4.71875 -9.164062 C 4.601562 -9.179688 4.402344 -9.1875 4.128906 -9.195312 C 3.851562 -9.203125 3.660156 -9.140625 3.554688 -9.011719 C 3.449219 -8.882812 3.398438 -8.742188 3.398438 -8.585938 C 3.398438 -8.429688 3.398438 -8.203125 3.398438 -7.910156 L 4.769531 -7.910156 L 4.769531 -6.4375 L 3.398438 -6.4375 L 3.398438 0 L 1.320312 0 L 1.320312 -6.4375 L 0.152344 -6.4375 L 0.152344 -7.910156 L 1.296875 -7.910156 L 1.296875 -8.421875 C 1.296875 -9.277344 1.441406 -9.867188 1.726562 -10.1875 C 2.03125 -10.667969 2.761719 -10.90625 3.917969 -10.90625 Z M 3.917969 -10.90625 \"/>\n",
       "</symbol>\n",
       "<symbol overflow=\"visible\" id=\"glyph-2020-05-2357148.988056s0-11\">\n",
       "<path style=\"stroke:none;\" d=\"M 4.554688 -1.472656 C 5.164062 -1.472656 5.632812 -1.6875 5.960938 -2.125 C 6.289062 -2.558594 6.453125 -3.175781 6.453125 -3.976562 C 6.453125 -4.777344 6.289062 -5.394531 5.960938 -5.828125 C 5.632812 -6.257812 5.164062 -6.476562 4.554688 -6.476562 C 3.945312 -6.476562 3.476562 -6.257812 3.144531 -5.828125 C 2.816406 -5.394531 2.652344 -4.777344 2.652344 -3.976562 C 2.652344 -3.175781 2.816406 -2.558594 3.144531 -2.125 C 3.476562 -1.691406 3.945312 -1.472656 4.554688 -1.472656 Z M 8.640625 -3.976562 C 8.640625 -2.804688 8.304688 -1.804688 7.632812 -0.96875 C 6.957031 -0.136719 5.933594 0.277344 4.5625 0.277344 C 3.191406 0.277344 2.167969 -0.136719 1.492188 -0.96875 C 0.820312 -1.800781 0.484375 -2.804688 0.484375 -3.976562 C 0.484375 -5.128906 0.820312 -6.128906 1.492188 -6.972656 C 2.167969 -7.816406 3.191406 -8.238281 4.5625 -8.238281 C 5.933594 -8.238281 6.957031 -7.816406 7.632812 -6.972656 C 8.304688 -6.128906 8.640625 -5.128906 8.640625 -3.976562 Z M 8.640625 -3.976562 \"/>\n",
       "</symbol>\n",
       "<symbol overflow=\"visible\" id=\"glyph-2020-05-2357148.988056s0-12\">\n",
       "<path style=\"stroke:none;\" d=\"M 5.308594 -8.171875 C 5.347656 -8.171875 5.382812 -8.171875 5.410156 -8.171875 C 5.4375 -8.167969 5.496094 -8.164062 5.589844 -8.160156 L 5.589844 -6.019531 C 5.457031 -6.035156 5.339844 -6.046875 5.238281 -6.050781 C 5.132812 -6.054688 5.050781 -6.058594 4.988281 -6.058594 C 4.148438 -6.058594 3.585938 -5.785156 3.296875 -5.238281 C 3.136719 -4.929688 3.054688 -4.457031 3.054688 -3.816406 L 3.054688 0 L 0.953125 0 L 0.953125 -7.984375 L 2.945312 -7.984375 L 2.945312 -6.59375 C 3.265625 -7.125 3.546875 -7.488281 3.785156 -7.683594 C 4.175781 -8.011719 4.683594 -8.171875 5.308594 -8.171875 Z M 5.308594 -8.171875 \"/>\n",
       "</symbol>\n",
       "<symbol overflow=\"visible\" id=\"glyph-2020-05-2357148.988056s0-13\">\n",
       "<path style=\"stroke:none;\" d=\"M 4.09375 -4.078125 L 6.832031 -4.078125 L 5.484375 -8.328125 Z M 4.234375 -10.796875 L 6.78125 -10.796875 L 10.605469 0 L 8.160156 0 L 7.464844 -2.21875 L 3.484375 -2.21875 L 2.738281 0 L 0.382812 0 Z M 4.234375 -10.796875 \"/>\n",
       "</symbol>\n",
       "<symbol overflow=\"visible\" id=\"glyph-2020-05-2357148.988056s0-14\">\n",
       "<path style=\"stroke:none;\" d=\"M 3.105469 0 L 1.019531 0 L 1.019531 -10.796875 L 3.105469 -10.796875 Z M 3.105469 0 \"/>\n",
       "</symbol>\n",
       "<symbol overflow=\"visible\" id=\"glyph-2020-05-2357148.988056s0-15\">\n",
       "<path style=\"stroke:none;\" d=\"M 9.894531 -8.160156 C 10.246094 -8.160156 10.59375 -8.089844 10.933594 -7.953125 C 11.277344 -7.816406 11.585938 -7.578125 11.867188 -7.234375 C 12.089844 -6.957031 12.242188 -6.617188 12.320312 -6.210938 C 12.367188 -5.941406 12.390625 -5.550781 12.390625 -5.03125 L 12.378906 0 L 10.238281 0 L 10.238281 -5.082031 C 10.238281 -5.386719 10.191406 -5.632812 10.09375 -5.828125 C 9.90625 -6.199219 9.566406 -6.386719 9.066406 -6.386719 C 8.492188 -6.386719 8.09375 -6.148438 7.875 -5.667969 C 7.761719 -5.414062 7.703125 -5.109375 7.703125 -4.753906 L 7.703125 0 L 5.601562 0 L 5.601562 -4.753906 C 5.601562 -5.226562 5.554688 -5.570312 5.457031 -5.785156 C 5.28125 -6.171875 4.9375 -6.363281 4.421875 -6.363281 C 3.828125 -6.363281 3.429688 -6.171875 3.222656 -5.785156 C 3.109375 -5.566406 3.054688 -5.238281 3.054688 -4.804688 L 3.054688 0 L 0.9375 0 L 0.9375 -7.96875 L 2.964844 -7.96875 L 2.964844 -6.804688 C 3.226562 -7.21875 3.46875 -7.515625 3.699219 -7.691406 C 4.105469 -8.003906 4.628906 -8.160156 5.273438 -8.160156 C 5.882812 -8.160156 6.375 -8.023438 6.753906 -7.757812 C 7.054688 -7.507812 7.285156 -7.1875 7.441406 -6.796875 C 7.714844 -7.265625 8.054688 -7.609375 8.460938 -7.828125 C 8.890625 -8.046875 9.367188 -8.160156 9.894531 -8.160156 Z M 9.894531 -8.160156 \"/>\n",
       "</symbol>\n",
       "<symbol overflow=\"visible\" id=\"glyph-2020-05-2357148.988056s0-16\">\n",
       "<path style=\"stroke:none;\" d=\"M 3.917969 -8.171875 C 4.402344 -8.171875 4.832031 -8.066406 5.207031 -7.855469 C 5.582031 -7.644531 5.890625 -7.347656 6.125 -6.972656 L 6.125 -10.78125 L 8.238281 -10.78125 L 8.238281 0 L 6.210938 0 L 6.210938 -1.105469 C 5.914062 -0.632812 5.574219 -0.289062 5.191406 -0.0742188 C 4.8125 0.140625 4.339844 0.25 3.773438 0.25 C 2.839844 0.25 2.054688 -0.128906 1.417969 -0.882812 C 0.78125 -1.636719 0.460938 -2.605469 0.460938 -3.785156 C 0.460938 -5.148438 0.773438 -6.21875 1.402344 -7 C 2.03125 -7.78125 2.867188 -8.171875 3.917969 -8.171875 Z M 4.371094 -1.507812 C 4.960938 -1.507812 5.414062 -1.726562 5.71875 -2.167969 C 6.027344 -2.609375 6.179688 -3.175781 6.179688 -3.875 C 6.179688 -4.851562 5.933594 -5.550781 5.441406 -5.96875 C 5.140625 -6.222656 4.789062 -6.351562 4.386719 -6.351562 C 3.777344 -6.351562 3.328125 -6.121094 3.042969 -5.65625 C 2.757812 -5.195312 2.613281 -4.625 2.613281 -3.941406 C 2.613281 -3.203125 2.761719 -2.613281 3.050781 -2.171875 C 3.339844 -1.730469 3.78125 -1.507812 4.371094 -1.507812 Z M 4.371094 -1.507812 \"/>\n",
       "</symbol>\n",
       "<symbol overflow=\"visible\" id=\"glyph-2020-05-2357148.988056s1-0\">\n",
       "<path style=\"stroke:none;\" d=\"M 0.320312 0 L 0.320312 -7.171875 L 6.015625 -7.171875 L 6.015625 0 Z M 5.117188 -0.898438 L 5.117188 -6.273438 L 1.21875 -6.273438 L 1.21875 -0.898438 Z M 5.117188 -0.898438 \"/>\n",
       "</symbol>\n",
       "<symbol overflow=\"visible\" id=\"glyph-2020-05-2357148.988056s1-1\">\n",
       "<path style=\"stroke:none;\" d=\"M 2.703125 -6.992188 C 3.609375 -6.992188 4.265625 -6.621094 4.667969 -5.875 C 4.980469 -5.296875 5.136719 -4.507812 5.136719 -3.507812 C 5.136719 -2.554688 4.996094 -1.769531 4.710938 -1.148438 C 4.300781 -0.257812 3.632812 0.191406 2.699219 0.191406 C 1.859375 0.191406 1.234375 -0.175781 0.824219 -0.902344 C 0.484375 -1.511719 0.3125 -2.328125 0.3125 -3.355469 C 0.3125 -4.148438 0.414062 -4.832031 0.621094 -5.398438 C 1.003906 -6.460938 1.699219 -6.992188 2.703125 -6.992188 Z M 2.695312 -0.609375 C 3.152344 -0.609375 3.515625 -0.8125 3.785156 -1.214844 C 4.054688 -1.617188 4.1875 -2.371094 4.1875 -3.472656 C 4.1875 -4.265625 4.09375 -4.917969 3.898438 -5.433594 C 3.703125 -5.945312 3.320312 -6.203125 2.757812 -6.203125 C 2.242188 -6.203125 1.863281 -5.957031 1.625 -5.472656 C 1.382812 -4.984375 1.265625 -4.265625 1.265625 -3.320312 C 1.265625 -2.609375 1.339844 -2.035156 1.492188 -1.601562 C 1.726562 -0.941406 2.128906 -0.609375 2.695312 -0.609375 Z M 2.695312 -0.609375 \"/>\n",
       "</symbol>\n",
       "<symbol overflow=\"visible\" id=\"glyph-2020-05-2357148.988056s1-2\">\n",
       "<path style=\"stroke:none;\" d=\"M 0.957031 -4.953125 L 0.957031 -5.625 C 1.59375 -5.6875 2.035156 -5.789062 2.285156 -5.933594 C 2.535156 -6.078125 2.722656 -6.421875 2.847656 -6.960938 L 3.539062 -6.960938 L 3.539062 0 L 2.601562 0 L 2.601562 -4.953125 Z M 0.957031 -4.953125 \"/>\n",
       "</symbol>\n",
       "<symbol overflow=\"visible\" id=\"glyph-2020-05-2357148.988056s1-3\">\n",
       "<path style=\"stroke:none;\" d=\"M 0.3125 0 C 0.34375 -0.601562 0.46875 -1.125 0.6875 -1.570312 C 0.902344 -2.015625 1.324219 -2.421875 1.953125 -2.789062 L 2.890625 -3.328125 C 3.3125 -3.574219 3.605469 -3.78125 3.773438 -3.953125 C 4.039062 -4.226562 4.175781 -4.535156 4.175781 -4.882812 C 4.175781 -5.289062 4.054688 -5.613281 3.808594 -5.851562 C 3.5625 -6.089844 3.238281 -6.210938 2.832031 -6.210938 C 2.230469 -6.210938 1.8125 -5.984375 1.582031 -5.527344 C 1.457031 -5.28125 1.390625 -4.945312 1.375 -4.511719 L 0.484375 -4.511719 C 0.492188 -5.121094 0.605469 -5.617188 0.820312 -6 C 1.203125 -6.679688 1.875 -7.015625 2.835938 -7.015625 C 3.636719 -7.015625 4.222656 -6.800781 4.59375 -6.367188 C 4.960938 -5.933594 5.148438 -5.453125 5.148438 -4.921875 C 5.148438 -4.363281 4.949219 -3.882812 4.554688 -3.484375 C 4.328125 -3.253906 3.917969 -2.976562 3.328125 -2.648438 L 2.660156 -2.273438 C 2.34375 -2.097656 2.089844 -1.933594 1.910156 -1.773438 C 1.585938 -1.488281 1.378906 -1.175781 1.292969 -0.828125 L 5.113281 -0.828125 L 5.113281 0 Z M 0.3125 0 \"/>\n",
       "</symbol>\n",
       "<symbol overflow=\"visible\" id=\"glyph-2020-05-2357148.988056s1-4\">\n",
       "<path style=\"stroke:none;\" d=\"M 2.597656 0.191406 C 1.769531 0.191406 1.171875 -0.0351562 0.796875 -0.492188 C 0.425781 -0.945312 0.238281 -1.496094 0.238281 -2.148438 L 1.15625 -2.148438 C 1.195312 -1.695312 1.28125 -1.367188 1.410156 -1.164062 C 1.640625 -0.796875 2.050781 -0.609375 2.648438 -0.609375 C 3.109375 -0.609375 3.480469 -0.734375 3.757812 -0.980469 C 4.039062 -1.226562 4.179688 -1.546875 4.179688 -1.9375 C 4.179688 -2.421875 4.03125 -2.757812 3.738281 -2.949219 C 3.445312 -3.140625 3.035156 -3.238281 2.507812 -3.238281 C 2.449219 -3.238281 2.390625 -3.238281 2.332031 -3.234375 C 2.273438 -3.234375 2.210938 -3.230469 2.148438 -3.226562 L 2.148438 -4.003906 C 2.238281 -3.992188 2.316406 -3.988281 2.378906 -3.984375 C 2.441406 -3.980469 2.507812 -3.980469 2.578125 -3.980469 C 2.90625 -3.980469 3.175781 -4.03125 3.390625 -4.136719 C 3.761719 -4.320312 3.945312 -4.644531 3.945312 -5.113281 C 3.945312 -5.460938 3.820312 -5.730469 3.574219 -5.917969 C 3.328125 -6.105469 3.039062 -6.203125 2.710938 -6.203125 C 2.125 -6.203125 1.71875 -6.007812 1.492188 -5.617188 C 1.371094 -5.402344 1.300781 -5.09375 1.285156 -4.695312 L 0.414062 -4.695312 C 0.414062 -5.21875 0.519531 -5.660156 0.726562 -6.023438 C 1.085938 -6.675781 1.714844 -7 2.617188 -7 C 3.328125 -7 3.882812 -6.84375 4.273438 -6.527344 C 4.664062 -6.210938 4.859375 -5.75 4.859375 -5.148438 C 4.859375 -4.71875 4.742188 -4.367188 4.511719 -4.101562 C 4.367188 -3.9375 4.183594 -3.804688 3.953125 -3.710938 C 4.320312 -3.609375 4.609375 -3.414062 4.816406 -3.128906 C 5.023438 -2.839844 5.125 -2.488281 5.125 -2.070312 C 5.125 -1.402344 4.90625 -0.859375 4.46875 -0.4375 C 4.027344 -0.0195312 3.40625 0.191406 2.597656 0.191406 Z M 2.597656 0.191406 \"/>\n",
       "</symbol>\n",
       "<symbol overflow=\"visible\" id=\"glyph-2020-05-2357148.988056s1-5\">\n",
       "<path style=\"stroke:none;\" d=\"M 1.234375 -1.78125 C 1.292969 -1.28125 1.527344 -0.933594 1.933594 -0.742188 C 2.140625 -0.644531 2.382812 -0.59375 2.65625 -0.59375 C 3.175781 -0.59375 3.5625 -0.761719 3.8125 -1.09375 C 4.0625 -1.425781 4.1875 -1.792969 4.1875 -2.195312 C 4.1875 -2.683594 4.039062 -3.0625 3.742188 -3.328125 C 3.445312 -3.597656 3.085938 -3.730469 2.671875 -3.730469 C 2.367188 -3.730469 2.109375 -3.671875 1.890625 -3.554688 C 1.675781 -3.4375 1.492188 -3.273438 1.335938 -3.066406 L 0.578125 -3.109375 L 1.109375 -6.875 L 4.742188 -6.875 L 4.742188 -6.023438 L 1.765625 -6.023438 L 1.46875 -4.082031 C 1.632812 -4.207031 1.789062 -4.296875 1.933594 -4.359375 C 2.195312 -4.46875 2.496094 -4.523438 2.835938 -4.523438 C 3.476562 -4.523438 4.023438 -4.316406 4.46875 -3.902344 C 4.914062 -3.488281 5.136719 -2.964844 5.136719 -2.328125 C 5.136719 -1.667969 4.933594 -1.085938 4.523438 -0.582031 C 4.117188 -0.078125 3.464844 0.175781 2.570312 0.175781 C 2 0.175781 1.496094 0.015625 1.058594 -0.304688 C 0.621094 -0.625 0.375 -1.117188 0.320312 -1.78125 Z M 1.234375 -1.78125 \"/>\n",
       "</symbol>\n",
       "<symbol overflow=\"visible\" id=\"glyph-2020-05-2357148.988056s1-6\">\n",
       "<path style=\"stroke:none;\" d=\"M 5.230469 -6.875 L 5.230469 -6.109375 C 5.003906 -5.890625 4.707031 -5.511719 4.332031 -4.96875 C 3.960938 -4.429688 3.632812 -3.847656 3.34375 -3.222656 C 3.0625 -2.613281 2.847656 -2.058594 2.699219 -1.558594 C 2.605469 -1.234375 2.484375 -0.714844 2.335938 0 L 1.363281 0 C 1.585938 -1.335938 2.070312 -2.664062 2.828125 -3.984375 C 3.273438 -4.757812 3.742188 -5.429688 4.234375 -5.992188 L 0.367188 -5.992188 L 0.367188 -6.875 Z M 5.230469 -6.875 \"/>\n",
       "</symbol>\n",
       "<symbol overflow=\"visible\" id=\"glyph-2020-05-2357148.988056s1-7\">\n",
       "<path style=\"stroke:none;\" d=\"M 3.785156 -7.367188 C 4.691406 -7.367188 5.398438 -7.128906 5.898438 -6.648438 C 6.398438 -6.171875 6.679688 -5.628906 6.734375 -5.019531 L 5.785156 -5.019531 C 5.679688 -5.480469 5.464844 -5.847656 5.144531 -6.117188 C 4.824219 -6.386719 4.375 -6.523438 3.792969 -6.523438 C 3.085938 -6.523438 2.515625 -6.273438 2.082031 -5.777344 C 1.648438 -5.28125 1.429688 -4.523438 1.429688 -3.496094 C 1.429688 -2.65625 1.625 -1.976562 2.019531 -1.453125 C 2.410156 -0.929688 2.996094 -0.667969 3.773438 -0.667969 C 4.492188 -0.667969 5.035156 -0.945312 5.410156 -1.492188 C 5.609375 -1.78125 5.757812 -2.164062 5.855469 -2.636719 L 6.800781 -2.636719 C 6.71875 -1.882812 6.4375 -1.25 5.960938 -0.738281 C 5.390625 -0.121094 4.625 0.1875 3.65625 0.1875 C 2.824219 0.1875 2.125 -0.0664062 1.558594 -0.570312 C 0.8125 -1.238281 0.4375 -2.269531 0.4375 -3.664062 C 0.4375 -4.71875 0.71875 -5.585938 1.28125 -6.265625 C 1.886719 -7 2.71875 -7.367188 3.785156 -7.367188 Z M 3.785156 -7.367188 \"/>\n",
       "</symbol>\n",
       "<symbol overflow=\"visible\" id=\"glyph-2020-05-2357148.988056s1-8\">\n",
       "<path style=\"stroke:none;\" d=\"M 1.320312 -1.390625 C 1.320312 -1.136719 1.410156 -0.9375 1.597656 -0.789062 C 1.78125 -0.644531 2 -0.570312 2.257812 -0.570312 C 2.566406 -0.570312 2.863281 -0.644531 3.15625 -0.785156 C 3.644531 -1.023438 3.886719 -1.414062 3.886719 -1.953125 L 3.886719 -2.660156 C 3.78125 -2.59375 3.640625 -2.535156 3.472656 -2.492188 C 3.304688 -2.445312 3.136719 -2.414062 2.972656 -2.390625 L 2.441406 -2.324219 C 2.121094 -2.28125 1.882812 -2.214844 1.722656 -2.125 C 1.453125 -1.972656 1.320312 -1.726562 1.320312 -1.390625 Z M 3.445312 -3.167969 C 3.648438 -3.195312 3.785156 -3.28125 3.851562 -3.421875 C 3.890625 -3.5 3.910156 -3.613281 3.910156 -3.757812 C 3.910156 -4.058594 3.804688 -4.277344 3.589844 -4.410156 C 3.378906 -4.546875 3.074219 -4.613281 2.675781 -4.613281 C 2.21875 -4.613281 1.890625 -4.492188 1.699219 -4.242188 C 1.59375 -4.105469 1.523438 -3.902344 1.488281 -3.632812 L 0.667969 -3.632812 C 0.683594 -4.277344 0.894531 -4.726562 1.296875 -4.976562 C 1.699219 -5.230469 2.164062 -5.355469 2.695312 -5.355469 C 3.3125 -5.355469 3.808594 -5.238281 4.195312 -5.003906 C 4.574219 -4.769531 4.765625 -4.40625 4.765625 -3.910156 L 4.765625 -0.898438 C 4.765625 -0.808594 4.785156 -0.734375 4.820312 -0.679688 C 4.859375 -0.625 4.9375 -0.59375 5.058594 -0.59375 C 5.097656 -0.59375 5.140625 -0.597656 5.191406 -0.601562 C 5.238281 -0.609375 5.292969 -0.617188 5.347656 -0.625 L 5.347656 0.0234375 C 5.210938 0.0625 5.105469 0.0859375 5.035156 0.0976562 C 4.960938 0.109375 4.863281 0.113281 4.742188 0.113281 C 4.4375 0.113281 4.21875 0.00390625 4.082031 -0.210938 C 4.011719 -0.324219 3.960938 -0.484375 3.929688 -0.695312 C 3.75 -0.460938 3.496094 -0.253906 3.160156 -0.0820312 C 2.824219 0.0898438 2.453125 0.175781 2.050781 0.175781 C 1.566406 0.175781 1.167969 0.0273438 0.863281 -0.265625 C 0.554688 -0.5625 0.398438 -0.929688 0.398438 -1.371094 C 0.398438 -1.855469 0.550781 -2.234375 0.855469 -2.5 C 1.15625 -2.765625 1.554688 -2.929688 2.046875 -2.992188 Z M 3.445312 -3.167969 \"/>\n",
       "</symbol>\n",
       "<symbol overflow=\"visible\" id=\"glyph-2020-05-2357148.988056s1-9\">\n",
       "<path style=\"stroke:none;\" d=\"M 1.167969 -1.640625 C 1.195312 -1.347656 1.265625 -1.125 1.386719 -0.96875 C 1.609375 -0.683594 1.992188 -0.542969 2.539062 -0.542969 C 2.863281 -0.542969 3.152344 -0.613281 3.398438 -0.753906 C 3.644531 -0.894531 3.769531 -1.113281 3.769531 -1.410156 C 3.769531 -1.636719 3.671875 -1.804688 3.472656 -1.921875 C 3.34375 -1.996094 3.09375 -2.078125 2.71875 -2.171875 L 2.023438 -2.347656 C 1.578125 -2.460938 1.246094 -2.582031 1.035156 -2.71875 C 0.65625 -2.957031 0.46875 -3.285156 0.46875 -3.707031 C 0.46875 -4.203125 0.648438 -4.601562 1.003906 -4.90625 C 1.359375 -5.210938 1.839844 -5.367188 2.441406 -5.367188 C 3.230469 -5.367188 3.796875 -5.136719 4.144531 -4.671875 C 4.363281 -4.378906 4.46875 -4.0625 4.460938 -3.726562 L 3.632812 -3.726562 C 3.617188 -3.925781 3.546875 -4.105469 3.421875 -4.265625 C 3.21875 -4.5 2.871094 -4.613281 2.375 -4.613281 C 2.042969 -4.613281 1.789062 -4.550781 1.617188 -4.421875 C 1.445312 -4.296875 1.363281 -4.128906 1.363281 -3.921875 C 1.363281 -3.695312 1.476562 -3.511719 1.699219 -3.375 C 1.828125 -3.292969 2.023438 -3.222656 2.273438 -3.160156 L 2.855469 -3.015625 C 3.488281 -2.863281 3.910156 -2.714844 4.125 -2.574219 C 4.46875 -2.347656 4.640625 -1.996094 4.640625 -1.515625 C 4.640625 -1.046875 4.460938 -0.644531 4.109375 -0.308594 C 3.757812 0.03125 3.21875 0.199219 2.496094 0.199219 C 1.71875 0.199219 1.167969 0.0234375 0.84375 -0.328125 C 0.519531 -0.683594 0.34375 -1.121094 0.320312 -1.640625 Z M 1.167969 -1.640625 \"/>\n",
       "</symbol>\n",
       "<symbol overflow=\"visible\" id=\"glyph-2020-05-2357148.988056s1-10\">\n",
       "<path style=\"stroke:none;\" d=\"M 2.820312 -5.347656 C 3.191406 -5.347656 3.554688 -5.257812 3.902344 -5.085938 C 4.25 -4.910156 4.515625 -4.6875 4.695312 -4.410156 C 4.871094 -4.144531 4.992188 -3.835938 5.046875 -3.484375 C 5.101562 -3.246094 5.125 -2.859375 5.125 -2.335938 L 1.292969 -2.335938 C 1.308594 -1.804688 1.4375 -1.378906 1.671875 -1.058594 C 1.90625 -0.738281 2.265625 -0.578125 2.757812 -0.578125 C 3.21875 -0.578125 3.585938 -0.726562 3.859375 -1.03125 C 4.015625 -1.207031 4.125 -1.410156 4.1875 -1.640625 L 5.054688 -1.640625 C 5.03125 -1.449219 4.957031 -1.234375 4.828125 -1 C 4.699219 -0.761719 4.554688 -0.570312 4.394531 -0.421875 C 4.128906 -0.160156 3.796875 0.015625 3.402344 0.109375 C 3.191406 0.160156 2.953125 0.1875 2.6875 0.1875 C 2.035156 0.1875 1.484375 -0.0507812 1.03125 -0.523438 C 0.578125 -1 0.351562 -1.660156 0.351562 -2.515625 C 0.351562 -3.355469 0.578125 -4.035156 1.035156 -4.5625 C 1.492188 -5.085938 2.085938 -5.347656 2.820312 -5.347656 Z M 4.222656 -3.03125 C 4.1875 -3.414062 4.105469 -3.71875 3.976562 -3.945312 C 3.734375 -4.367188 3.332031 -4.578125 2.769531 -4.578125 C 2.367188 -4.578125 2.027344 -4.433594 1.753906 -4.144531 C 1.480469 -3.851562 1.335938 -3.480469 1.320312 -3.03125 Z M 4.222656 -3.03125 \"/>\n",
       "</symbol>\n",
       "<symbol overflow=\"visible\" id=\"glyph-2020-05-2357148.988056s1-11\">\n",
       "<path style=\"stroke:none;\" d=\"M 3.515625 -0.828125 C 3.84375 -0.828125 4.113281 -0.863281 4.328125 -0.933594 C 4.703125 -1.058594 5.011719 -1.304688 5.253906 -1.664062 C 5.445312 -1.953125 5.585938 -2.324219 5.667969 -2.777344 C 5.71875 -3.046875 5.742188 -3.300781 5.742188 -3.53125 C 5.742188 -4.417969 5.566406 -5.109375 5.210938 -5.601562 C 4.859375 -6.09375 4.289062 -6.335938 3.507812 -6.335938 L 1.78125 -6.335938 L 1.78125 -0.828125 Z M 0.804688 -7.171875 L 3.710938 -7.171875 C 4.695312 -7.171875 5.460938 -6.824219 6.007812 -6.125 C 6.492188 -5.492188 6.734375 -4.683594 6.734375 -3.695312 C 6.734375 -2.933594 6.589844 -2.246094 6.304688 -1.632812 C 5.800781 -0.542969 4.929688 0 3.703125 0 L 0.804688 0 Z M 0.804688 -7.171875 \"/>\n",
       "</symbol>\n",
       "<symbol overflow=\"visible\" id=\"glyph-2020-05-2357148.988056s1-12\">\n",
       "<path style=\"stroke:none;\" d=\"M 0.820312 -6.6875 L 1.710938 -6.6875 L 1.710938 -5.230469 L 2.542969 -5.230469 L 2.542969 -4.511719 L 1.710938 -4.511719 L 1.710938 -1.097656 C 1.710938 -0.914062 1.769531 -0.792969 1.894531 -0.734375 C 1.960938 -0.695312 2.078125 -0.679688 2.234375 -0.679688 C 2.277344 -0.679688 2.324219 -0.679688 2.375 -0.679688 C 2.421875 -0.683594 2.480469 -0.6875 2.542969 -0.695312 L 2.542969 0 C 2.441406 0.03125 2.339844 0.0507812 2.230469 0.0625 C 2.121094 0.078125 2 0.0820312 1.875 0.0820312 C 1.464844 0.0820312 1.1875 -0.0234375 1.039062 -0.230469 C 0.894531 -0.441406 0.820312 -0.714844 0.820312 -1.050781 L 0.820312 -4.511719 L 0.113281 -4.511719 L 0.113281 -5.230469 L 0.820312 -5.230469 Z M 0.820312 -6.6875 \"/>\n",
       "</symbol>\n",
       "<symbol overflow=\"visible\" id=\"glyph-2020-05-2357148.988056s1-13\">\n",
       "<path style=\"stroke:none;\" d=\"M 0.644531 -7.195312 L 1.523438 -7.195312 L 1.523438 -4.523438 C 1.730469 -4.785156 1.917969 -4.96875 2.085938 -5.078125 C 2.367188 -5.265625 2.722656 -5.355469 3.144531 -5.355469 C 3.902344 -5.355469 4.417969 -5.089844 4.6875 -4.5625 C 4.835938 -4.273438 4.90625 -3.867188 4.90625 -3.355469 L 4.90625 0 L 4.003906 0 L 4.003906 -3.296875 C 4.003906 -3.679688 3.953125 -3.960938 3.859375 -4.140625 C 3.699219 -4.425781 3.398438 -4.570312 2.960938 -4.570312 C 2.59375 -4.570312 2.265625 -4.445312 1.96875 -4.195312 C 1.671875 -3.945312 1.523438 -3.46875 1.523438 -2.773438 L 1.523438 0 L 0.644531 0 Z M 0.644531 -7.195312 \"/>\n",
       "</symbol>\n",
       "</g>\n",
       "<clipPath id=\"clip-2020-05-2357148.988056s1\">\n",
       "  <path d=\"M 44 64 L 359 64 L 359 250 L 44 250 Z M 44 64 \"/>\n",
       "</clipPath>\n",
       "<clipPath id=\"clip-2020-05-2357148.988056s2\">\n",
       "  <path d=\"M 44 243 L 359 243 L 359 250 L 44 250 Z M 44 243 \"/>\n",
       "</clipPath>\n",
       "</defs>\n",
       "<g id=\"surface43\">\n",
       "<rect x=\"0\" y=\"0\" width=\"450\" height=\"300\" style=\"fill:rgb(100%,100%,100%);fill-opacity:1;stroke:none;\"/>\n",
       "<g style=\"fill:rgb(0%,0%,0%);fill-opacity:1;\">\n",
       "  <use xlink:href=\"#glyph-2020-05-2357148.988056s0-1\" x=\"120.503906\" y=\"16.550781\"/>\n",
       "  <use xlink:href=\"#glyph-2020-05-2357148.988056s0-2\" x=\"131.336426\" y=\"16.550781\"/>\n",
       "  <use xlink:href=\"#glyph-2020-05-2357148.988056s0-3\" x=\"139.678711\" y=\"16.550781\"/>\n",
       "  <use xlink:href=\"#glyph-2020-05-2357148.988056s0-4\" x=\"148.020996\" y=\"16.550781\"/>\n",
       "  <use xlink:href=\"#glyph-2020-05-2357148.988056s0-3\" x=\"156.363281\" y=\"16.550781\"/>\n",
       "  <use xlink:href=\"#glyph-2020-05-2357148.988056s0-5\" x=\"164.705566\" y=\"16.550781\"/>\n",
       "  <use xlink:href=\"#glyph-2020-05-2357148.988056s0-6\" x=\"168.873047\" y=\"16.550781\"/>\n",
       "  <use xlink:href=\"#glyph-2020-05-2357148.988056s0-3\" x=\"177.215332\" y=\"16.550781\"/>\n",
       "  <use xlink:href=\"#glyph-2020-05-2357148.988056s0-5\" x=\"185.557617\" y=\"16.550781\"/>\n",
       "  <use xlink:href=\"#glyph-2020-05-2357148.988056s0-7\" x=\"189.725098\" y=\"16.550781\"/>\n",
       "  <use xlink:href=\"#glyph-2020-05-2357148.988056s0-4\" x=\"200.557617\" y=\"16.550781\"/>\n",
       "  <use xlink:href=\"#glyph-2020-05-2357148.988056s0-2\" x=\"208.899902\" y=\"16.550781\"/>\n",
       "  <use xlink:href=\"#glyph-2020-05-2357148.988056s0-8\" x=\"217.242188\" y=\"16.550781\"/>\n",
       "  <use xlink:href=\"#glyph-2020-05-2357148.988056s0-9\" x=\"222.237305\" y=\"16.550781\"/>\n",
       "  <use xlink:href=\"#glyph-2020-05-2357148.988056s0-3\" x=\"231.399902\" y=\"16.550781\"/>\n",
       "  <use xlink:href=\"#glyph-2020-05-2357148.988056s0-5\" x=\"239.742188\" y=\"16.550781\"/>\n",
       "  <use xlink:href=\"#glyph-2020-05-2357148.988056s0-10\" x=\"243.909668\" y=\"16.550781\"/>\n",
       "  <use xlink:href=\"#glyph-2020-05-2357148.988056s0-11\" x=\"248.904785\" y=\"16.550781\"/>\n",
       "  <use xlink:href=\"#glyph-2020-05-2357148.988056s0-12\" x=\"258.067383\" y=\"16.550781\"/>\n",
       "  <use xlink:href=\"#glyph-2020-05-2357148.988056s0-5\" x=\"263.904785\" y=\"16.550781\"/>\n",
       "  <use xlink:href=\"#glyph-2020-05-2357148.988056s0-13\" x=\"268.072266\" y=\"16.550781\"/>\n",
       "  <use xlink:href=\"#glyph-2020-05-2357148.988056s0-14\" x=\"278.904785\" y=\"16.550781\"/>\n",
       "  <use xlink:href=\"#glyph-2020-05-2357148.988056s0-2\" x=\"283.072266\" y=\"16.550781\"/>\n",
       "  <use xlink:href=\"#glyph-2020-05-2357148.988056s0-15\" x=\"291.414551\" y=\"16.550781\"/>\n",
       "  <use xlink:href=\"#glyph-2020-05-2357148.988056s0-4\" x=\"304.751953\" y=\"16.550781\"/>\n",
       "  <use xlink:href=\"#glyph-2020-05-2357148.988056s0-16\" x=\"313.094238\" y=\"16.550781\"/>\n",
       "  <use xlink:href=\"#glyph-2020-05-2357148.988056s0-2\" x=\"322.256836\" y=\"16.550781\"/>\n",
       "</g>\n",
       "<path style=\"fill:none;stroke-width:1;stroke-linecap:butt;stroke-linejoin:miter;stroke:rgb(82.745098%,82.745098%,82.745098%);stroke-opacity:1;stroke-dasharray:5,5;stroke-miterlimit:10;\" d=\"M 0 0 L 0 215 \" transform=\"matrix(1,0,0,1,41.582031,35)\"/>\n",
       "<path style=\"fill:none;stroke-width:1;stroke-linecap:butt;stroke-linejoin:miter;stroke:rgb(82.745098%,82.745098%,82.745098%);stroke-opacity:1;stroke-dasharray:5,5;stroke-miterlimit:10;\" d=\"M 97.691406 0 L 97.691406 215 \" transform=\"matrix(1,0,0,1,41.582031,35)\"/>\n",
       "<path style=\"fill:none;stroke-width:1;stroke-linecap:butt;stroke-linejoin:miter;stroke:rgb(82.745098%,82.745098%,82.745098%);stroke-opacity:1;stroke-dasharray:5,5;stroke-miterlimit:10;\" d=\"M 195.382812 0 L 195.382812 215 \" transform=\"matrix(1,0,0,1,41.582031,35)\"/>\n",
       "<path style=\"fill:none;stroke-width:1;stroke-linecap:butt;stroke-linejoin:miter;stroke:rgb(82.745098%,82.745098%,82.745098%);stroke-opacity:1;stroke-dasharray:5,5;stroke-miterlimit:10;\" d=\"M 293.074219 0 L 293.074219 215 \" transform=\"matrix(1,0,0,1,41.582031,35)\"/>\n",
       "<path style=\"fill:none;stroke-width:1;stroke-linecap:butt;stroke-linejoin:miter;stroke:rgb(82.745098%,82.745098%,82.745098%);stroke-opacity:1;stroke-dasharray:5,5;stroke-miterlimit:10;\" d=\"M 390.765625 0 L 390.765625 215 \" transform=\"matrix(1,0,0,1,41.582031,35)\"/>\n",
       "<path style=\"fill:none;stroke-width:1;stroke-linecap:butt;stroke-linejoin:miter;stroke:rgb(82.745098%,82.745098%,82.745098%);stroke-opacity:1;stroke-dasharray:5,5;stroke-miterlimit:10;\" d=\"M 0 215 L 390.765625 215 \" transform=\"matrix(1,0,0,1,41.582031,35)\"/>\n",
       "<path style=\"fill:none;stroke-width:1;stroke-linecap:butt;stroke-linejoin:miter;stroke:rgb(82.745098%,82.745098%,82.745098%);stroke-opacity:1;stroke-dasharray:5,5;stroke-miterlimit:10;\" d=\"M 0 143.332031 L 390.765625 143.332031 \" transform=\"matrix(1,0,0,1,41.582031,35)\"/>\n",
       "<path style=\"fill:none;stroke-width:1;stroke-linecap:butt;stroke-linejoin:miter;stroke:rgb(82.745098%,82.745098%,82.745098%);stroke-opacity:1;stroke-dasharray:5,5;stroke-miterlimit:10;\" d=\"M 0 71.667969 L 390.765625 71.667969 \" transform=\"matrix(1,0,0,1,41.582031,35)\"/>\n",
       "<path style=\"fill:none;stroke-width:1;stroke-linecap:butt;stroke-linejoin:miter;stroke:rgb(82.745098%,82.745098%,82.745098%);stroke-opacity:1;stroke-dasharray:5,5;stroke-miterlimit:10;\" d=\"M 0 0 L 390.765625 0 \" transform=\"matrix(1,0,0,1,41.582031,35)\"/>\n",
       "<g clip-path=\"url(#clip-2020-05-2357148.988056s1)\" clip-rule=\"nonzero\">\n",
       "<path style=\"fill:none;stroke-width:1;stroke-linecap:round;stroke-linejoin:round;stroke:rgb(0%,0%,100%);stroke-opacity:1;stroke-miterlimit:10;\" d=\"M 3.90625 214.929688 L 7.816406 214.929688 L 11.722656 214.855469 L 19.539062 214.855469 L 23.445312 214.785156 L 31.261719 214.785156 L 35.167969 213.28125 L 39.078125 213.207031 L 42.984375 213.207031 L 46.890625 212.921875 L 54.707031 212.921875 L 58.613281 212.347656 L 62.523438 212.132812 L 66.429688 211.488281 L 70.339844 211.203125 L 74.246094 210.914062 L 78.152344 210.199219 L 82.0625 208.765625 L 85.96875 205.898438 L 89.875 205.039062 L 93.785156 204.179688 L 97.691406 203.820312 L 101.597656 200.738281 L 105.507812 197.726562 L 109.414062 195.148438 L 113.324219 194.144531 L 117.230469 193.214844 L 121.136719 191.0625 L 125.046875 187.765625 L 128.953125 185.113281 L 132.859375 181.746094 L 136.769531 181.746094 L 140.675781 172.933594 L 144.582031 171.355469 L 148.492188 168.058594 L 152.398438 165.191406 L 156.308594 162.398438 L 160.214844 160.101562 L 164.121094 155.730469 L 168.03125 153.078125 L 171.9375 150 L 175.84375 149.925781 L 179.753906 144.550781 L 183.660156 138.386719 L 187.566406 137.3125 L 191.476562 133.660156 L 195.382812 130.074219 L 199.289062 128.140625 L 203.199219 124.699219 L 207.105469 124.699219 L 211.015625 118.25 L 214.921875 113.089844 L 218.828125 110.511719 L 222.738281 108.289062 L 226.644531 106.136719 L 230.550781 103.628906 L 234.460938 101.121094 L 238.367188 98.613281 L 242.273438 96.25 L 246.183594 91.304688 L 250.089844 88.148438 L 254 86.214844 L 257.90625 83.851562 L 261.8125 79.980469 L 265.722656 76.109375 L 269.628906 72.957031 L 273.535156 68.511719 L 277.445312 65.574219 L 281.351562 62.921875 L 285.257812 60.628906 L 289.167969 57.40625 L 293.074219 57.191406 L 296.984375 48.660156 L 300.890625 45.007812 L 304.796875 42.066406 L 308.707031 37.410156 L 312.613281 32.75 L 316.519531 30.027344 \" transform=\"matrix(1,0,0,1,41.582031,35)\"/>\n",
       "</g>\n",
       "<g clip-path=\"url(#clip-2020-05-2357148.988056s2)\" clip-rule=\"nonzero\">\n",
       "<path style=\"fill:none;stroke-width:1;stroke-linecap:round;stroke-linejoin:round;stroke:rgb(100%,0%,0%);stroke-opacity:1;stroke-miterlimit:10;\" d=\"M 3.90625 215 L 85.96875 215 L 89.875 214.929688 L 93.785156 214.855469 L 97.691406 214.855469 L 101.597656 214.714844 L 105.507812 214.714844 L 109.414062 214.570312 L 113.324219 214.570312 L 117.230469 214.5 L 121.136719 214.5 L 125.046875 214.425781 L 128.953125 214.355469 L 132.859375 214.140625 L 140.675781 214.140625 L 144.582031 214.066406 L 148.492188 213.925781 L 152.398438 213.851562 L 156.308594 213.78125 L 160.214844 213.566406 L 164.121094 213.496094 L 168.03125 213.351562 L 175.84375 213.351562 L 179.753906 212.421875 L 183.660156 212.132812 L 187.566406 212.132812 L 191.476562 212.0625 L 195.382812 211.988281 L 199.289062 211.988281 L 203.199219 211.917969 L 207.105469 211.917969 L 211.015625 211.558594 L 214.921875 211.558594 L 218.828125 211.273438 L 222.738281 211.273438 L 226.644531 210.988281 L 230.550781 210.773438 L 234.460938 210.773438 L 238.367188 210.484375 L 250.089844 210.484375 L 254 210.339844 L 257.90625 210.269531 L 261.8125 210.054688 L 265.722656 210.054688 L 269.628906 209.984375 L 273.535156 209.839844 L 277.445312 209.625 L 285.257812 209.625 L 289.167969 209.265625 L 293.074219 209.265625 L 296.984375 208.980469 L 300.890625 208.910156 L 308.707031 208.910156 L 312.613281 208.691406 L 316.519531 208.691406 \" transform=\"matrix(1,0,0,1,41.582031,35)\"/>\n",
       "</g>\n",
       "<path style=\"fill:none;stroke-width:1;stroke-linecap:square;stroke-linejoin:miter;stroke:rgb(0%,0%,0%);stroke-opacity:1;stroke-miterlimit:10;\" d=\"M 31.582031 215 L 31.582031 0 \" transform=\"matrix(1,0,0,1,10,35)\"/>\n",
       "<path style=\"fill:none;stroke-width:1;stroke-linecap:butt;stroke-linejoin:miter;stroke:rgb(0%,0%,0%);stroke-opacity:1;stroke-miterlimit:10;\" d=\"M 31.582031 215 L 33.582031 215 \" transform=\"matrix(1,0,0,1,10,35)\"/>\n",
       "<path style=\"fill:none;stroke-width:1;stroke-linecap:butt;stroke-linejoin:miter;stroke:rgb(0%,0%,0%);stroke-opacity:1;stroke-miterlimit:10;\" d=\"M 31.582031 197.082031 L 33.582031 197.082031 \" transform=\"matrix(1,0,0,1,10,35)\"/>\n",
       "<path style=\"fill:none;stroke-width:1;stroke-linecap:butt;stroke-linejoin:miter;stroke:rgb(0%,0%,0%);stroke-opacity:1;stroke-miterlimit:10;\" d=\"M 31.582031 179.167969 L 33.582031 179.167969 \" transform=\"matrix(1,0,0,1,10,35)\"/>\n",
       "<path style=\"fill:none;stroke-width:1;stroke-linecap:butt;stroke-linejoin:miter;stroke:rgb(0%,0%,0%);stroke-opacity:1;stroke-miterlimit:10;\" d=\"M 31.582031 161.25 L 33.582031 161.25 \" transform=\"matrix(1,0,0,1,10,35)\"/>\n",
       "<path style=\"fill:none;stroke-width:1;stroke-linecap:butt;stroke-linejoin:miter;stroke:rgb(0%,0%,0%);stroke-opacity:1;stroke-miterlimit:10;\" d=\"M 31.582031 143.332031 L 33.582031 143.332031 \" transform=\"matrix(1,0,0,1,10,35)\"/>\n",
       "<path style=\"fill:none;stroke-width:1;stroke-linecap:butt;stroke-linejoin:miter;stroke:rgb(0%,0%,0%);stroke-opacity:1;stroke-miterlimit:10;\" d=\"M 31.582031 125.417969 L 33.582031 125.417969 \" transform=\"matrix(1,0,0,1,10,35)\"/>\n",
       "<path style=\"fill:none;stroke-width:1;stroke-linecap:butt;stroke-linejoin:miter;stroke:rgb(0%,0%,0%);stroke-opacity:1;stroke-miterlimit:10;\" d=\"M 31.582031 107.5 L 33.582031 107.5 \" transform=\"matrix(1,0,0,1,10,35)\"/>\n",
       "<path style=\"fill:none;stroke-width:1;stroke-linecap:butt;stroke-linejoin:miter;stroke:rgb(0%,0%,0%);stroke-opacity:1;stroke-miterlimit:10;\" d=\"M 31.582031 89.582031 L 33.582031 89.582031 \" transform=\"matrix(1,0,0,1,10,35)\"/>\n",
       "<path style=\"fill:none;stroke-width:1;stroke-linecap:butt;stroke-linejoin:miter;stroke:rgb(0%,0%,0%);stroke-opacity:1;stroke-miterlimit:10;\" d=\"M 31.582031 71.667969 L 33.582031 71.667969 \" transform=\"matrix(1,0,0,1,10,35)\"/>\n",
       "<path style=\"fill:none;stroke-width:1;stroke-linecap:butt;stroke-linejoin:miter;stroke:rgb(0%,0%,0%);stroke-opacity:1;stroke-miterlimit:10;\" d=\"M 31.582031 53.75 L 33.582031 53.75 \" transform=\"matrix(1,0,0,1,10,35)\"/>\n",
       "<path style=\"fill:none;stroke-width:1;stroke-linecap:butt;stroke-linejoin:miter;stroke:rgb(0%,0%,0%);stroke-opacity:1;stroke-miterlimit:10;\" d=\"M 31.582031 35.832031 L 33.582031 35.832031 \" transform=\"matrix(1,0,0,1,10,35)\"/>\n",
       "<path style=\"fill:none;stroke-width:1;stroke-linecap:butt;stroke-linejoin:miter;stroke:rgb(0%,0%,0%);stroke-opacity:1;stroke-miterlimit:10;\" d=\"M 31.582031 17.917969 L 33.582031 17.917969 \" transform=\"matrix(1,0,0,1,10,35)\"/>\n",
       "<path style=\"fill:none;stroke-width:1;stroke-linecap:butt;stroke-linejoin:miter;stroke:rgb(0%,0%,0%);stroke-opacity:1;stroke-miterlimit:10;\" d=\"M 31.582031 0 L 33.582031 0 \" transform=\"matrix(1,0,0,1,10,35)\"/>\n",
       "<path style=\"fill:none;stroke-width:1;stroke-linecap:butt;stroke-linejoin:miter;stroke:rgb(0%,0%,0%);stroke-opacity:1;stroke-miterlimit:10;\" d=\"M 31.582031 215 L 36.582031 215 \" transform=\"matrix(1,0,0,1,10,35)\"/>\n",
       "<path style=\"fill:none;stroke-width:1;stroke-linecap:butt;stroke-linejoin:miter;stroke:rgb(0%,0%,0%);stroke-opacity:1;stroke-miterlimit:10;\" d=\"M 31.582031 143.332031 L 36.582031 143.332031 \" transform=\"matrix(1,0,0,1,10,35)\"/>\n",
       "<path style=\"fill:none;stroke-width:1;stroke-linecap:butt;stroke-linejoin:miter;stroke:rgb(0%,0%,0%);stroke-opacity:1;stroke-miterlimit:10;\" d=\"M 31.582031 71.667969 L 36.582031 71.667969 \" transform=\"matrix(1,0,0,1,10,35)\"/>\n",
       "<path style=\"fill:none;stroke-width:1;stroke-linecap:butt;stroke-linejoin:miter;stroke:rgb(0%,0%,0%);stroke-opacity:1;stroke-miterlimit:10;\" d=\"M 31.582031 0 L 36.582031 0 \" transform=\"matrix(1,0,0,1,10,35)\"/>\n",
       "<g style=\"fill:rgb(0%,0%,0%);fill-opacity:1;\">\n",
       "  <use xlink:href=\"#glyph-2020-05-2357148.988056s1-1\" x=\"26.757812\" y=\"253.496094\"/>\n",
       "</g>\n",
       "<g style=\"fill:rgb(0%,0%,0%);fill-opacity:1;\">\n",
       "  <use xlink:href=\"#glyph-2020-05-2357148.988056s1-2\" x=\"10.71875\" y=\"181.828125\"/>\n",
       "  <use xlink:href=\"#glyph-2020-05-2357148.988056s1-1\" x=\"16.280273\" y=\"181.828125\"/>\n",
       "  <use xlink:href=\"#glyph-2020-05-2357148.988056s1-1\" x=\"21.841797\" y=\"181.828125\"/>\n",
       "  <use xlink:href=\"#glyph-2020-05-2357148.988056s1-1\" x=\"27.40332\" y=\"181.828125\"/>\n",
       "</g>\n",
       "<g style=\"fill:rgb(0%,0%,0%);fill-opacity:1;\">\n",
       "  <use xlink:href=\"#glyph-2020-05-2357148.988056s1-3\" x=\"10.074219\" y=\"110.175781\"/>\n",
       "  <use xlink:href=\"#glyph-2020-05-2357148.988056s1-1\" x=\"15.635742\" y=\"110.175781\"/>\n",
       "  <use xlink:href=\"#glyph-2020-05-2357148.988056s1-1\" x=\"21.197266\" y=\"110.175781\"/>\n",
       "  <use xlink:href=\"#glyph-2020-05-2357148.988056s1-1\" x=\"26.758789\" y=\"110.175781\"/>\n",
       "</g>\n",
       "<g style=\"fill:rgb(0%,0%,0%);fill-opacity:1;\">\n",
       "  <use xlink:href=\"#glyph-2020-05-2357148.988056s1-4\" x=\"10\" y=\"38.5\"/>\n",
       "  <use xlink:href=\"#glyph-2020-05-2357148.988056s1-1\" x=\"15.561523\" y=\"38.5\"/>\n",
       "  <use xlink:href=\"#glyph-2020-05-2357148.988056s1-1\" x=\"21.123047\" y=\"38.5\"/>\n",
       "  <use xlink:href=\"#glyph-2020-05-2357148.988056s1-1\" x=\"26.68457\" y=\"38.5\"/>\n",
       "</g>\n",
       "<path style=\"fill:none;stroke-width:1;stroke-linecap:square;stroke-linejoin:miter;stroke:rgb(0%,0%,0%);stroke-opacity:1;stroke-miterlimit:10;\" d=\"M 0 0 L 390.765625 0 \" transform=\"matrix(1,0,0,1,41.582031,250)\"/>\n",
       "<path style=\"fill:none;stroke-width:1;stroke-linecap:butt;stroke-linejoin:miter;stroke:rgb(0%,0%,0%);stroke-opacity:1;stroke-miterlimit:10;\" d=\"M 0 0 L 0 -2 \" transform=\"matrix(1,0,0,1,41.582031,250)\"/>\n",
       "<path style=\"fill:none;stroke-width:1;stroke-linecap:butt;stroke-linejoin:miter;stroke:rgb(0%,0%,0%);stroke-opacity:1;stroke-miterlimit:10;\" d=\"M 39.078125 0 L 39.078125 -2 \" transform=\"matrix(1,0,0,1,41.582031,250)\"/>\n",
       "<path style=\"fill:none;stroke-width:1;stroke-linecap:butt;stroke-linejoin:miter;stroke:rgb(0%,0%,0%);stroke-opacity:1;stroke-miterlimit:10;\" d=\"M 78.152344 0 L 78.152344 -2 \" transform=\"matrix(1,0,0,1,41.582031,250)\"/>\n",
       "<path style=\"fill:none;stroke-width:1;stroke-linecap:butt;stroke-linejoin:miter;stroke:rgb(0%,0%,0%);stroke-opacity:1;stroke-miterlimit:10;\" d=\"M 117.230469 0 L 117.230469 -2 \" transform=\"matrix(1,0,0,1,41.582031,250)\"/>\n",
       "<path style=\"fill:none;stroke-width:1;stroke-linecap:butt;stroke-linejoin:miter;stroke:rgb(0%,0%,0%);stroke-opacity:1;stroke-miterlimit:10;\" d=\"M 156.308594 0 L 156.308594 -2 \" transform=\"matrix(1,0,0,1,41.582031,250)\"/>\n",
       "<path style=\"fill:none;stroke-width:1;stroke-linecap:butt;stroke-linejoin:miter;stroke:rgb(0%,0%,0%);stroke-opacity:1;stroke-miterlimit:10;\" d=\"M 195.382812 0 L 195.382812 -2 \" transform=\"matrix(1,0,0,1,41.582031,250)\"/>\n",
       "<path style=\"fill:none;stroke-width:1;stroke-linecap:butt;stroke-linejoin:miter;stroke:rgb(0%,0%,0%);stroke-opacity:1;stroke-miterlimit:10;\" d=\"M 234.460938 0 L 234.460938 -2 \" transform=\"matrix(1,0,0,1,41.582031,250)\"/>\n",
       "<path style=\"fill:none;stroke-width:1;stroke-linecap:butt;stroke-linejoin:miter;stroke:rgb(0%,0%,0%);stroke-opacity:1;stroke-miterlimit:10;\" d=\"M 273.535156 0 L 273.535156 -2 \" transform=\"matrix(1,0,0,1,41.582031,250)\"/>\n",
       "<path style=\"fill:none;stroke-width:1;stroke-linecap:butt;stroke-linejoin:miter;stroke:rgb(0%,0%,0%);stroke-opacity:1;stroke-miterlimit:10;\" d=\"M 312.613281 0 L 312.613281 -2 \" transform=\"matrix(1,0,0,1,41.582031,250)\"/>\n",
       "<path style=\"fill:none;stroke-width:1;stroke-linecap:butt;stroke-linejoin:miter;stroke:rgb(0%,0%,0%);stroke-opacity:1;stroke-miterlimit:10;\" d=\"M 351.691406 0 L 351.691406 -2 \" transform=\"matrix(1,0,0,1,41.582031,250)\"/>\n",
       "<path style=\"fill:none;stroke-width:1;stroke-linecap:butt;stroke-linejoin:miter;stroke:rgb(0%,0%,0%);stroke-opacity:1;stroke-miterlimit:10;\" d=\"M 390.765625 0 L 390.765625 -2 \" transform=\"matrix(1,0,0,1,41.582031,250)\"/>\n",
       "<path style=\"fill:none;stroke-width:1;stroke-linecap:butt;stroke-linejoin:miter;stroke:rgb(0%,0%,0%);stroke-opacity:1;stroke-miterlimit:10;\" d=\"M 0 0 L 0 -5 \" transform=\"matrix(1,0,0,1,41.582031,250)\"/>\n",
       "<path style=\"fill:none;stroke-width:1;stroke-linecap:butt;stroke-linejoin:miter;stroke:rgb(0%,0%,0%);stroke-opacity:1;stroke-miterlimit:10;\" d=\"M 97.691406 0 L 97.691406 -5 \" transform=\"matrix(1,0,0,1,41.582031,250)\"/>\n",
       "<path style=\"fill:none;stroke-width:1;stroke-linecap:butt;stroke-linejoin:miter;stroke:rgb(0%,0%,0%);stroke-opacity:1;stroke-miterlimit:10;\" d=\"M 195.382812 0 L 195.382812 -5 \" transform=\"matrix(1,0,0,1,41.582031,250)\"/>\n",
       "<path style=\"fill:none;stroke-width:1;stroke-linecap:butt;stroke-linejoin:miter;stroke:rgb(0%,0%,0%);stroke-opacity:1;stroke-miterlimit:10;\" d=\"M 293.074219 0 L 293.074219 -5 \" transform=\"matrix(1,0,0,1,41.582031,250)\"/>\n",
       "<path style=\"fill:none;stroke-width:1;stroke-linecap:butt;stroke-linejoin:miter;stroke:rgb(0%,0%,0%);stroke-opacity:1;stroke-miterlimit:10;\" d=\"M 390.765625 0 L 390.765625 -5 \" transform=\"matrix(1,0,0,1,41.582031,250)\"/>\n",
       "<g style=\"fill:rgb(0%,0%,0%);fill-opacity:1;\">\n",
       "  <use xlink:href=\"#glyph-2020-05-2357148.988056s1-1\" x=\"39.171875\" y=\"267.699219\"/>\n",
       "</g>\n",
       "<g style=\"fill:rgb(0%,0%,0%);fill-opacity:1;\">\n",
       "  <use xlink:href=\"#glyph-2020-05-2357148.988056s1-3\" x=\"134.082031\" y=\"267.699219\"/>\n",
       "  <use xlink:href=\"#glyph-2020-05-2357148.988056s1-5\" x=\"139.643555\" y=\"267.699219\"/>\n",
       "</g>\n",
       "<g style=\"fill:rgb(0%,0%,0%);fill-opacity:1;\">\n",
       "  <use xlink:href=\"#glyph-2020-05-2357148.988056s1-5\" x=\"231.777344\" y=\"267.699219\"/>\n",
       "  <use xlink:href=\"#glyph-2020-05-2357148.988056s1-1\" x=\"237.338867\" y=\"267.699219\"/>\n",
       "</g>\n",
       "<g style=\"fill:rgb(0%,0%,0%);fill-opacity:1;\">\n",
       "  <use xlink:href=\"#glyph-2020-05-2357148.988056s1-6\" x=\"329.492188\" y=\"267.699219\"/>\n",
       "  <use xlink:href=\"#glyph-2020-05-2357148.988056s1-5\" x=\"335.053711\" y=\"267.699219\"/>\n",
       "</g>\n",
       "<g style=\"fill:rgb(0%,0%,0%);fill-opacity:1;\">\n",
       "  <use xlink:href=\"#glyph-2020-05-2357148.988056s1-2\" x=\"424.695312\" y=\"267.699219\"/>\n",
       "  <use xlink:href=\"#glyph-2020-05-2357148.988056s1-1\" x=\"430.256836\" y=\"267.699219\"/>\n",
       "  <use xlink:href=\"#glyph-2020-05-2357148.988056s1-1\" x=\"435.818359\" y=\"267.699219\"/>\n",
       "</g>\n",
       "<path style=\"fill:none;stroke-width:1;stroke-linecap:round;stroke-linejoin:round;stroke:rgb(0%,0%,100%);stroke-opacity:1;stroke-miterlimit:10;\" d=\"M 0 5 L 20 5 \" transform=\"matrix(1,0,0,1,10,280)\"/>\n",
       "<g style=\"fill:rgb(0%,0%,0%);fill-opacity:1;\">\n",
       "  <use xlink:href=\"#glyph-2020-05-2357148.988056s1-7\" x=\"36.296875\" y=\"287.699219\"/>\n",
       "  <use xlink:href=\"#glyph-2020-05-2357148.988056s1-8\" x=\"43.518555\" y=\"287.699219\"/>\n",
       "  <use xlink:href=\"#glyph-2020-05-2357148.988056s1-9\" x=\"49.080078\" y=\"287.699219\"/>\n",
       "  <use xlink:href=\"#glyph-2020-05-2357148.988056s1-10\" x=\"54.080078\" y=\"287.699219\"/>\n",
       "  <use xlink:href=\"#glyph-2020-05-2357148.988056s1-9\" x=\"59.641602\" y=\"287.699219\"/>\n",
       "</g>\n",
       "<path style=\"fill:none;stroke-width:1;stroke-linecap:round;stroke-linejoin:round;stroke:rgb(100%,0%,0%);stroke-opacity:1;stroke-miterlimit:10;\" d=\"M 0.000976562 5 L 20.000977 5 \" transform=\"matrix(1,0,0,1,83.842773,280)\"/>\n",
       "<g style=\"fill:rgb(0%,0%,0%);fill-opacity:1;\">\n",
       "  <use xlink:href=\"#glyph-2020-05-2357148.988056s1-11\" x=\"110.140625\" y=\"287.699219\"/>\n",
       "  <use xlink:href=\"#glyph-2020-05-2357148.988056s1-10\" x=\"117.362305\" y=\"287.699219\"/>\n",
       "  <use xlink:href=\"#glyph-2020-05-2357148.988056s1-8\" x=\"122.923828\" y=\"287.699219\"/>\n",
       "  <use xlink:href=\"#glyph-2020-05-2357148.988056s1-12\" x=\"128.485352\" y=\"287.699219\"/>\n",
       "  <use xlink:href=\"#glyph-2020-05-2357148.988056s1-13\" x=\"131.263672\" y=\"287.699219\"/>\n",
       "  <use xlink:href=\"#glyph-2020-05-2357148.988056s1-9\" x=\"136.825195\" y=\"287.699219\"/>\n",
       "</g>\n",
       "</g>\n",
       "</svg>\n"
      ]
     },
     "metadata": {},
     "output_type": "display_data"
    }
   ],
   "source": [
    "countyChart \"Alameda\""
   ]
  }
 ],
 "metadata": {
  "kernelspec": {
   "display_name": "Haskell",
   "language": "haskell",
   "name": "haskell"
  },
  "language_info": {
   "codemirror_mode": "ihaskell",
   "file_extension": ".hs",
   "name": "haskell",
   "pygments_lexer": "Haskell",
   "version": "8.6.5"
  }
 },
 "nbformat": 4,
 "nbformat_minor": 4
}

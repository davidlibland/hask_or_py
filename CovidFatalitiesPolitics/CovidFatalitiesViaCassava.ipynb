{
 "cells": [
  {
   "cell_type": "markdown",
   "metadata": {},
   "source": [
    "In this notebook, we'll use cassava and discrimination to plot a histogram of comparative covid fatalities rates between counties that voted Democrat or Republican in 2016. "
   ]
  },
  {
   "cell_type": "markdown",
   "metadata": {},
   "source": [
    "First we import some libraries"
   ]
  },
  {
   "cell_type": "code",
   "execution_count": 1,
   "metadata": {},
   "outputs": [
    {
     "data": {
      "text/html": [
       "<style>/* Styles used for the Hoogle display in the pager */\n",
       ".hoogle-doc {\n",
       "display: block;\n",
       "padding-bottom: 1.3em;\n",
       "padding-left: 0.4em;\n",
       "}\n",
       ".hoogle-code {\n",
       "display: block;\n",
       "font-family: monospace;\n",
       "white-space: pre;\n",
       "}\n",
       ".hoogle-text {\n",
       "display: block;\n",
       "}\n",
       ".hoogle-name {\n",
       "color: green;\n",
       "font-weight: bold;\n",
       "}\n",
       ".hoogle-head {\n",
       "font-weight: bold;\n",
       "}\n",
       ".hoogle-sub {\n",
       "display: block;\n",
       "margin-left: 0.4em;\n",
       "}\n",
       ".hoogle-package {\n",
       "font-weight: bold;\n",
       "font-style: italic;\n",
       "}\n",
       ".hoogle-module {\n",
       "font-weight: bold;\n",
       "}\n",
       ".hoogle-class {\n",
       "font-weight: bold;\n",
       "}\n",
       ".get-type {\n",
       "color: green;\n",
       "font-weight: bold;\n",
       "font-family: monospace;\n",
       "display: block;\n",
       "white-space: pre-wrap;\n",
       "}\n",
       ".show-type {\n",
       "color: green;\n",
       "font-weight: bold;\n",
       "font-family: monospace;\n",
       "margin-left: 1em;\n",
       "}\n",
       ".mono {\n",
       "font-family: monospace;\n",
       "display: block;\n",
       "}\n",
       ".err-msg {\n",
       "color: red;\n",
       "font-style: italic;\n",
       "font-family: monospace;\n",
       "white-space: pre;\n",
       "display: block;\n",
       "}\n",
       "#unshowable {\n",
       "color: red;\n",
       "font-weight: bold;\n",
       "}\n",
       ".err-msg.in.collapse {\n",
       "padding-top: 0.7em;\n",
       "}\n",
       ".highlight-code {\n",
       "white-space: pre;\n",
       "font-family: monospace;\n",
       "}\n",
       ".suggestion-warning { \n",
       "font-weight: bold;\n",
       "color: rgb(200, 130, 0);\n",
       "}\n",
       ".suggestion-error { \n",
       "font-weight: bold;\n",
       "color: red;\n",
       "}\n",
       ".suggestion-name {\n",
       "font-weight: bold;\n",
       "}\n",
       "</style><div class=\"suggestion-name\" style=\"clear:both;\">Unused LANGUAGE pragma</div><div class=\"suggestion-row\" style=\"float: left;\"><div class=\"suggestion-warning\">Found:</div><div class=\"highlight-code\" id=\"haskell\">{-# LANGUAGE OverloadedStrings #-}</div></div><div class=\"suggestion-row\" style=\"float: left;\"><div class=\"suggestion-warning\">Why Not:</div><div class=\"highlight-code\" id=\"haskell\"></div></div><div class=\"suggestion-name\" style=\"clear:both;\">Unused LANGUAGE pragma</div><div class=\"suggestion-row\" style=\"float: left;\"><div class=\"suggestion-warning\">Found:</div><div class=\"highlight-code\" id=\"haskell\">{-# LANGUAGE RecordWildCards #-}</div></div><div class=\"suggestion-row\" style=\"float: left;\"><div class=\"suggestion-warning\">Why Not:</div><div class=\"highlight-code\" id=\"haskell\"></div></div>"
      ],
      "text/plain": [
       "Line 1: Unused LANGUAGE pragma\n",
       "Found:\n",
       "{-# LANGUAGE OverloadedStrings #-}\n",
       "Why not:\n",
       "Line 3: Unused LANGUAGE pragma\n",
       "Found:\n",
       "{-# LANGUAGE RecordWildCards #-}\n",
       "Why not:"
      ]
     },
     "metadata": {},
     "output_type": "display_data"
    }
   ],
   "source": [
    "{-# LANGUAGE OverloadedStrings #-}\n",
    "{-# LANGUAGE DuplicateRecordFields #-}\n",
    "{-# LANGUAGE RecordWildCards #-}"
   ]
  },
  {
   "cell_type": "code",
   "execution_count": 2,
   "metadata": {},
   "outputs": [],
   "source": [
    "-- base\n",
    "import Control.Exception (IOException)\n",
    "import qualified Control.Exception as Exception\n",
    "import qualified Data.Foldable as F\n",
    "import Control.Monad (mzero, liftM2, join)"
   ]
  },
  {
   "cell_type": "code",
   "execution_count": 3,
   "metadata": {},
   "outputs": [],
   "source": [
    "-- logical\n",
    "import Data.Maybe (fromMaybe)\n",
    "import Data.Either (fromRight)"
   ]
  },
  {
   "cell_type": "code",
   "execution_count": 4,
   "metadata": {},
   "outputs": [],
   "source": [
    "-- casava\n",
    "import Data.Csv (FromField, parseField, FromNamedRecord, parseNamedRecord, decodeByName, (.:))"
   ]
  },
  {
   "cell_type": "code",
   "execution_count": 5,
   "metadata": {},
   "outputs": [],
   "source": [
    "-- text\n",
    "import Data.Text (Text)\n",
    "\n",
    "-- bytestring\n",
    "import qualified Data.ByteString.Char8 as Char8\n",
    "import qualified Data.ByteString.Lazy (ByteString)\n",
    "import qualified Data.ByteString.Lazy as ByteString"
   ]
  },
  {
   "cell_type": "code",
   "execution_count": 6,
   "metadata": {},
   "outputs": [],
   "source": [
    "-- time\n",
    "import Data.Time (UTCTime, parseTime, defaultTimeLocale)"
   ]
  },
  {
   "cell_type": "code",
   "execution_count": 7,
   "metadata": {},
   "outputs": [],
   "source": [
    "-- vector\n",
    "import Data.Vector (Vector)\n",
    "import qualified Data.Vector as Vector"
   ]
  },
  {
   "cell_type": "code",
   "execution_count": 8,
   "metadata": {},
   "outputs": [],
   "source": [
    "-- for merges and joins\n",
    "import Data.Discrimination (grouping, inner)"
   ]
  },
  {
   "cell_type": "code",
   "execution_count": 9,
   "metadata": {},
   "outputs": [],
   "source": [
    "-- for aggregation\n",
    "import qualified Control.Foldl as FL\n",
    "import Data.Map.Strict (Map, (!?))\n",
    "import qualified Data.Map.Strict as Map"
   ]
  },
  {
   "cell_type": "code",
   "execution_count": 10,
   "metadata": {},
   "outputs": [],
   "source": [
    "-- plotting\n",
    "import qualified Graphics.Rendering.Chart.Easy as CH\n",
    "import qualified Graphics.Rendering.Chart.Backend.Cairo as Cairo\n",
    "import qualified Statistics.Sample.Histogram as Hist"
   ]
  },
  {
   "cell_type": "markdown",
   "metadata": {},
   "source": [
    "Next we will need to load our data from CSV files. We'll do this using Cassava."
   ]
  },
  {
   "cell_type": "markdown",
   "metadata": {},
   "source": [
    "The structure of the [NYT County-Level Covid Data Set]( https://github.com/nytimes/covid-19-data/blob/master/us-counties.csv) is described in the following record. Note that [FIPS](https://en.wikipedia.org/wiki/FIPS_county_code) is a code assigned to each county. Some records are missing the FIPS code, which we indicate using Maybe's Nothing value."
   ]
  },
  {
   "cell_type": "code",
   "execution_count": 11,
   "metadata": {},
   "outputs": [],
   "source": [
    "-- Describe the record to hold a datum from the county-level covid database\n",
    "data CovidRec = CovidRec {\n",
    "        date :: UTCTime,\n",
    "        county :: Text,\n",
    "        state :: Text,\n",
    "        mFips :: Maybe Int,\n",
    "        cases :: Int,\n",
    "        deaths :: Int\n",
    "    } deriving (Show, Eq)"
   ]
  },
  {
   "cell_type": "markdown",
   "metadata": {},
   "source": [
    "Cassava will parse most of these datatypes for us, except for the date field. We'll have to tell it how to do that:"
   ]
  },
  {
   "cell_type": "code",
   "execution_count": 12,
   "metadata": {},
   "outputs": [],
   "source": [
    "-- We'll need a custom parser for the dates:\n",
    "parseDate d = parseTime defaultTimeLocale \"%Y-%m-%d\" (Char8.unpack d) :: Maybe UTCTime\n",
    "instance FromField UTCTime where\n",
    "  parseField dateData = case maybeDate of \n",
    "          Just date -> pure date\n",
    "          Nothing -> mzero\n",
    "      where maybeDate = parseDate dateData"
   ]
  },
  {
   "cell_type": "markdown",
   "metadata": {},
   "source": [
    "Next we tell Cassava how to match column names (in the CSV file) to the record fields:"
   ]
  },
  {
   "cell_type": "code",
   "execution_count": 13,
   "metadata": {},
   "outputs": [],
   "source": [
    "-- setup the parser\n",
    "instance FromNamedRecord CovidRec where\n",
    "  parseNamedRecord m =\n",
    "    CovidRec\n",
    "      <$> m .: \"date\"\n",
    "      -- Note that .: is an alias to @lookup@ a key (\"date\") in the Map.\n",
    "      <*> m .: \"county\"\n",
    "      <*> m .: \"state\"\n",
    "      <*> m .: \"fips\"\n",
    "      <*> m .: \"cases\"\n",
    "      <*> m .: \"deaths\""
   ]
  },
  {
   "cell_type": "markdown",
   "metadata": {},
   "source": [
    "We'll need the following helper function to deal with IO failures:"
   ]
  },
  {
   "cell_type": "code",
   "execution_count": 14,
   "metadata": {},
   "outputs": [],
   "source": [
    "catchShowIO :: IO a -> IO (Either String a)\n",
    "catchShowIO action =\n",
    "  fmap Right action `Exception.catch` handleIOException\n",
    "  where\n",
    "    handleIOException :: IOException -> IO (Either String a)\n",
    "    handleIOException = return . Left . show"
   ]
  },
  {
   "cell_type": "code",
   "execution_count": 15,
   "metadata": {},
   "outputs": [],
   "source": [
    "decodeRecs :: FromNamedRecord a => ByteString.ByteString -> Either String (Vector a)\n",
    "decodeRecs = fmap snd . decodeByName\n",
    "\n",
    "decodeRecsFromFile :: FromNamedRecord a => FilePath -> IO (Either String (Vector a))\n",
    "decodeRecsFromFile filePath =\n",
    "  either Left decodeRecs <$>\n",
    "  catchShowIO (ByteString.readFile filePath)"
   ]
  },
  {
   "cell_type": "markdown",
   "metadata": {},
   "source": [
    "Ok, having set that up, let's load the data:"
   ]
  },
  {
   "cell_type": "code",
   "execution_count": 16,
   "metadata": {},
   "outputs": [],
   "source": [
    "covidRecs <- decodeRecsFromFile \"us-counties.csv\" :: IO (Either String (Vector CovidRec))"
   ]
  },
  {
   "cell_type": "markdown",
   "metadata": {},
   "source": [
    "Take a look at an example record (at row 23):"
   ]
  },
  {
   "cell_type": "code",
   "execution_count": 17,
   "metadata": {},
   "outputs": [
    {
     "data": {
      "text/plain": [
       "\"CovidRec {date = 2020-01-29 00:00:00 UTC, county = \\\"Maricopa\\\", state = \\\"Arizona\\\", mFips = Just 4013, cases = 1, deaths = 0}\""
      ]
     },
     "metadata": {},
     "output_type": "display_data"
    }
   ],
   "source": [
    " either id (show . (Vector.! 23)) covidRecs"
   ]
  },
  {
   "cell_type": "markdown",
   "metadata": {},
   "source": [
    "Next we need to load census data, which will have the following record structure:"
   ]
  },
  {
   "cell_type": "code",
   "execution_count": 18,
   "metadata": {},
   "outputs": [],
   "source": [
    "-- Describe the record to hold a census datum\n",
    "data CensusRec = CensusRec {\n",
    "        fips :: Int,\n",
    "        stateId :: Int,\n",
    "        countyId :: Int,\n",
    "        population :: Int,\n",
    "        stateName :: Text,\n",
    "        countyName :: Text\n",
    "    } deriving (Show, Eq)"
   ]
  },
  {
   "cell_type": "markdown",
   "metadata": {},
   "source": [
    "Setting up the parser is fairly straightforward here:"
   ]
  },
  {
   "cell_type": "code",
   "execution_count": 19,
   "metadata": {},
   "outputs": [],
   "source": [
    "-- setup the parser\n",
    "instance FromNamedRecord CensusRec where\n",
    "  parseNamedRecord m =\n",
    "    CensusRec\n",
    "      <$> m .: \"fips\"\n",
    "      <*> m .: \"state\"\n",
    "      <*> m .: \"county\"\n",
    "      <*> m .: \"popestimate2019\"\n",
    "      <*> m .: \"stname\"\n",
    "      <*> m .: \"ctyname\""
   ]
  },
  {
   "cell_type": "markdown",
   "metadata": {},
   "source": [
    "Great, now load the data:"
   ]
  },
  {
   "cell_type": "code",
   "execution_count": 20,
   "metadata": {},
   "outputs": [],
   "source": [
    "censusRecs <- decodeRecsFromFile \"fips-pop.csv\" :: IO (Either String (Vector CensusRec))"
   ]
  },
  {
   "cell_type": "markdown",
   "metadata": {},
   "source": [
    "We want to join the covid and census data on their FIPS field. We can do that using discrimination's inner function:\n",
    "\n",
    "```haskell\n",
    "inner :: Discriminating f\t \n",
    "    => f d  -- the discriminator to use (just use discrimination provided grouping function)\n",
    "    -> (a -> b -> c)  --how to join two rows\n",
    "    -> (a -> d)\t -- selector for the left table\n",
    "    -> (b -> d)\t -- selector for the right table\n",
    "    -> [a] -- left table\n",
    "    -> [b]  -- right table\n",
    "    -> [[c]]\t \n",
    "```\n",
    "We'll want to retain just the cases, deaths, date, fips, and poputation fields:"
   ]
  },
  {
   "cell_type": "code",
   "execution_count": 21,
   "metadata": {},
   "outputs": [],
   "source": [
    "data CovCensRec = CovCensRec {\n",
    "        date :: UTCTime,\n",
    "        fips :: Int,\n",
    "        county :: Text,\n",
    "        cases :: Int,\n",
    "        deaths :: Int,\n",
    "        population :: Int\n",
    "    } deriving (Show, Eq)\n",
    "\n",
    "mergeCovCensRec :: CovidRec -> CensusRec -> CovCensRec\n",
    "mergeCovCensRec CovidRec{..} CensusRec{..} = CovCensRec{..}"
   ]
  },
  {
   "cell_type": "code",
   "execution_count": 22,
   "metadata": {},
   "outputs": [],
   "source": [
    "joinCovCensusRecs :: Vector CovidRec -> Vector CensusRec -> [CovCensRec]\n",
    "joinCovCensusRecs l r = F.concat $ \n",
    "    inner grouping mergeCovCensRec (fromMaybe (-1) . mFips) csFips (F.toList l) (F.toList r)\n",
    "    where csFips = fips :: CensusRec -> Int"
   ]
  },
  {
   "cell_type": "code",
   "execution_count": 23,
   "metadata": {},
   "outputs": [],
   "source": [
    "covCensusRecs = joinCovCensusRecs <$> covidRecs <*> censusRecs"
   ]
  },
  {
   "cell_type": "markdown",
   "metadata": {},
   "source": [
    "Let's look at an example of such a row for alameda:"
   ]
  },
  {
   "cell_type": "code",
   "execution_count": 24,
   "metadata": {},
   "outputs": [
    {
     "data": {
      "text/plain": [
       "\"CovCensRec {date = 2020-03-01 00:00:00 UTC, fips = 6001, county = \\\"Alameda\\\", cases = 1, deaths = 0, population = 1671329}\""
      ]
     },
     "metadata": {},
     "output_type": "display_data"
    }
   ],
   "source": [
    "do\n",
    "    let countyNm = county :: CovCensRec -> Text\n",
    "    print $ either id (show . Prelude.head . Prelude.filter ((== \"Alameda\") . countyNm)) covCensusRecs"
   ]
  },
  {
   "cell_type": "markdown",
   "metadata": {},
   "source": [
    "Finally, we load the voting data from the 2016 election. This is structured according to the following record type:"
   ]
  },
  {
   "cell_type": "code",
   "execution_count": 25,
   "metadata": {},
   "outputs": [],
   "source": [
    "data VotesRec = VotesRec {\n",
    "        demVotes :: Int,\n",
    "        gopVotes :: Int,\n",
    "        stateAbbr :: Text,\n",
    "        countyName :: Text,\n",
    "        fips :: Int\n",
    "    } deriving (Show, Eq)"
   ]
  },
  {
   "cell_type": "code",
   "execution_count": 26,
   "metadata": {},
   "outputs": [],
   "source": [
    "-- setup the parser\n",
    "instance FromNamedRecord VotesRec where\n",
    "  parseNamedRecord m =\n",
    "    VotesRec\n",
    "      <$> m .: \"votes_dem\"\n",
    "      <*> m .: \"votes_gop\"\n",
    "      <*> m .: \"state_abbr\"\n",
    "      <*> m .: \"county_name\"\n",
    "      <*> m .: \"combined_fips\""
   ]
  },
  {
   "cell_type": "code",
   "execution_count": 27,
   "metadata": {},
   "outputs": [],
   "source": [
    "votesRecs <- decodeRecsFromFile \"us-election-data-2016.csv\" :: IO (Either String (Vector VotesRec))"
   ]
  },
  {
   "cell_type": "markdown",
   "metadata": {},
   "source": [
    "Now we want to join this along fips to form the final record:"
   ]
  },
  {
   "cell_type": "code",
   "execution_count": 28,
   "metadata": {},
   "outputs": [],
   "source": [
    "data CountyRec = CountyRec {\n",
    "        date :: UTCTime,\n",
    "        county :: Text,\n",
    "        cases :: Int,\n",
    "        deaths :: Int,\n",
    "        population :: Int,\n",
    "        demVotes :: Int,\n",
    "        gopVotes :: Int\n",
    "    } deriving (Show, Eq)\n",
    "\n",
    "mergeCovCensVotesRec :: CovCensRec -> VotesRec -> CountyRec\n",
    "mergeCovCensVotesRec CovCensRec{date=d, county=c, cases=cs, deaths=ds, population=p} VotesRec{demVotes=dv, gopVotes=gv} \n",
    "    = CountyRec d c cs ds p dv gv"
   ]
  },
  {
   "cell_type": "code",
   "execution_count": 29,
   "metadata": {},
   "outputs": [],
   "source": [
    "joinCountyRecs :: [CovCensRec] -> Vector VotesRec -> [CountyRec]\n",
    "joinCountyRecs l r = F.concat $ \n",
    "    inner grouping mergeCovCensVotesRec cFips vFips l (F.toList r)\n",
    "    where \n",
    "        cFips = fips :: CovCensRec -> Int\n",
    "        vFips = fips :: VotesRec -> Int"
   ]
  },
  {
   "cell_type": "code",
   "execution_count": 30,
   "metadata": {},
   "outputs": [],
   "source": [
    "countyRecs = joinCountyRecs <$> covCensusRecs <*> votesRecs"
   ]
  },
  {
   "cell_type": "markdown",
   "metadata": {},
   "source": [
    "Let's examine an example row for alameda:"
   ]
  },
  {
   "cell_type": "code",
   "execution_count": 31,
   "metadata": {},
   "outputs": [
    {
     "data": {
      "text/plain": [
       "\"CountyRec {date = 2020-03-01 00:00:00 UTC, county = \\\"Alameda\\\", cases = 1, deaths = 0, population = 1671329, demVotes = 486351, gopVotes = 91189}\""
      ]
     },
     "metadata": {},
     "output_type": "display_data"
    }
   ],
   "source": [
    "do\n",
    "    let countyNm = county :: CountyRec -> Text\n",
    "    print $ either id (show . Prelude.head . Prelude.filter ((== \"Alameda\") . countyNm)) countyRecs"
   ]
  },
  {
   "cell_type": "markdown",
   "metadata": {},
   "source": [
    "Finally, let's compute the county by country fatality rates, separately for democratic and gop counties."
   ]
  },
  {
   "cell_type": "markdown",
   "metadata": {},
   "source": [
    "We'll start by building a fold which computes the fatality rate for a `CountyRec`."
   ]
  },
  {
   "cell_type": "code",
   "execution_count": 32,
   "metadata": {},
   "outputs": [],
   "source": [
    "-- fatality rate:\n",
    "fatalityRateFold :: FL.Fold CountyRec (Maybe Double)\n",
    "fatalityRateFold = liftM2 (/) \n",
    "    <$> FL.premap (fromIntegral . (deaths :: CountyRec -> Int)) FL.maximum \n",
    "    <*> FL.premap (fromIntegral . (population :: CountyRec -> Int)) FL.maximum"
   ]
  },
  {
   "cell_type": "markdown",
   "metadata": {},
   "source": [
    "Next, we use `Foldl`'s groupBy to lift that fold so as to group over counties. We accept a predicate function to allow us to aggregate democratic and gop counties separately."
   ]
  },
  {
   "cell_type": "code",
   "execution_count": 33,
   "metadata": {},
   "outputs": [],
   "source": [
    "-- This is the core group by fold.\n",
    "fatalitiesByCountyFold :: FL.Fold CountyRec (Map Text (Maybe Double))\n",
    "fatalitiesByCountyFold = FL.groupBy (county :: CountyRec -> Text) fatalityRateFold\n",
    "\n",
    "-- Here we lift apply that fold, first filtering by a predicate, and then handling \n",
    "-- possible errors (by returning an empty map):\n",
    "fatalitiesByCounty :: (CountyRec -> Bool) -> Map Text Double\n",
    "fatalitiesByCounty predicate = case countyRecs of\n",
    "    -- just get an empty map if there was an error.\n",
    "    Left s -> Map.empty\n",
    "    -- apply the fold, dropping any Nothing values from the Map via @Map.mapMaybe id@\n",
    "    Right r -> Map.mapMaybe id $ FL.fold (FL.prefilter predicate fatalitiesByCountyFold) r"
   ]
  },
  {
   "cell_type": "markdown",
   "metadata": {},
   "source": [
    "Now we define predicates which determine if a county voted democrat or gop during the 2016 election"
   ]
  },
  {
   "cell_type": "code",
   "execution_count": 34,
   "metadata": {},
   "outputs": [],
   "source": [
    "isDem :: CountyRec -> Bool\n",
    "isDem CountyRec{demVotes=d, gopVotes=g} = d > g \n",
    "\n",
    "isGop :: CountyRec -> Bool\n",
    "isGop CountyRec{demVotes=d, gopVotes=g} = d <= g "
   ]
  },
  {
   "cell_type": "markdown",
   "metadata": {},
   "source": [
    "And finally, we extract the actual maps for democrat and gop counties:"
   ]
  },
  {
   "cell_type": "code",
   "execution_count": 35,
   "metadata": {},
   "outputs": [],
   "source": [
    "demFatalities :: Map Text Double\n",
    "demFatalities = fatalitiesByCounty isDem"
   ]
  },
  {
   "cell_type": "code",
   "execution_count": 36,
   "metadata": {},
   "outputs": [],
   "source": [
    "gopFatalities :: Map Text Double\n",
    "gopFatalities = fatalitiesByCounty isGop"
   ]
  },
  {
   "cell_type": "markdown",
   "metadata": {},
   "source": [
    "For example, lets check the fatality rate in Alameda and San Francisco"
   ]
  },
  {
   "cell_type": "code",
   "execution_count": 37,
   "metadata": {},
   "outputs": [
    {
     "data": {
      "text/plain": [
       "Just 5.2652709310973486e-5"
      ]
     },
     "metadata": {},
     "output_type": "display_data"
    }
   ],
   "source": [
    "demFatalities Map.!? \"Alameda\""
   ]
  },
  {
   "cell_type": "code",
   "execution_count": 38,
   "metadata": {},
   "outputs": [
    {
     "data": {
      "text/plain": [
       "Just 4.1971575034399676e-5"
      ]
     },
     "metadata": {},
     "output_type": "display_data"
    }
   ],
   "source": [
    "demFatalities Map.!? \"San Francisco\""
   ]
  },
  {
   "cell_type": "markdown",
   "metadata": {},
   "source": [
    "Ok, let's plot histograms of the two fatality rates. First we bin them using the Statistics.Histogram library:"
   ]
  },
  {
   "cell_type": "code",
   "execution_count": 129,
   "metadata": {},
   "outputs": [
    {
     "data": {
      "text/html": [
       "<style>/* Styles used for the Hoogle display in the pager */\n",
       ".hoogle-doc {\n",
       "display: block;\n",
       "padding-bottom: 1.3em;\n",
       "padding-left: 0.4em;\n",
       "}\n",
       ".hoogle-code {\n",
       "display: block;\n",
       "font-family: monospace;\n",
       "white-space: pre;\n",
       "}\n",
       ".hoogle-text {\n",
       "display: block;\n",
       "}\n",
       ".hoogle-name {\n",
       "color: green;\n",
       "font-weight: bold;\n",
       "}\n",
       ".hoogle-head {\n",
       "font-weight: bold;\n",
       "}\n",
       ".hoogle-sub {\n",
       "display: block;\n",
       "margin-left: 0.4em;\n",
       "}\n",
       ".hoogle-package {\n",
       "font-weight: bold;\n",
       "font-style: italic;\n",
       "}\n",
       ".hoogle-module {\n",
       "font-weight: bold;\n",
       "}\n",
       ".hoogle-class {\n",
       "font-weight: bold;\n",
       "}\n",
       ".get-type {\n",
       "color: green;\n",
       "font-weight: bold;\n",
       "font-family: monospace;\n",
       "display: block;\n",
       "white-space: pre-wrap;\n",
       "}\n",
       ".show-type {\n",
       "color: green;\n",
       "font-weight: bold;\n",
       "font-family: monospace;\n",
       "margin-left: 1em;\n",
       "}\n",
       ".mono {\n",
       "font-family: monospace;\n",
       "display: block;\n",
       "}\n",
       ".err-msg {\n",
       "color: red;\n",
       "font-style: italic;\n",
       "font-family: monospace;\n",
       "white-space: pre;\n",
       "display: block;\n",
       "}\n",
       "#unshowable {\n",
       "color: red;\n",
       "font-weight: bold;\n",
       "}\n",
       ".err-msg.in.collapse {\n",
       "padding-top: 0.7em;\n",
       "}\n",
       ".highlight-code {\n",
       "white-space: pre;\n",
       "font-family: monospace;\n",
       "}\n",
       ".suggestion-warning { \n",
       "font-weight: bold;\n",
       "color: rgb(200, 130, 0);\n",
       "}\n",
       ".suggestion-error { \n",
       "font-weight: bold;\n",
       "color: red;\n",
       "}\n",
       ".suggestion-name {\n",
       "font-weight: bold;\n",
       "}\n",
       "</style><div class=\"suggestion-name\" style=\"clear:both;\">Redundant bracket</div><div class=\"suggestion-row\" style=\"float: left;\"><div class=\"suggestion-warning\">Found:</div><div class=\"highlight-code\" id=\"haskell\">(Map.elems demFatalities) Prelude.++ (Map.elems gopFatalities)</div></div><div class=\"suggestion-row\" style=\"float: left;\"><div class=\"suggestion-warning\">Why Not:</div><div class=\"highlight-code\" id=\"haskell\">Map.elems demFatalities Prelude.++ (Map.elems gopFatalities)</div></div><div class=\"suggestion-name\" style=\"clear:both;\">Redundant bracket</div><div class=\"suggestion-row\" style=\"float: left;\"><div class=\"suggestion-warning\">Found:</div><div class=\"highlight-code\" id=\"haskell\">(Map.elems demFatalities) Prelude.++ (Map.elems gopFatalities)</div></div><div class=\"suggestion-row\" style=\"float: left;\"><div class=\"suggestion-warning\">Why Not:</div><div class=\"highlight-code\" id=\"haskell\">(Map.elems demFatalities) Prelude.++ Map.elems gopFatalities</div></div>"
      ],
      "text/plain": [
       "Line 3: Redundant bracket\n",
       "Found:\n",
       "(Map.elems demFatalities) Prelude.++ (Map.elems gopFatalities)\n",
       "Why not:\n",
       "Map.elems demFatalities Prelude.++ (Map.elems gopFatalities)Line 3: Redundant bracket\n",
       "Found:\n",
       "(Map.elems demFatalities) Prelude.++ (Map.elems gopFatalities)\n",
       "Why not:\n",
       "(Map.elems demFatalities) Prelude.++ Map.elems gopFatalities"
      ]
     },
     "metadata": {},
     "output_type": "display_data"
    }
   ],
   "source": [
    "nBins = 15 :: Int\n",
    "-- Determine the lower and upper bounds of the bins\n",
    "(lower, upper) = Hist.range nBins $ Vector.fromList $ (Map.elems demFatalities) Prelude.++ (Map.elems gopFatalities)\n",
    "\n",
    "-- Next, bin them.\n",
    "demBins :: [Int]\n",
    "demBins = Vector.toList $ Hist.histogram_ nBins lower upper $ Vector.fromList $ Map.elems demFatalities\n",
    "gopBins :: [Int]\n",
    "gopBins = Vector.toList $ Hist.histogram_ nBins lower upper $ Vector.fromList $ Map.elems gopFatalities\n",
    "\n",
    "range :: [Double]\n",
    "range = [lower, lower+(upper-lower)/(fromIntegral nBins - 1) .. upper]"
   ]
  },
  {
   "cell_type": "markdown",
   "metadata": {},
   "source": [
    "We'll plot their densities, so lets normalize them and combine them with the range:"
   ]
  },
  {
   "cell_type": "code",
   "execution_count": 130,
   "metadata": {},
   "outputs": [],
   "source": [
    "gopTotal = fromIntegral (Prelude.sum gopBins) :: Double\n",
    "demTotal = fromIntegral (Prelude.sum demBins) :: Double\n",
    "histVals = [(x, [fromIntegral y / demTotal, fromIntegral z / gopTotal]) | (x,(y,z)) <- Prelude.zip range $ Prelude.zip demBins gopBins]"
   ]
  },
  {
   "cell_type": "markdown",
   "metadata": {},
   "source": [
    "Finally, we plot it:"
   ]
  },
  {
   "cell_type": "code",
   "execution_count": 132,
   "metadata": {},
   "outputs": [
    {
     "data": {
      "image/png": "[encoded data removed]",
      "image/svg+xml": [
       "<?xml version=\"1.0\" encoding=\"UTF-8\"?>\n",
       "<svg xmlns=\"http://www.w3.org/2000/svg\" xmlns:xlink=\"http://www.w3.org/1999/xlink\" width=\"450pt\" height=\"300pt\" viewBox=\"0 0 450 300\" version=\"1.1\">\n",
       "<defs>\n",
       "<g>\n",
       "<symbol overflow=\"visible\" id=\"glyph-2020-05-2886097.41397s0-0\">\n",
       "<path style=\"stroke:none;\" d=\"M 1.128906 0 L 1.128906 -10.796875 L 9.820312 -10.796875 L 9.820312 0 Z M 8.472656 -1.347656 L 8.472656 -9.449219 L 2.476562 -9.449219 L 2.476562 -1.347656 Z M 8.472656 -1.347656 \"/>\n",
       "</symbol>\n",
       "<symbol overflow=\"visible\" id=\"glyph-2020-05-2886097.41397s0-1\">\n",
       "<path style=\"stroke:none;\" d=\"M 1.140625 -10.78125 L 8.796875 -10.78125 L 8.796875 -8.882812 L 3.382812 -8.882812 L 3.382812 -6.402344 L 8.121094 -6.402344 L 8.121094 -4.527344 L 3.382812 -4.527344 L 3.382812 0 L 1.140625 0 Z M 1.140625 -10.78125 \"/>\n",
       "</symbol>\n",
       "<symbol overflow=\"visible\" id=\"glyph-2020-05-2886097.41397s0-2\">\n",
       "<path style=\"stroke:none;\" d=\"M 5.375 -3.882812 C 5.242188 -3.800781 5.109375 -3.730469 4.976562 -3.679688 C 4.84375 -3.628906 4.65625 -3.582031 4.421875 -3.539062 L 3.953125 -3.449219 C 3.515625 -3.371094 3.199219 -3.277344 3.011719 -3.164062 C 2.6875 -2.972656 2.527344 -2.679688 2.527344 -2.277344 C 2.527344 -1.921875 2.625 -1.664062 2.824219 -1.503906 C 3.023438 -1.347656 3.261719 -1.265625 3.546875 -1.265625 C 3.996094 -1.265625 4.40625 -1.398438 4.785156 -1.664062 C 5.164062 -1.925781 5.359375 -2.40625 5.375 -3.105469 Z M 4.109375 -4.855469 C 4.496094 -4.90625 4.769531 -4.964844 4.9375 -5.039062 C 5.234375 -5.164062 5.382812 -5.363281 5.382812 -5.632812 C 5.382812 -5.960938 5.269531 -6.183594 5.042969 -6.308594 C 4.816406 -6.433594 4.484375 -6.496094 4.042969 -6.496094 C 3.550781 -6.496094 3.199219 -6.375 2.996094 -6.128906 C 2.847656 -5.949219 2.75 -5.707031 2.703125 -5.398438 L 0.6875 -5.398438 C 0.730469 -6.097656 0.929688 -6.671875 1.273438 -7.117188 C 1.824219 -7.820312 2.773438 -8.171875 4.117188 -8.171875 C 4.992188 -8.171875 5.765625 -8 6.445312 -7.652344 C 7.125 -7.304688 7.464844 -6.652344 7.464844 -5.691406 L 7.464844 -2.027344 C 7.464844 -1.773438 7.46875 -1.46875 7.476562 -1.105469 C 7.492188 -0.832031 7.535156 -0.648438 7.601562 -0.550781 C 7.671875 -0.453125 7.773438 -0.371094 7.910156 -0.308594 L 7.910156 0 L 5.640625 0 C 5.578125 -0.160156 5.53125 -0.3125 5.507812 -0.453125 C 5.484375 -0.59375 5.464844 -0.757812 5.449219 -0.9375 C 5.160156 -0.625 4.828125 -0.359375 4.453125 -0.140625 C 4.003906 0.117188 3.496094 0.25 2.929688 0.25 C 2.207031 0.25 1.609375 0.0429688 1.140625 -0.371094 C 0.667969 -0.78125 0.433594 -1.367188 0.433594 -2.125 C 0.433594 -3.105469 0.8125 -3.816406 1.566406 -4.253906 C 1.980469 -4.492188 2.59375 -4.664062 3.398438 -4.769531 Z M 4.109375 -4.855469 \"/>\n",
       "</symbol>\n",
       "<symbol overflow=\"visible\" id=\"glyph-2020-05-2886097.41397s0-3\">\n",
       "<path style=\"stroke:none;\" d=\"M 0.152344 -6.421875 L 0.152344 -7.910156 L 1.265625 -7.910156 L 1.265625 -10.136719 L 3.332031 -10.136719 L 3.332031 -7.910156 L 4.628906 -7.910156 L 4.628906 -6.421875 L 3.332031 -6.421875 L 3.332031 -2.203125 C 3.332031 -1.875 3.375 -1.671875 3.457031 -1.59375 C 3.539062 -1.511719 3.792969 -1.472656 4.21875 -1.472656 C 4.28125 -1.472656 4.347656 -1.472656 4.421875 -1.476562 C 4.492188 -1.476562 4.5625 -1.480469 4.628906 -1.488281 L 4.628906 0.0742188 L 3.640625 0.109375 C 2.652344 0.144531 1.980469 -0.0273438 1.617188 -0.402344 C 1.382812 -0.640625 1.265625 -1.011719 1.265625 -1.507812 L 1.265625 -6.421875 Z M 0.152344 -6.421875 \"/>\n",
       "</symbol>\n",
       "<symbol overflow=\"visible\" id=\"glyph-2020-05-2886097.41397s0-4\">\n",
       "<path style=\"stroke:none;\" d=\"M 3.105469 0 L 1.019531 0 L 1.019531 -10.796875 L 3.105469 -10.796875 Z M 3.105469 0 \"/>\n",
       "</symbol>\n",
       "<symbol overflow=\"visible\" id=\"glyph-2020-05-2886097.41397s0-5\">\n",
       "<path style=\"stroke:none;\" d=\"M 3.121094 -8.9375 L 1.003906 -8.9375 L 1.003906 -10.863281 L 3.121094 -10.863281 Z M 1.003906 -7.984375 L 3.121094 -7.984375 L 3.121094 0 L 1.003906 0 Z M 1.003906 -7.984375 \"/>\n",
       "</symbol>\n",
       "<symbol overflow=\"visible\" id=\"glyph-2020-05-2886097.41397s0-6\">\n",
       "<path style=\"stroke:none;\" d=\"M 1.296875 1.53125 L 1.558594 1.546875 C 1.765625 1.554688 1.960938 1.546875 2.144531 1.523438 C 2.332031 1.5 2.488281 1.441406 2.613281 1.355469 C 2.734375 1.273438 2.851562 1.097656 2.957031 0.835938 C 3.0625 0.570312 3.101562 0.410156 3.082031 0.351562 L 0.152344 -7.984375 L 2.476562 -7.984375 L 4.21875 -2.09375 L 5.867188 -7.984375 L 8.085938 -7.984375 L 5.347656 -0.132812 C 4.820312 1.382812 4.402344 2.320312 4.09375 2.683594 C 3.785156 3.046875 3.171875 3.230469 2.25 3.230469 C 2.0625 3.230469 1.914062 3.230469 1.800781 3.226562 C 1.6875 3.222656 1.519531 3.214844 1.296875 3.199219 Z M 1.296875 1.53125 \"/>\n",
       "</symbol>\n",
       "<symbol overflow=\"visible\" id=\"glyph-2020-05-2886097.41397s0-7\">\n",
       "<g>\n",
       "</g>\n",
       "</symbol>\n",
       "<symbol overflow=\"visible\" id=\"glyph-2020-05-2886097.41397s0-8\">\n",
       "<path style=\"stroke:none;\" d=\"M 3.398438 -8.921875 L 3.398438 -6.019531 L 5.953125 -6.019531 C 6.460938 -6.019531 6.84375 -6.078125 7.097656 -6.195312 C 7.546875 -6.402344 7.769531 -6.804688 7.769531 -7.414062 C 7.769531 -8.066406 7.554688 -8.507812 7.117188 -8.730469 C 6.875 -8.859375 6.507812 -8.921875 6.019531 -8.921875 Z M 6.488281 -10.796875 C 7.246094 -10.78125 7.828125 -10.6875 8.234375 -10.515625 C 8.644531 -10.347656 8.988281 -10.09375 9.273438 -9.761719 C 9.507812 -9.488281 9.691406 -9.1875 9.828125 -8.855469 C 9.964844 -8.523438 10.035156 -8.144531 10.035156 -7.71875 C 10.035156 -7.207031 9.90625 -6.703125 9.644531 -6.207031 C 9.386719 -5.710938 8.960938 -5.359375 8.363281 -5.15625 C 8.863281 -4.957031 9.214844 -4.671875 9.421875 -4.304688 C 9.628906 -3.933594 9.734375 -3.371094 9.734375 -2.613281 L 9.734375 -1.890625 C 9.734375 -1.398438 9.753906 -1.0625 9.792969 -0.886719 C 9.851562 -0.609375 9.988281 -0.402344 10.203125 -0.269531 L 10.203125 0 L 7.71875 0 C 7.652344 -0.238281 7.601562 -0.433594 7.574219 -0.578125 C 7.515625 -0.882812 7.484375 -1.191406 7.476562 -1.507812 L 7.464844 -2.511719 C 7.453125 -3.199219 7.328125 -3.660156 7.085938 -3.890625 C 6.84375 -4.117188 6.390625 -4.234375 5.726562 -4.234375 L 3.398438 -4.234375 L 3.398438 0 L 1.195312 0 L 1.195312 -10.796875 Z M 6.488281 -10.796875 \"/>\n",
       "</symbol>\n",
       "<symbol overflow=\"visible\" id=\"glyph-2020-05-2886097.41397s0-9\">\n",
       "<path style=\"stroke:none;\" d=\"M 4.125 -6.476562 C 3.640625 -6.476562 3.265625 -6.324219 3 -6.019531 C 2.734375 -5.71875 2.566406 -5.308594 2.496094 -4.789062 L 5.742188 -4.789062 C 5.707031 -5.339844 5.539062 -5.761719 5.242188 -6.046875 C 4.941406 -6.332031 4.566406 -6.476562 4.125 -6.476562 Z M 4.125 -8.195312 C 4.789062 -8.195312 5.386719 -8.070312 5.917969 -7.820312 C 6.449219 -7.574219 6.890625 -7.179688 7.234375 -6.644531 C 7.546875 -6.171875 7.75 -5.621094 7.84375 -4.996094 C 7.898438 -4.628906 7.921875 -4.101562 7.910156 -3.414062 L 2.445312 -3.414062 C 2.476562 -2.613281 2.726562 -2.050781 3.199219 -1.726562 C 3.488281 -1.527344 3.835938 -1.429688 4.242188 -1.429688 C 4.671875 -1.429688 5.019531 -1.550781 5.289062 -1.792969 C 5.433594 -1.925781 5.5625 -2.109375 5.675781 -2.34375 L 7.808594 -2.34375 C 7.753906 -1.871094 7.507812 -1.390625 7.066406 -0.902344 C 6.382812 -0.125 5.425781 0.265625 4.195312 0.265625 C 3.179688 0.265625 2.285156 -0.0625 1.507812 -0.71875 C 0.730469 -1.371094 0.34375 -2.4375 0.34375 -3.910156 C 0.34375 -5.292969 0.695312 -6.351562 1.394531 -7.089844 C 2.09375 -7.828125 3.003906 -8.195312 4.125 -8.195312 Z M 4.125 -8.195312 \"/>\n",
       "</symbol>\n",
       "<symbol overflow=\"visible\" id=\"glyph-2020-05-2886097.41397s0-10\">\n",
       "<path style=\"stroke:none;\" d=\"M 2.601562 -2.546875 C 2.644531 -2.175781 2.738281 -1.914062 2.886719 -1.757812 C 3.144531 -1.480469 3.625 -1.339844 4.320312 -1.339844 C 4.730469 -1.339844 5.058594 -1.402344 5.300781 -1.523438 C 5.542969 -1.644531 5.660156 -1.828125 5.660156 -2.074219 C 5.660156 -2.308594 5.5625 -2.484375 5.367188 -2.609375 C 5.171875 -2.730469 4.449219 -2.9375 3.195312 -3.238281 C 2.289062 -3.460938 1.652344 -3.742188 1.28125 -4.078125 C 0.910156 -4.410156 0.726562 -4.890625 0.726562 -5.515625 C 0.726562 -6.253906 1.015625 -6.886719 1.59375 -7.414062 C 2.171875 -7.945312 2.984375 -8.210938 4.035156 -8.210938 C 5.03125 -8.210938 5.84375 -8.011719 6.472656 -7.613281 C 7.097656 -7.214844 7.457031 -6.527344 7.550781 -5.550781 L 5.464844 -5.550781 C 5.433594 -5.820312 5.359375 -6.03125 5.238281 -6.1875 C 5.007812 -6.472656 4.617188 -6.613281 4.066406 -6.613281 C 3.609375 -6.613281 3.289062 -6.542969 3.09375 -6.402344 C 2.902344 -6.261719 2.804688 -6.09375 2.804688 -5.902344 C 2.804688 -5.664062 2.90625 -5.492188 3.113281 -5.382812 C 3.316406 -5.269531 4.042969 -5.078125 5.289062 -4.804688 C 6.117188 -4.609375 6.742188 -4.3125 7.15625 -3.917969 C 7.566406 -3.519531 7.769531 -3.015625 7.769531 -2.417969 C 7.769531 -1.625 7.476562 -0.980469 6.886719 -0.480469 C 6.300781 0.0195312 5.390625 0.269531 4.160156 0.269531 C 2.90625 0.269531 1.980469 0.0078125 1.378906 -0.523438 C 0.78125 -1.054688 0.484375 -1.726562 0.484375 -2.546875 Z M 2.601562 -2.546875 \"/>\n",
       "</symbol>\n",
       "<symbol overflow=\"visible\" id=\"glyph-2020-05-2886097.41397s0-11\">\n",
       "<path style=\"stroke:none;\" d=\"M 4.554688 -1.472656 C 5.164062 -1.472656 5.632812 -1.6875 5.960938 -2.125 C 6.289062 -2.558594 6.453125 -3.175781 6.453125 -3.976562 C 6.453125 -4.777344 6.289062 -5.394531 5.960938 -5.828125 C 5.632812 -6.257812 5.164062 -6.476562 4.554688 -6.476562 C 3.945312 -6.476562 3.476562 -6.257812 3.144531 -5.828125 C 2.816406 -5.394531 2.652344 -4.777344 2.652344 -3.976562 C 2.652344 -3.175781 2.816406 -2.558594 3.144531 -2.125 C 3.476562 -1.691406 3.945312 -1.472656 4.554688 -1.472656 Z M 8.640625 -3.976562 C 8.640625 -2.804688 8.304688 -1.804688 7.632812 -0.96875 C 6.957031 -0.136719 5.933594 0.277344 4.5625 0.277344 C 3.191406 0.277344 2.167969 -0.136719 1.492188 -0.96875 C 0.820312 -1.800781 0.484375 -2.804688 0.484375 -3.976562 C 0.484375 -5.128906 0.820312 -6.128906 1.492188 -6.972656 C 2.167969 -7.816406 3.191406 -8.238281 4.5625 -8.238281 C 5.933594 -8.238281 6.957031 -7.816406 7.632812 -6.972656 C 8.304688 -6.128906 8.640625 -5.128906 8.640625 -3.976562 Z M 8.640625 -3.976562 \"/>\n",
       "</symbol>\n",
       "<symbol overflow=\"visible\" id=\"glyph-2020-05-2886097.41397s0-12\">\n",
       "<path style=\"stroke:none;\" d=\"M 3.917969 -10.90625 C 4.050781 -10.90625 4.171875 -10.902344 4.277344 -10.894531 C 4.382812 -10.886719 4.53125 -10.875 4.71875 -10.863281 L 4.71875 -9.164062 C 4.601562 -9.179688 4.402344 -9.1875 4.128906 -9.195312 C 3.851562 -9.203125 3.660156 -9.140625 3.554688 -9.011719 C 3.449219 -8.882812 3.398438 -8.742188 3.398438 -8.585938 C 3.398438 -8.429688 3.398438 -8.203125 3.398438 -7.910156 L 4.769531 -7.910156 L 4.769531 -6.4375 L 3.398438 -6.4375 L 3.398438 0 L 1.320312 0 L 1.320312 -6.4375 L 0.152344 -6.4375 L 0.152344 -7.910156 L 1.296875 -7.910156 L 1.296875 -8.421875 C 1.296875 -9.277344 1.441406 -9.867188 1.726562 -10.1875 C 2.03125 -10.667969 2.761719 -10.90625 3.917969 -10.90625 Z M 3.917969 -10.90625 \"/>\n",
       "</symbol>\n",
       "<symbol overflow=\"visible\" id=\"glyph-2020-05-2886097.41397s0-13\">\n",
       "<path style=\"stroke:none;\" d=\"M 0.671875 -5.308594 C 0.671875 -7.195312 1.179688 -8.648438 2.191406 -9.667969 C 3.070312 -10.554688 4.1875 -11 5.542969 -11 C 7.359375 -11 8.6875 -10.40625 9.527344 -9.214844 C 9.992188 -8.546875 10.242188 -7.875 10.277344 -7.199219 L 8.019531 -7.199219 C 7.875 -7.71875 7.6875 -8.109375 7.457031 -8.371094 C 7.046875 -8.839844 6.4375 -9.074219 5.632812 -9.074219 C 4.8125 -9.074219 4.164062 -8.742188 3.691406 -8.082031 C 3.21875 -7.421875 2.980469 -6.484375 2.980469 -5.273438 C 2.980469 -4.0625 3.230469 -3.15625 3.730469 -2.550781 C 4.230469 -1.949219 4.867188 -1.648438 5.640625 -1.648438 C 6.429688 -1.648438 7.035156 -1.90625 7.449219 -2.425781 C 7.679688 -2.703125 7.867188 -3.121094 8.019531 -3.675781 L 10.253906 -3.675781 C 10.058594 -2.5 9.558594 -1.542969 8.757812 -0.804688 C 7.953125 -0.0664062 6.921875 0.300781 5.667969 0.300781 C 4.117188 0.300781 2.894531 -0.199219 2.007812 -1.195312 C 1.117188 -2.195312 0.671875 -3.566406 0.671875 -5.308594 Z M 0.671875 -5.308594 \"/>\n",
       "</symbol>\n",
       "<symbol overflow=\"visible\" id=\"glyph-2020-05-2886097.41397s0-14\">\n",
       "<path style=\"stroke:none;\" d=\"M 3.054688 -7.984375 L 3.054688 -3.171875 C 3.054688 -2.71875 3.109375 -2.375 3.214844 -2.144531 C 3.40625 -1.742188 3.78125 -1.539062 4.335938 -1.539062 C 5.046875 -1.539062 5.539062 -1.828125 5.800781 -2.402344 C 5.9375 -2.714844 6.007812 -3.128906 6.007812 -3.640625 L 6.007812 -7.984375 L 8.121094 -7.984375 L 8.121094 0 L 6.09375 0 L 6.09375 -1.128906 C 6.074219 -1.105469 6.023438 -1.03125 5.945312 -0.90625 C 5.867188 -0.785156 5.777344 -0.679688 5.667969 -0.585938 C 5.339844 -0.292969 5.027344 -0.09375 4.71875 0.015625 C 4.414062 0.121094 4.058594 0.175781 3.648438 0.175781 C 2.464844 0.175781 1.671875 -0.25 1.257812 -1.097656 C 1.03125 -1.566406 0.914062 -2.257812 0.914062 -3.171875 L 0.914062 -7.984375 Z M 3.054688 -7.984375 \"/>\n",
       "</symbol>\n",
       "<symbol overflow=\"visible\" id=\"glyph-2020-05-2886097.41397s0-15\">\n",
       "<path style=\"stroke:none;\" d=\"M 5.398438 -8.171875 C 6.222656 -8.171875 6.898438 -7.957031 7.421875 -7.527344 C 7.949219 -7.09375 8.210938 -6.375 8.210938 -5.375 L 8.210938 0 L 6.070312 0 L 6.070312 -4.855469 C 6.070312 -5.277344 6.015625 -5.597656 5.902344 -5.824219 C 5.699219 -6.234375 5.308594 -6.4375 4.730469 -6.4375 C 4.023438 -6.4375 3.539062 -6.136719 3.273438 -5.539062 C 3.136719 -5.21875 3.070312 -4.8125 3.070312 -4.320312 L 3.070312 0 L 0.988281 0 L 0.988281 -7.96875 L 3.003906 -7.96875 L 3.003906 -6.804688 C 3.273438 -7.214844 3.523438 -7.507812 3.765625 -7.691406 C 4.195312 -8.011719 4.738281 -8.171875 5.398438 -8.171875 Z M 5.398438 -8.171875 \"/>\n",
       "</symbol>\n",
       "<symbol overflow=\"visible\" id=\"glyph-2020-05-2886097.41397s1-0\">\n",
       "<path style=\"stroke:none;\" d=\"M 0.320312 0 L 0.320312 -7.171875 L 6.015625 -7.171875 L 6.015625 0 Z M 5.117188 -0.898438 L 5.117188 -6.273438 L 1.21875 -6.273438 L 1.21875 -0.898438 Z M 5.117188 -0.898438 \"/>\n",
       "</symbol>\n",
       "<symbol overflow=\"visible\" id=\"glyph-2020-05-2886097.41397s1-1\">\n",
       "<path style=\"stroke:none;\" d=\"M 2.703125 -6.992188 C 3.609375 -6.992188 4.265625 -6.621094 4.667969 -5.875 C 4.980469 -5.296875 5.136719 -4.507812 5.136719 -3.507812 C 5.136719 -2.554688 4.996094 -1.769531 4.710938 -1.148438 C 4.300781 -0.257812 3.632812 0.191406 2.699219 0.191406 C 1.859375 0.191406 1.234375 -0.175781 0.824219 -0.902344 C 0.484375 -1.511719 0.3125 -2.328125 0.3125 -3.355469 C 0.3125 -4.148438 0.414062 -4.832031 0.621094 -5.398438 C 1.003906 -6.460938 1.699219 -6.992188 2.703125 -6.992188 Z M 2.695312 -0.609375 C 3.152344 -0.609375 3.515625 -0.8125 3.785156 -1.214844 C 4.054688 -1.617188 4.1875 -2.371094 4.1875 -3.472656 C 4.1875 -4.265625 4.09375 -4.917969 3.898438 -5.433594 C 3.703125 -5.945312 3.320312 -6.203125 2.757812 -6.203125 C 2.242188 -6.203125 1.863281 -5.957031 1.625 -5.472656 C 1.382812 -4.984375 1.265625 -4.265625 1.265625 -3.320312 C 1.265625 -2.609375 1.339844 -2.035156 1.492188 -1.601562 C 1.726562 -0.941406 2.128906 -0.609375 2.695312 -0.609375 Z M 2.695312 -0.609375 \"/>\n",
       "</symbol>\n",
       "<symbol overflow=\"visible\" id=\"glyph-2020-05-2886097.41397s1-2\">\n",
       "<path style=\"stroke:none;\" d=\"M 0.855469 -1.0625 L 1.875 -1.0625 L 1.875 0 L 0.855469 0 Z M 0.855469 -1.0625 \"/>\n",
       "</symbol>\n",
       "<symbol overflow=\"visible\" id=\"glyph-2020-05-2886097.41397s1-3\">\n",
       "<path style=\"stroke:none;\" d=\"M 0.3125 0 C 0.34375 -0.601562 0.46875 -1.125 0.6875 -1.570312 C 0.902344 -2.015625 1.324219 -2.421875 1.953125 -2.789062 L 2.890625 -3.328125 C 3.3125 -3.574219 3.605469 -3.78125 3.773438 -3.953125 C 4.039062 -4.226562 4.175781 -4.535156 4.175781 -4.882812 C 4.175781 -5.289062 4.054688 -5.613281 3.808594 -5.851562 C 3.5625 -6.089844 3.238281 -6.210938 2.832031 -6.210938 C 2.230469 -6.210938 1.8125 -5.984375 1.582031 -5.527344 C 1.457031 -5.28125 1.390625 -4.945312 1.375 -4.511719 L 0.484375 -4.511719 C 0.492188 -5.121094 0.605469 -5.617188 0.820312 -6 C 1.203125 -6.679688 1.875 -7.015625 2.835938 -7.015625 C 3.636719 -7.015625 4.222656 -6.800781 4.59375 -6.367188 C 4.960938 -5.933594 5.148438 -5.453125 5.148438 -4.921875 C 5.148438 -4.363281 4.949219 -3.882812 4.554688 -3.484375 C 4.328125 -3.253906 3.917969 -2.976562 3.328125 -2.648438 L 2.660156 -2.273438 C 2.34375 -2.097656 2.089844 -1.933594 1.910156 -1.773438 C 1.585938 -1.488281 1.378906 -1.175781 1.292969 -0.828125 L 5.113281 -0.828125 L 5.113281 0 Z M 0.3125 0 \"/>\n",
       "</symbol>\n",
       "<symbol overflow=\"visible\" id=\"glyph-2020-05-2886097.41397s1-4\">\n",
       "<path style=\"stroke:none;\" d=\"M 3.304688 -2.476562 L 3.304688 -5.644531 L 1.0625 -2.476562 Z M 3.320312 0 L 3.320312 -1.710938 L 0.253906 -1.710938 L 0.253906 -2.570312 L 3.457031 -7.011719 L 4.199219 -7.011719 L 4.199219 -2.476562 L 5.230469 -2.476562 L 5.230469 -1.710938 L 4.199219 -1.710938 L 4.199219 0 Z M 3.320312 0 \"/>\n",
       "</symbol>\n",
       "<symbol overflow=\"visible\" id=\"glyph-2020-05-2886097.41397s1-5\">\n",
       "<path style=\"stroke:none;\" d=\"M 2.925781 -7.023438 C 3.707031 -7.023438 4.25 -6.820312 4.558594 -6.414062 C 4.867188 -6.007812 5.019531 -5.589844 5.019531 -5.160156 L 4.148438 -5.160156 C 4.097656 -5.4375 4.015625 -5.65625 3.902344 -5.8125 C 3.691406 -6.105469 3.367188 -6.25 2.9375 -6.25 C 2.445312 -6.25 2.058594 -6.023438 1.765625 -5.570312 C 1.476562 -5.117188 1.316406 -4.464844 1.285156 -3.617188 C 1.484375 -3.914062 1.738281 -4.136719 2.046875 -4.28125 C 2.328125 -4.414062 2.636719 -4.476562 2.984375 -4.476562 C 3.570312 -4.476562 4.082031 -4.289062 4.515625 -3.914062 C 4.953125 -3.539062 5.171875 -2.984375 5.171875 -2.242188 C 5.171875 -1.605469 4.964844 -1.042969 4.550781 -0.554688 C 4.136719 -0.0625 3.546875 0.179688 2.78125 0.179688 C 2.128906 0.179688 1.5625 -0.0664062 1.089844 -0.5625 C 0.613281 -1.058594 0.375 -1.894531 0.375 -3.070312 C 0.375 -3.941406 0.480469 -4.679688 0.695312 -5.28125 C 1.101562 -6.441406 1.84375 -7.023438 2.925781 -7.023438 Z M 2.859375 -0.601562 C 3.324219 -0.601562 3.667969 -0.757812 3.898438 -1.066406 C 4.128906 -1.378906 4.242188 -1.746094 4.242188 -2.167969 C 4.242188 -2.527344 4.140625 -2.867188 3.9375 -3.191406 C 3.730469 -3.515625 3.359375 -3.675781 2.816406 -3.675781 C 2.4375 -3.675781 2.109375 -3.550781 1.824219 -3.300781 C 1.539062 -3.050781 1.398438 -2.671875 1.398438 -2.167969 C 1.398438 -1.726562 1.527344 -1.351562 1.785156 -1.050781 C 2.042969 -0.75 2.402344 -0.601562 2.859375 -0.601562 Z M 2.859375 -0.601562 \"/>\n",
       "</symbol>\n",
       "<symbol overflow=\"visible\" id=\"glyph-2020-05-2886097.41397s1-6\">\n",
       "<path style=\"stroke:none;\" d=\"M 2.71875 -4.0625 C 3.105469 -4.0625 3.410156 -4.171875 3.628906 -4.386719 C 3.847656 -4.601562 3.953125 -4.863281 3.953125 -5.160156 C 3.953125 -5.421875 3.851562 -5.660156 3.640625 -5.878906 C 3.433594 -6.097656 3.117188 -6.207031 2.691406 -6.207031 C 2.265625 -6.207031 1.960938 -6.097656 1.773438 -5.878906 C 1.585938 -5.660156 1.488281 -5.40625 1.488281 -5.113281 C 1.488281 -4.785156 1.609375 -4.527344 1.855469 -4.339844 C 2.101562 -4.15625 2.386719 -4.0625 2.71875 -4.0625 Z M 2.773438 -0.601562 C 3.179688 -0.601562 3.519531 -0.710938 3.785156 -0.929688 C 4.054688 -1.148438 4.1875 -1.476562 4.1875 -1.914062 C 4.1875 -2.367188 4.050781 -2.710938 3.773438 -2.945312 C 3.496094 -3.179688 3.144531 -3.296875 2.710938 -3.296875 C 2.289062 -3.296875 1.949219 -3.175781 1.683594 -2.9375 C 1.417969 -2.699219 1.285156 -2.367188 1.285156 -1.945312 C 1.285156 -1.578125 1.40625 -1.265625 1.648438 -1 C 1.890625 -0.734375 2.265625 -0.601562 2.773438 -0.601562 Z M 1.523438 -3.726562 C 1.28125 -3.828125 1.089844 -3.953125 0.953125 -4.09375 C 0.695312 -4.351562 0.566406 -4.691406 0.566406 -5.109375 C 0.566406 -5.628906 0.753906 -6.074219 1.132812 -6.449219 C 1.511719 -6.824219 2.046875 -7.011719 2.738281 -7.011719 C 3.410156 -7.011719 3.9375 -6.835938 4.316406 -6.480469 C 4.695312 -6.128906 4.886719 -5.714844 4.886719 -5.242188 C 4.886719 -4.808594 4.777344 -4.453125 4.554688 -4.183594 C 4.429688 -4.03125 4.238281 -3.882812 3.980469 -3.734375 C 4.269531 -3.601562 4.496094 -3.449219 4.664062 -3.277344 C 4.972656 -2.953125 5.125 -2.527344 5.125 -2.007812 C 5.125 -1.390625 4.921875 -0.871094 4.507812 -0.441406 C 4.09375 -0.015625 3.507812 0.199219 2.753906 0.199219 C 2.074219 0.199219 1.5 0.015625 1.027344 -0.355469 C 0.558594 -0.722656 0.320312 -1.257812 0.320312 -1.960938 C 0.320312 -2.375 0.421875 -2.734375 0.625 -3.035156 C 0.828125 -3.335938 1.125 -3.566406 1.523438 -3.726562 Z M 1.523438 -3.726562 \"/>\n",
       "</symbol>\n",
       "<symbol overflow=\"visible\" id=\"glyph-2020-05-2886097.41397s1-7\">\n",
       "<path style=\"stroke:none;\" d=\"M 0.414062 -3.238281 L 2.867188 -3.238281 L 2.867188 -2.335938 L 0.414062 -2.335938 Z M 0.414062 -3.238281 \"/>\n",
       "</symbol>\n",
       "<symbol overflow=\"visible\" id=\"glyph-2020-05-2886097.41397s1-8\">\n",
       "<path style=\"stroke:none;\" d=\"M 1.234375 -1.78125 C 1.292969 -1.28125 1.527344 -0.933594 1.933594 -0.742188 C 2.140625 -0.644531 2.382812 -0.59375 2.65625 -0.59375 C 3.175781 -0.59375 3.5625 -0.761719 3.8125 -1.09375 C 4.0625 -1.425781 4.1875 -1.792969 4.1875 -2.195312 C 4.1875 -2.683594 4.039062 -3.0625 3.742188 -3.328125 C 3.445312 -3.597656 3.085938 -3.730469 2.671875 -3.730469 C 2.367188 -3.730469 2.109375 -3.671875 1.890625 -3.554688 C 1.675781 -3.4375 1.492188 -3.273438 1.335938 -3.066406 L 0.578125 -3.109375 L 1.109375 -6.875 L 4.742188 -6.875 L 4.742188 -6.023438 L 1.765625 -6.023438 L 1.46875 -4.082031 C 1.632812 -4.207031 1.789062 -4.296875 1.933594 -4.359375 C 2.195312 -4.46875 2.496094 -4.523438 2.835938 -4.523438 C 3.476562 -4.523438 4.023438 -4.316406 4.46875 -3.902344 C 4.914062 -3.488281 5.136719 -2.964844 5.136719 -2.328125 C 5.136719 -1.667969 4.933594 -1.085938 4.523438 -0.582031 C 4.117188 -0.078125 3.464844 0.175781 2.570312 0.175781 C 2 0.175781 1.496094 0.015625 1.058594 -0.304688 C 0.621094 -0.625 0.375 -1.117188 0.320312 -1.78125 Z M 1.234375 -1.78125 \"/>\n",
       "</symbol>\n",
       "<symbol overflow=\"visible\" id=\"glyph-2020-05-2886097.41397s1-9\">\n",
       "<path style=\"stroke:none;\" d=\"M 0.957031 -4.953125 L 0.957031 -5.625 C 1.59375 -5.6875 2.035156 -5.789062 2.285156 -5.933594 C 2.535156 -6.078125 2.722656 -6.421875 2.847656 -6.960938 L 3.539062 -6.960938 L 3.539062 0 L 2.601562 0 L 2.601562 -4.953125 Z M 0.957031 -4.953125 \"/>\n",
       "</symbol>\n",
       "<symbol overflow=\"visible\" id=\"glyph-2020-05-2886097.41397s1-10\">\n",
       "<path style=\"stroke:none;\" d=\"M 2.597656 0.191406 C 1.769531 0.191406 1.171875 -0.0351562 0.796875 -0.492188 C 0.425781 -0.945312 0.238281 -1.496094 0.238281 -2.148438 L 1.15625 -2.148438 C 1.195312 -1.695312 1.28125 -1.367188 1.410156 -1.164062 C 1.640625 -0.796875 2.050781 -0.609375 2.648438 -0.609375 C 3.109375 -0.609375 3.480469 -0.734375 3.757812 -0.980469 C 4.039062 -1.226562 4.179688 -1.546875 4.179688 -1.9375 C 4.179688 -2.421875 4.03125 -2.757812 3.738281 -2.949219 C 3.445312 -3.140625 3.035156 -3.238281 2.507812 -3.238281 C 2.449219 -3.238281 2.390625 -3.238281 2.332031 -3.234375 C 2.273438 -3.234375 2.210938 -3.230469 2.148438 -3.226562 L 2.148438 -4.003906 C 2.238281 -3.992188 2.316406 -3.988281 2.378906 -3.984375 C 2.441406 -3.980469 2.507812 -3.980469 2.578125 -3.980469 C 2.90625 -3.980469 3.175781 -4.03125 3.390625 -4.136719 C 3.761719 -4.320312 3.945312 -4.644531 3.945312 -5.113281 C 3.945312 -5.460938 3.820312 -5.730469 3.574219 -5.917969 C 3.328125 -6.105469 3.039062 -6.203125 2.710938 -6.203125 C 2.125 -6.203125 1.71875 -6.007812 1.492188 -5.617188 C 1.371094 -5.402344 1.300781 -5.09375 1.285156 -4.695312 L 0.414062 -4.695312 C 0.414062 -5.21875 0.519531 -5.660156 0.726562 -6.023438 C 1.085938 -6.675781 1.714844 -7 2.617188 -7 C 3.328125 -7 3.882812 -6.84375 4.273438 -6.527344 C 4.664062 -6.210938 4.859375 -5.75 4.859375 -5.148438 C 4.859375 -4.71875 4.742188 -4.367188 4.511719 -4.101562 C 4.367188 -3.9375 4.183594 -3.804688 3.953125 -3.710938 C 4.320312 -3.609375 4.609375 -3.414062 4.816406 -3.128906 C 5.023438 -2.839844 5.125 -2.488281 5.125 -2.070312 C 5.125 -1.402344 4.90625 -0.859375 4.46875 -0.4375 C 4.027344 -0.0195312 3.40625 0.191406 2.597656 0.191406 Z M 2.597656 0.191406 \"/>\n",
       "</symbol>\n",
       "<symbol overflow=\"visible\" id=\"glyph-2020-05-2886097.41397s1-11\">\n",
       "<path style=\"stroke:none;\" d=\"M 3.515625 -0.828125 C 3.84375 -0.828125 4.113281 -0.863281 4.328125 -0.933594 C 4.703125 -1.058594 5.011719 -1.304688 5.253906 -1.664062 C 5.445312 -1.953125 5.585938 -2.324219 5.667969 -2.777344 C 5.71875 -3.046875 5.742188 -3.300781 5.742188 -3.53125 C 5.742188 -4.417969 5.566406 -5.109375 5.210938 -5.601562 C 4.859375 -6.09375 4.289062 -6.335938 3.507812 -6.335938 L 1.78125 -6.335938 L 1.78125 -0.828125 Z M 0.804688 -7.171875 L 3.710938 -7.171875 C 4.695312 -7.171875 5.460938 -6.824219 6.007812 -6.125 C 6.492188 -5.492188 6.734375 -4.683594 6.734375 -3.695312 C 6.734375 -2.933594 6.589844 -2.246094 6.304688 -1.632812 C 5.800781 -0.542969 4.929688 0 3.703125 0 L 0.804688 0 Z M 0.804688 -7.171875 \"/>\n",
       "</symbol>\n",
       "<symbol overflow=\"visible\" id=\"glyph-2020-05-2886097.41397s1-12\">\n",
       "<path style=\"stroke:none;\" d=\"M 2.820312 -5.347656 C 3.191406 -5.347656 3.554688 -5.257812 3.902344 -5.085938 C 4.25 -4.910156 4.515625 -4.6875 4.695312 -4.410156 C 4.871094 -4.144531 4.992188 -3.835938 5.046875 -3.484375 C 5.101562 -3.246094 5.125 -2.859375 5.125 -2.335938 L 1.292969 -2.335938 C 1.308594 -1.804688 1.4375 -1.378906 1.671875 -1.058594 C 1.90625 -0.738281 2.265625 -0.578125 2.757812 -0.578125 C 3.21875 -0.578125 3.585938 -0.726562 3.859375 -1.03125 C 4.015625 -1.207031 4.125 -1.410156 4.1875 -1.640625 L 5.054688 -1.640625 C 5.03125 -1.449219 4.957031 -1.234375 4.828125 -1 C 4.699219 -0.761719 4.554688 -0.570312 4.394531 -0.421875 C 4.128906 -0.160156 3.796875 0.015625 3.402344 0.109375 C 3.191406 0.160156 2.953125 0.1875 2.6875 0.1875 C 2.035156 0.1875 1.484375 -0.0507812 1.03125 -0.523438 C 0.578125 -1 0.351562 -1.660156 0.351562 -2.515625 C 0.351562 -3.355469 0.578125 -4.035156 1.035156 -4.5625 C 1.492188 -5.085938 2.085938 -5.347656 2.820312 -5.347656 Z M 4.222656 -3.03125 C 4.1875 -3.414062 4.105469 -3.71875 3.976562 -3.945312 C 3.734375 -4.367188 3.332031 -4.578125 2.769531 -4.578125 C 2.367188 -4.578125 2.027344 -4.433594 1.753906 -4.144531 C 1.480469 -3.851562 1.335938 -3.480469 1.320312 -3.03125 Z M 4.222656 -3.03125 \"/>\n",
       "</symbol>\n",
       "<symbol overflow=\"visible\" id=\"glyph-2020-05-2886097.41397s1-13\">\n",
       "<path style=\"stroke:none;\" d=\"M 0.644531 -5.230469 L 1.515625 -5.230469 L 1.515625 -4.488281 C 1.722656 -4.746094 1.910156 -4.929688 2.078125 -5.046875 C 2.367188 -5.246094 2.699219 -5.347656 3.066406 -5.347656 C 3.484375 -5.347656 3.820312 -5.242188 4.070312 -5.039062 C 4.214844 -4.921875 4.34375 -4.75 4.460938 -4.523438 C 4.65625 -4.800781 4.886719 -5.007812 5.152344 -5.144531 C 5.414062 -5.28125 5.710938 -5.347656 6.039062 -5.347656 C 6.742188 -5.347656 7.222656 -5.09375 7.476562 -4.585938 C 7.613281 -4.3125 7.679688 -3.945312 7.679688 -3.480469 L 7.679688 0 L 6.765625 0 L 6.765625 -3.632812 C 6.765625 -3.980469 6.679688 -4.21875 6.507812 -4.351562 C 6.332031 -4.480469 6.121094 -4.546875 5.867188 -4.546875 C 5.523438 -4.546875 5.226562 -4.429688 4.976562 -4.199219 C 4.726562 -3.96875 4.605469 -3.582031 4.605469 -3.042969 L 4.605469 0 L 3.710938 0 L 3.710938 -3.414062 C 3.710938 -3.769531 3.667969 -4.027344 3.585938 -4.1875 C 3.453125 -4.433594 3.203125 -4.554688 2.835938 -4.554688 C 2.503906 -4.554688 2.203125 -4.425781 1.929688 -4.171875 C 1.660156 -3.914062 1.523438 -3.445312 1.523438 -2.773438 L 1.523438 0 L 0.644531 0 Z M 0.644531 -5.230469 \"/>\n",
       "</symbol>\n",
       "<symbol overflow=\"visible\" id=\"glyph-2020-05-2886097.41397s1-14\">\n",
       "<path style=\"stroke:none;\" d=\"M 2.71875 -0.566406 C 3.300781 -0.566406 3.703125 -0.785156 3.917969 -1.226562 C 4.132812 -1.667969 4.242188 -2.160156 4.242188 -2.699219 C 4.242188 -3.1875 4.164062 -3.585938 4.007812 -3.890625 C 3.761719 -4.375 3.335938 -4.613281 2.730469 -4.613281 C 2.191406 -4.613281 1.800781 -4.410156 1.558594 -4 C 1.3125 -3.589844 1.191406 -3.09375 1.191406 -2.515625 C 1.191406 -1.957031 1.3125 -1.492188 1.558594 -1.125 C 1.800781 -0.753906 2.1875 -0.566406 2.71875 -0.566406 Z M 2.753906 -5.382812 C 3.429688 -5.382812 3.996094 -5.15625 4.460938 -4.707031 C 4.929688 -4.257812 5.160156 -3.597656 5.160156 -2.726562 C 5.160156 -1.882812 4.957031 -1.183594 4.546875 -0.632812 C 4.136719 -0.0859375 3.5 0.191406 2.636719 0.191406 C 1.917969 0.191406 1.347656 -0.0546875 0.921875 -0.539062 C 0.5 -1.027344 0.289062 -1.679688 0.289062 -2.5 C 0.289062 -3.378906 0.511719 -4.078125 0.957031 -4.601562 C 1.402344 -5.121094 2 -5.382812 2.753906 -5.382812 Z M 2.753906 -5.382812 \"/>\n",
       "</symbol>\n",
       "<symbol overflow=\"visible\" id=\"glyph-2020-05-2886097.41397s1-15\">\n",
       "<path style=\"stroke:none;\" d=\"M 2.660156 -5.382812 C 3.25 -5.382812 3.730469 -5.238281 4.097656 -4.953125 C 4.46875 -4.664062 4.691406 -4.171875 4.765625 -3.472656 L 3.910156 -3.472656 C 3.859375 -3.792969 3.742188 -4.0625 3.554688 -4.273438 C 3.367188 -4.488281 3.070312 -4.59375 2.660156 -4.59375 C 2.101562 -4.59375 1.699219 -4.320312 1.460938 -3.773438 C 1.304688 -3.417969 1.226562 -2.980469 1.226562 -2.460938 C 1.226562 -1.9375 1.335938 -1.496094 1.558594 -1.136719 C 1.78125 -0.78125 2.128906 -0.601562 2.601562 -0.601562 C 2.96875 -0.601562 3.257812 -0.710938 3.46875 -0.933594 C 3.683594 -1.15625 3.828125 -1.464844 3.910156 -1.851562 L 4.765625 -1.851562 C 4.667969 -1.15625 4.421875 -0.648438 4.03125 -0.328125 C 3.640625 -0.0078125 3.144531 0.152344 2.535156 0.152344 C 1.851562 0.152344 1.304688 -0.0976562 0.898438 -0.597656 C 0.492188 -1.097656 0.289062 -1.722656 0.289062 -2.46875 C 0.289062 -3.386719 0.511719 -4.101562 0.957031 -4.613281 C 1.402344 -5.125 1.972656 -5.382812 2.660156 -5.382812 Z M 2.660156 -5.382812 \"/>\n",
       "</symbol>\n",
       "<symbol overflow=\"visible\" id=\"glyph-2020-05-2886097.41397s1-16\">\n",
       "<path style=\"stroke:none;\" d=\"M 0.667969 -5.230469 L 1.503906 -5.230469 L 1.503906 -4.328125 C 1.570312 -4.503906 1.738281 -4.714844 2.007812 -4.96875 C 2.273438 -5.21875 2.582031 -5.347656 2.929688 -5.347656 C 2.945312 -5.347656 2.972656 -5.34375 3.011719 -5.34375 C 3.050781 -5.339844 3.117188 -5.332031 3.210938 -5.320312 L 3.210938 -4.394531 C 3.160156 -4.40625 3.113281 -4.410156 3.070312 -4.414062 C 3.023438 -4.417969 2.976562 -4.417969 2.925781 -4.417969 C 2.484375 -4.417969 2.140625 -4.277344 1.90625 -3.992188 C 1.667969 -3.707031 1.546875 -3.378906 1.546875 -3.007812 L 1.546875 0 L 0.667969 0 Z M 0.667969 -5.230469 \"/>\n",
       "</symbol>\n",
       "<symbol overflow=\"visible\" id=\"glyph-2020-05-2886097.41397s1-17\">\n",
       "<path style=\"stroke:none;\" d=\"M 1.320312 -1.390625 C 1.320312 -1.136719 1.410156 -0.9375 1.597656 -0.789062 C 1.78125 -0.644531 2 -0.570312 2.257812 -0.570312 C 2.566406 -0.570312 2.863281 -0.644531 3.15625 -0.785156 C 3.644531 -1.023438 3.886719 -1.414062 3.886719 -1.953125 L 3.886719 -2.660156 C 3.78125 -2.59375 3.640625 -2.535156 3.472656 -2.492188 C 3.304688 -2.445312 3.136719 -2.414062 2.972656 -2.390625 L 2.441406 -2.324219 C 2.121094 -2.28125 1.882812 -2.214844 1.722656 -2.125 C 1.453125 -1.972656 1.320312 -1.726562 1.320312 -1.390625 Z M 3.445312 -3.167969 C 3.648438 -3.195312 3.785156 -3.28125 3.851562 -3.421875 C 3.890625 -3.5 3.910156 -3.613281 3.910156 -3.757812 C 3.910156 -4.058594 3.804688 -4.277344 3.589844 -4.410156 C 3.378906 -4.546875 3.074219 -4.613281 2.675781 -4.613281 C 2.21875 -4.613281 1.890625 -4.492188 1.699219 -4.242188 C 1.59375 -4.105469 1.523438 -3.902344 1.488281 -3.632812 L 0.667969 -3.632812 C 0.683594 -4.277344 0.894531 -4.726562 1.296875 -4.976562 C 1.699219 -5.230469 2.164062 -5.355469 2.695312 -5.355469 C 3.3125 -5.355469 3.808594 -5.238281 4.195312 -5.003906 C 4.574219 -4.769531 4.765625 -4.40625 4.765625 -3.910156 L 4.765625 -0.898438 C 4.765625 -0.808594 4.785156 -0.734375 4.820312 -0.679688 C 4.859375 -0.625 4.9375 -0.59375 5.058594 -0.59375 C 5.097656 -0.59375 5.140625 -0.597656 5.191406 -0.601562 C 5.238281 -0.609375 5.292969 -0.617188 5.347656 -0.625 L 5.347656 0.0234375 C 5.210938 0.0625 5.105469 0.0859375 5.035156 0.0976562 C 4.960938 0.109375 4.863281 0.113281 4.742188 0.113281 C 4.4375 0.113281 4.21875 0.00390625 4.082031 -0.210938 C 4.011719 -0.324219 3.960938 -0.484375 3.929688 -0.695312 C 3.75 -0.460938 3.496094 -0.253906 3.160156 -0.0820312 C 2.824219 0.0898438 2.453125 0.175781 2.050781 0.175781 C 1.566406 0.175781 1.167969 0.0273438 0.863281 -0.265625 C 0.554688 -0.5625 0.398438 -0.929688 0.398438 -1.371094 C 0.398438 -1.855469 0.550781 -2.234375 0.855469 -2.5 C 1.15625 -2.765625 1.554688 -2.929688 2.046875 -2.992188 Z M 3.445312 -3.167969 \"/>\n",
       "</symbol>\n",
       "<symbol overflow=\"visible\" id=\"glyph-2020-05-2886097.41397s1-18\">\n",
       "<path style=\"stroke:none;\" d=\"M 0.820312 -6.6875 L 1.710938 -6.6875 L 1.710938 -5.230469 L 2.542969 -5.230469 L 2.542969 -4.511719 L 1.710938 -4.511719 L 1.710938 -1.097656 C 1.710938 -0.914062 1.769531 -0.792969 1.894531 -0.734375 C 1.960938 -0.695312 2.078125 -0.679688 2.234375 -0.679688 C 2.277344 -0.679688 2.324219 -0.679688 2.375 -0.679688 C 2.421875 -0.683594 2.480469 -0.6875 2.542969 -0.695312 L 2.542969 0 C 2.441406 0.03125 2.339844 0.0507812 2.230469 0.0625 C 2.121094 0.078125 2 0.0820312 1.875 0.0820312 C 1.464844 0.0820312 1.1875 -0.0234375 1.039062 -0.230469 C 0.894531 -0.441406 0.820312 -0.714844 0.820312 -1.050781 L 0.820312 -4.511719 L 0.113281 -4.511719 L 0.113281 -5.230469 L 0.820312 -5.230469 Z M 0.820312 -6.6875 \"/>\n",
       "</symbol>\n",
       "<symbol overflow=\"visible\" id=\"glyph-2020-05-2886097.41397s1-19\">\n",
       "<path style=\"stroke:none;\" d=\"M 4.097656 -3.886719 C 4.554688 -3.886719 4.914062 -3.976562 5.179688 -4.160156 C 5.445312 -4.34375 5.578125 -4.671875 5.578125 -5.148438 C 5.578125 -5.65625 5.390625 -6.007812 5.019531 -6.191406 C 4.820312 -6.289062 4.554688 -6.335938 4.222656 -6.335938 L 1.851562 -6.335938 L 1.851562 -3.886719 Z M 0.878906 -7.171875 L 4.199219 -7.171875 C 4.746094 -7.171875 5.195312 -7.09375 5.550781 -6.933594 C 6.226562 -6.628906 6.5625 -6.0625 6.5625 -5.238281 C 6.5625 -4.808594 6.472656 -4.457031 6.296875 -4.183594 C 6.117188 -3.910156 5.871094 -3.691406 5.550781 -3.523438 C 5.832031 -3.410156 6.042969 -3.261719 6.183594 -3.078125 C 6.324219 -2.890625 6.40625 -2.589844 6.421875 -2.171875 L 6.453125 -1.210938 C 6.464844 -0.9375 6.488281 -0.734375 6.523438 -0.601562 C 6.582031 -0.375 6.6875 -0.226562 6.835938 -0.160156 L 6.835938 0 L 5.644531 0 C 5.613281 -0.0625 5.585938 -0.140625 5.566406 -0.238281 C 5.546875 -0.335938 5.53125 -0.527344 5.515625 -0.804688 L 5.460938 -2 C 5.4375 -2.46875 5.261719 -2.785156 4.9375 -2.945312 C 4.75 -3.03125 4.460938 -3.078125 4.0625 -3.078125 L 1.851562 -3.078125 L 1.851562 0 L 0.878906 0 Z M 0.878906 -7.171875 \"/>\n",
       "</symbol>\n",
       "<symbol overflow=\"visible\" id=\"glyph-2020-05-2886097.41397s1-20\">\n",
       "<path style=\"stroke:none;\" d=\"M 2.851562 -0.589844 C 3.261719 -0.589844 3.601562 -0.761719 3.875 -1.105469 C 4.148438 -1.449219 4.28125 -1.960938 4.28125 -2.648438 C 4.28125 -3.0625 4.222656 -3.421875 4.101562 -3.71875 C 3.875 -4.296875 3.457031 -4.585938 2.851562 -4.585938 C 2.242188 -4.585938 1.828125 -4.28125 1.601562 -3.671875 C 1.480469 -3.347656 1.421875 -2.933594 1.421875 -2.429688 C 1.421875 -2.027344 1.480469 -1.683594 1.601562 -1.402344 C 1.828125 -0.859375 2.246094 -0.589844 2.851562 -0.589844 Z M 0.578125 -5.203125 L 1.429688 -5.203125 L 1.429688 -4.511719 C 1.605469 -4.75 1.796875 -4.933594 2.007812 -5.0625 C 2.304688 -5.257812 2.652344 -5.355469 3.050781 -5.355469 C 3.644531 -5.355469 4.148438 -5.128906 4.5625 -4.675781 C 4.976562 -4.222656 5.179688 -3.574219 5.179688 -2.730469 C 5.179688 -1.589844 4.882812 -0.777344 4.289062 -0.289062 C 3.910156 0.0195312 3.46875 0.175781 2.96875 0.175781 C 2.574219 0.175781 2.246094 0.0898438 1.976562 -0.0820312 C 1.820312 -0.179688 1.648438 -0.347656 1.453125 -0.585938 L 1.453125 2.085938 L 0.578125 2.085938 Z M 0.578125 -5.203125 \"/>\n",
       "</symbol>\n",
       "<symbol overflow=\"visible\" id=\"glyph-2020-05-2886097.41397s1-21\">\n",
       "<path style=\"stroke:none;\" d=\"M 1.523438 -5.230469 L 1.523438 -1.757812 C 1.523438 -1.492188 1.566406 -1.273438 1.648438 -1.101562 C 1.804688 -0.789062 2.097656 -0.632812 2.523438 -0.632812 C 3.136719 -0.632812 3.554688 -0.90625 3.773438 -1.453125 C 3.894531 -1.746094 3.953125 -2.148438 3.953125 -2.660156 L 3.953125 -5.230469 L 4.835938 -5.230469 L 4.835938 0 L 4.003906 0 L 4.015625 -0.773438 C 3.898438 -0.574219 3.757812 -0.40625 3.589844 -0.269531 C 3.253906 0.00390625 2.847656 0.140625 2.367188 0.140625 C 1.621094 0.140625 1.113281 -0.109375 0.84375 -0.605469 C 0.699219 -0.871094 0.625 -1.230469 0.625 -1.675781 L 0.625 -5.230469 Z M 1.523438 -5.230469 \"/>\n",
       "</symbol>\n",
       "<symbol overflow=\"visible\" id=\"glyph-2020-05-2886097.41397s1-22\">\n",
       "<path style=\"stroke:none;\" d=\"M 0.578125 -7.195312 L 1.429688 -7.195312 L 1.429688 -4.59375 C 1.621094 -4.84375 1.851562 -5.035156 2.117188 -5.167969 C 2.386719 -5.300781 2.675781 -5.367188 2.988281 -5.367188 C 3.640625 -5.367188 4.167969 -5.140625 4.574219 -4.695312 C 4.976562 -4.246094 5.179688 -3.585938 5.179688 -2.714844 C 5.179688 -1.886719 4.980469 -1.203125 4.578125 -0.65625 C 4.179688 -0.109375 3.625 0.164062 2.914062 0.164062 C 2.515625 0.164062 2.183594 0.0703125 1.910156 -0.121094 C 1.746094 -0.234375 1.570312 -0.417969 1.386719 -0.667969 L 1.386719 0 L 0.578125 0 Z M 2.859375 -0.609375 C 3.335938 -0.609375 3.691406 -0.800781 3.929688 -1.175781 C 4.164062 -1.554688 4.28125 -2.050781 4.28125 -2.671875 C 4.28125 -3.222656 4.164062 -3.675781 3.929688 -4.039062 C 3.691406 -4.398438 3.34375 -4.578125 2.886719 -4.578125 C 2.484375 -4.578125 2.132812 -4.433594 1.832031 -4.136719 C 1.53125 -3.839844 1.382812 -3.351562 1.382812 -2.671875 C 1.382812 -2.179688 1.445312 -1.78125 1.566406 -1.476562 C 1.796875 -0.898438 2.230469 -0.609375 2.859375 -0.609375 Z M 2.859375 -0.609375 \"/>\n",
       "</symbol>\n",
       "<symbol overflow=\"visible\" id=\"glyph-2020-05-2886097.41397s1-23\">\n",
       "<path style=\"stroke:none;\" d=\"M 0.667969 -7.171875 L 1.546875 -7.171875 L 1.546875 0 L 0.667969 0 Z M 0.667969 -7.171875 \"/>\n",
       "</symbol>\n",
       "<symbol overflow=\"visible\" id=\"glyph-2020-05-2886097.41397s1-24\">\n",
       "<path style=\"stroke:none;\" d=\"M 0.644531 -5.203125 L 1.539062 -5.203125 L 1.539062 0 L 0.644531 0 Z M 0.644531 -7.171875 L 1.539062 -7.171875 L 1.539062 -6.175781 L 0.644531 -6.175781 Z M 0.644531 -7.171875 \"/>\n",
       "</symbol>\n",
       "<symbol overflow=\"visible\" id=\"glyph-2020-05-2886097.41397s1-25\">\n",
       "<path style=\"stroke:none;\" d=\"M 0.644531 -5.230469 L 1.480469 -5.230469 L 1.480469 -4.488281 C 1.726562 -4.792969 1.988281 -5.011719 2.265625 -5.148438 C 2.542969 -5.28125 2.851562 -5.347656 3.1875 -5.347656 C 3.929688 -5.347656 4.433594 -5.085938 4.691406 -4.570312 C 4.835938 -4.289062 4.90625 -3.882812 4.90625 -3.355469 L 4.90625 0 L 4.015625 0 L 4.015625 -3.296875 C 4.015625 -3.617188 3.964844 -3.871094 3.871094 -4.066406 C 3.714844 -4.390625 3.433594 -4.554688 3.023438 -4.554688 C 2.8125 -4.554688 2.644531 -4.535156 2.507812 -4.492188 C 2.269531 -4.421875 2.058594 -4.277344 1.875 -4.0625 C 1.726562 -3.890625 1.632812 -3.710938 1.589844 -3.527344 C 1.546875 -3.34375 1.523438 -3.082031 1.523438 -2.738281 L 1.523438 0 L 0.644531 0 Z M 0.644531 -5.230469 \"/>\n",
       "</symbol>\n",
       "</g>\n",
       "<clipPath id=\"clip-2020-05-2886097.41397s1\">\n",
       "  <path d=\"M 68 105 L 72 105 L 72 250 L 68 250 Z M 68 105 \"/>\n",
       "</clipPath>\n",
       "<clipPath id=\"clip-2020-05-2886097.41397s2\">\n",
       "  <path d=\"M 70 44 L 75 44 L 75 250 L 70 250 Z M 70 44 \"/>\n",
       "</clipPath>\n",
       "<clipPath id=\"clip-2020-05-2886097.41397s3\">\n",
       "  <path d=\"M 91 185 L 96 185 L 96 250 L 91 250 Z M 91 185 \"/>\n",
       "</clipPath>\n",
       "<clipPath id=\"clip-2020-05-2886097.41397s4\">\n",
       "  <path d=\"M 94 208 L 98 208 L 98 250 L 94 250 Z M 94 208 \"/>\n",
       "</clipPath>\n",
       "<clipPath id=\"clip-2020-05-2886097.41397s5\">\n",
       "  <path d=\"M 114 224 L 119 224 L 119 250 L 114 250 Z M 114 224 \"/>\n",
       "</clipPath>\n",
       "<clipPath id=\"clip-2020-05-2886097.41397s6\">\n",
       "  <path d=\"M 117 236 L 121 236 L 121 250 L 117 250 Z M 117 236 \"/>\n",
       "</clipPath>\n",
       "<clipPath id=\"clip-2020-05-2886097.41397s7\">\n",
       "  <path d=\"M 138 235 L 142 235 L 142 250 L 138 250 Z M 138 235 \"/>\n",
       "</clipPath>\n",
       "<clipPath id=\"clip-2020-05-2886097.41397s8\">\n",
       "  <path d=\"M 140 245 L 145 245 L 145 250 L 140 250 Z M 140 245 \"/>\n",
       "</clipPath>\n",
       "<clipPath id=\"clip-2020-05-2886097.41397s9\">\n",
       "  <path d=\"M 161 246 L 165 246 L 165 250 L 161 250 Z M 161 246 \"/>\n",
       "</clipPath>\n",
       "<clipPath id=\"clip-2020-05-2886097.41397s10\">\n",
       "  <path d=\"M 163 247 L 168 247 L 168 250 L 163 250 Z M 163 247 \"/>\n",
       "</clipPath>\n",
       "<clipPath id=\"clip-2020-05-2886097.41397s11\">\n",
       "  <path d=\"M 184 240 L 189 240 L 189 250 L 184 250 Z M 184 240 \"/>\n",
       "</clipPath>\n",
       "<clipPath id=\"clip-2020-05-2886097.41397s12\">\n",
       "  <path d=\"M 187 248 L 191 248 L 191 250 L 187 250 Z M 187 248 \"/>\n",
       "</clipPath>\n",
       "<clipPath id=\"clip-2020-05-2886097.41397s13\">\n",
       "  <path d=\"M 207 245 L 212 245 L 212 250 L 207 250 Z M 207 245 \"/>\n",
       "</clipPath>\n",
       "<clipPath id=\"clip-2020-05-2886097.41397s14\">\n",
       "  <path d=\"M 210 248 L 214 248 L 214 250 L 210 250 Z M 210 248 \"/>\n",
       "</clipPath>\n",
       "<clipPath id=\"clip-2020-05-2886097.41397s15\">\n",
       "  <path d=\"M 230 246 L 235 246 L 235 250 L 230 250 Z M 230 246 \"/>\n",
       "</clipPath>\n",
       "<clipPath id=\"clip-2020-05-2886097.41397s16\">\n",
       "  <path d=\"M 233 248 L 237 248 L 237 250 L 233 250 Z M 233 248 \"/>\n",
       "</clipPath>\n",
       "<clipPath id=\"clip-2020-05-2886097.41397s17\">\n",
       "  <path d=\"M 254 246 L 258 246 L 258 250 L 254 250 Z M 254 246 \"/>\n",
       "</clipPath>\n",
       "<clipPath id=\"clip-2020-05-2886097.41397s18\">\n",
       "  <path d=\"M 256 249 L 261 249 L 261 250 L 256 250 Z M 256 249 \"/>\n",
       "</clipPath>\n",
       "<clipPath id=\"clip-2020-05-2886097.41397s19\">\n",
       "  <path d=\"M 277 248 L 281 248 L 281 250 L 277 250 Z M 277 248 \"/>\n",
       "</clipPath>\n",
       "<clipPath id=\"clip-2020-05-2886097.41397s20\">\n",
       "  <path d=\"M 279 249 L 284 249 L 284 250 L 279 250 Z M 279 249 \"/>\n",
       "</clipPath>\n",
       "<clipPath id=\"clip-2020-05-2886097.41397s21\">\n",
       "  <path d=\"M 300 249 L 305 249 L 305 250 L 300 250 Z M 300 249 \"/>\n",
       "</clipPath>\n",
       "<clipPath id=\"clip-2020-05-2886097.41397s22\">\n",
       "  <path d=\"M 303 249 L 307 249 L 307 250 L 303 250 Z M 303 249 \"/>\n",
       "</clipPath>\n",
       "<clipPath id=\"clip-2020-05-2886097.41397s23\">\n",
       "  <path d=\"M 323 249 L 328 249 L 328 250 L 323 250 Z M 323 249 \"/>\n",
       "</clipPath>\n",
       "<clipPath id=\"clip-2020-05-2886097.41397s24\">\n",
       "  <path d=\"M 326 249 L 330 249 L 330 250 L 326 250 Z M 326 249 \"/>\n",
       "</clipPath>\n",
       "<clipPath id=\"clip-2020-05-2886097.41397s25\">\n",
       "  <path d=\"M 347 249 L 351 249 L 351 250 L 347 250 Z M 347 249 \"/>\n",
       "</clipPath>\n",
       "<clipPath id=\"clip-2020-05-2886097.41397s26\">\n",
       "  <path d=\"M 349 249 L 354 249 L 354 250 L 349 250 Z M 349 249 \"/>\n",
       "</clipPath>\n",
       "<clipPath id=\"clip-2020-05-2886097.41397s27\">\n",
       "  <path d=\"M 370 248 L 374 248 L 374 250 L 370 250 Z M 370 248 \"/>\n",
       "</clipPath>\n",
       "<clipPath id=\"clip-2020-05-2886097.41397s28\">\n",
       "  <path d=\"M 372 249 L 377 249 L 377 250 L 372 250 Z M 372 249 \"/>\n",
       "</clipPath>\n",
       "<clipPath id=\"clip-2020-05-2886097.41397s29\">\n",
       "  <path d=\"M 393 248 L 398 248 L 398 250 L 393 250 Z M 393 248 \"/>\n",
       "</clipPath>\n",
       "<clipPath id=\"clip-2020-05-2886097.41397s30\">\n",
       "  <path d=\"M 396 249 L 400 249 L 400 250 L 396 250 Z M 396 249 \"/>\n",
       "</clipPath>\n",
       "</defs>\n",
       "<g id=\"surface526\">\n",
       "<rect x=\"0\" y=\"0\" width=\"450\" height=\"300\" style=\"fill:rgb(100%,100%,100%);fill-opacity:1;stroke:none;\"/>\n",
       "<g style=\"fill:rgb(0%,0%,0%);fill-opacity:1;\">\n",
       "  <use xlink:href=\"#glyph-2020-05-2886097.41397s0-1\" x=\"133.757812\" y=\"16.550781\"/>\n",
       "  <use xlink:href=\"#glyph-2020-05-2886097.41397s0-2\" x=\"142.92041\" y=\"16.550781\"/>\n",
       "  <use xlink:href=\"#glyph-2020-05-2886097.41397s0-3\" x=\"151.262695\" y=\"16.550781\"/>\n",
       "  <use xlink:href=\"#glyph-2020-05-2886097.41397s0-2\" x=\"156.257812\" y=\"16.550781\"/>\n",
       "  <use xlink:href=\"#glyph-2020-05-2886097.41397s0-4\" x=\"164.600098\" y=\"16.550781\"/>\n",
       "  <use xlink:href=\"#glyph-2020-05-2886097.41397s0-5\" x=\"168.767578\" y=\"16.550781\"/>\n",
       "  <use xlink:href=\"#glyph-2020-05-2886097.41397s0-3\" x=\"172.935059\" y=\"16.550781\"/>\n",
       "  <use xlink:href=\"#glyph-2020-05-2886097.41397s0-6\" x=\"177.930176\" y=\"16.550781\"/>\n",
       "  <use xlink:href=\"#glyph-2020-05-2886097.41397s0-7\" x=\"186.272461\" y=\"16.550781\"/>\n",
       "  <use xlink:href=\"#glyph-2020-05-2886097.41397s0-8\" x=\"190.439941\" y=\"16.550781\"/>\n",
       "  <use xlink:href=\"#glyph-2020-05-2886097.41397s0-2\" x=\"201.272461\" y=\"16.550781\"/>\n",
       "  <use xlink:href=\"#glyph-2020-05-2886097.41397s0-3\" x=\"209.614746\" y=\"16.550781\"/>\n",
       "  <use xlink:href=\"#glyph-2020-05-2886097.41397s0-9\" x=\"214.609863\" y=\"16.550781\"/>\n",
       "  <use xlink:href=\"#glyph-2020-05-2886097.41397s0-10\" x=\"222.952148\" y=\"16.550781\"/>\n",
       "  <use xlink:href=\"#glyph-2020-05-2886097.41397s0-7\" x=\"231.294434\" y=\"16.550781\"/>\n",
       "  <use xlink:href=\"#glyph-2020-05-2886097.41397s0-11\" x=\"235.461914\" y=\"16.550781\"/>\n",
       "  <use xlink:href=\"#glyph-2020-05-2886097.41397s0-12\" x=\"244.624512\" y=\"16.550781\"/>\n",
       "  <use xlink:href=\"#glyph-2020-05-2886097.41397s0-7\" x=\"249.619629\" y=\"16.550781\"/>\n",
       "  <use xlink:href=\"#glyph-2020-05-2886097.41397s0-13\" x=\"253.787109\" y=\"16.550781\"/>\n",
       "  <use xlink:href=\"#glyph-2020-05-2886097.41397s0-11\" x=\"264.619629\" y=\"16.550781\"/>\n",
       "  <use xlink:href=\"#glyph-2020-05-2886097.41397s0-14\" x=\"273.782227\" y=\"16.550781\"/>\n",
       "  <use xlink:href=\"#glyph-2020-05-2886097.41397s0-15\" x=\"282.944824\" y=\"16.550781\"/>\n",
       "  <use xlink:href=\"#glyph-2020-05-2886097.41397s0-3\" x=\"292.107422\" y=\"16.550781\"/>\n",
       "  <use xlink:href=\"#glyph-2020-05-2886097.41397s0-5\" x=\"297.102539\" y=\"16.550781\"/>\n",
       "  <use xlink:href=\"#glyph-2020-05-2886097.41397s0-9\" x=\"301.27002\" y=\"16.550781\"/>\n",
       "  <use xlink:href=\"#glyph-2020-05-2886097.41397s0-10\" x=\"309.612305\" y=\"16.550781\"/>\n",
       "</g>\n",
       "<path style=\"fill:none;stroke-width:1;stroke-linecap:butt;stroke-linejoin:miter;stroke:rgb(82.745098%,82.745098%,82.745098%);stroke-opacity:1;stroke-dasharray:5,5;stroke-miterlimit:10;\" d=\"M 0.000976562 0 L 0.000976562 215 \" transform=\"matrix(1,0,0,1,33.256836,35)\"/>\n",
       "<path style=\"fill:none;stroke-width:1;stroke-linecap:butt;stroke-linejoin:miter;stroke:rgb(82.745098%,82.745098%,82.745098%);stroke-opacity:1;stroke-dasharray:5,5;stroke-miterlimit:10;\" d=\"M 48.977539 0 L 48.977539 215 \" transform=\"matrix(1,0,0,1,33.256836,35)\"/>\n",
       "<path style=\"fill:none;stroke-width:1;stroke-linecap:butt;stroke-linejoin:miter;stroke:rgb(82.745098%,82.745098%,82.745098%);stroke-opacity:1;stroke-dasharray:5,5;stroke-miterlimit:10;\" d=\"M 97.954102 0 L 97.954102 215 \" transform=\"matrix(1,0,0,1,33.256836,35)\"/>\n",
       "<path style=\"fill:none;stroke-width:1;stroke-linecap:butt;stroke-linejoin:miter;stroke:rgb(82.745098%,82.745098%,82.745098%);stroke-opacity:1;stroke-dasharray:5,5;stroke-miterlimit:10;\" d=\"M 146.930664 0 L 146.930664 215 \" transform=\"matrix(1,0,0,1,33.256836,35)\"/>\n",
       "<path style=\"fill:none;stroke-width:1;stroke-linecap:butt;stroke-linejoin:miter;stroke:rgb(82.745098%,82.745098%,82.745098%);stroke-opacity:1;stroke-dasharray:5,5;stroke-miterlimit:10;\" d=\"M 195.911133 0 L 195.911133 215 \" transform=\"matrix(1,0,0,1,33.256836,35)\"/>\n",
       "<path style=\"fill:none;stroke-width:1;stroke-linecap:butt;stroke-linejoin:miter;stroke:rgb(82.745098%,82.745098%,82.745098%);stroke-opacity:1;stroke-dasharray:5,5;stroke-miterlimit:10;\" d=\"M 244.887695 0 L 244.887695 215 \" transform=\"matrix(1,0,0,1,33.256836,35)\"/>\n",
       "<path style=\"fill:none;stroke-width:1;stroke-linecap:butt;stroke-linejoin:miter;stroke:rgb(82.745098%,82.745098%,82.745098%);stroke-opacity:1;stroke-dasharray:5,5;stroke-miterlimit:10;\" d=\"M 293.864258 0 L 293.864258 215 \" transform=\"matrix(1,0,0,1,33.256836,35)\"/>\n",
       "<path style=\"fill:none;stroke-width:1;stroke-linecap:butt;stroke-linejoin:miter;stroke:rgb(82.745098%,82.745098%,82.745098%);stroke-opacity:1;stroke-dasharray:5,5;stroke-miterlimit:10;\" d=\"M 342.84082 0 L 342.84082 215 \" transform=\"matrix(1,0,0,1,33.256836,35)\"/>\n",
       "<path style=\"fill:none;stroke-width:1;stroke-linecap:butt;stroke-linejoin:miter;stroke:rgb(82.745098%,82.745098%,82.745098%);stroke-opacity:1;stroke-dasharray:5,5;stroke-miterlimit:10;\" d=\"M 391.817383 0 L 391.817383 215 \" transform=\"matrix(1,0,0,1,33.256836,35)\"/>\n",
       "<path style=\"fill:none;stroke-width:1;stroke-linecap:butt;stroke-linejoin:miter;stroke:rgb(82.745098%,82.745098%,82.745098%);stroke-opacity:1;stroke-dasharray:5,5;stroke-miterlimit:10;\" d=\"M 0.000976562 215 L 391.817383 215 \" transform=\"matrix(1,0,0,1,33.256836,35)\"/>\n",
       "<path style=\"fill:none;stroke-width:1;stroke-linecap:butt;stroke-linejoin:miter;stroke:rgb(82.745098%,82.745098%,82.745098%);stroke-opacity:1;stroke-dasharray:5,5;stroke-miterlimit:10;\" d=\"M 0.000976562 161.25 L 391.817383 161.25 \" transform=\"matrix(1,0,0,1,33.256836,35)\"/>\n",
       "<path style=\"fill:none;stroke-width:1;stroke-linecap:butt;stroke-linejoin:miter;stroke:rgb(82.745098%,82.745098%,82.745098%);stroke-opacity:1;stroke-dasharray:5,5;stroke-miterlimit:10;\" d=\"M 0.000976562 107.5 L 391.817383 107.5 \" transform=\"matrix(1,0,0,1,33.256836,35)\"/>\n",
       "<path style=\"fill:none;stroke-width:1;stroke-linecap:butt;stroke-linejoin:miter;stroke:rgb(82.745098%,82.745098%,82.745098%);stroke-opacity:1;stroke-dasharray:5,5;stroke-miterlimit:10;\" d=\"M 0.000976562 53.75 L 391.817383 53.75 \" transform=\"matrix(1,0,0,1,33.256836,35)\"/>\n",
       "<path style=\"fill:none;stroke-width:1;stroke-linecap:butt;stroke-linejoin:miter;stroke:rgb(82.745098%,82.745098%,82.745098%);stroke-opacity:1;stroke-dasharray:5,5;stroke-miterlimit:10;\" d=\"M 0.000976562 0 L 391.817383 0 \" transform=\"matrix(1,0,0,1,33.256836,35)\"/>\n",
       "<path style=\" stroke:none;fill-rule:nonzero;fill:rgb(0%,0%,100%);fill-opacity:1;\" d=\"M 68.894531 250 L 68.894531 106.191406 L 71.394531 106.191406 L 71.394531 250 Z M 68.894531 250 \"/>\n",
       "<path style=\" stroke:none;fill-rule:nonzero;fill:rgb(0%,50.196078%,0%);fill-opacity:1;\" d=\"M 71.394531 250 L 71.394531 45.449219 L 73.894531 45.449219 L 73.894531 250 Z M 71.394531 250 \"/>\n",
       "<g clip-path=\"url(#clip-2020-05-2886097.41397s1)\" clip-rule=\"nonzero\">\n",
       "<path style=\"fill:none;stroke-width:1;stroke-linecap:butt;stroke-linejoin:miter;stroke:rgb(0%,0%,0%);stroke-opacity:1;stroke-miterlimit:10;\" d=\"M 35.637695 215 L 35.637695 71.191406 L 38.137695 71.191406 L 38.137695 215 Z M 35.637695 215 \" transform=\"matrix(1,0,0,1,33.256836,35)\"/>\n",
       "</g>\n",
       "<g clip-path=\"url(#clip-2020-05-2886097.41397s2)\" clip-rule=\"nonzero\">\n",
       "<path style=\"fill:none;stroke-width:1;stroke-linecap:butt;stroke-linejoin:miter;stroke:rgb(0%,0%,0%);stroke-opacity:1;stroke-miterlimit:10;\" d=\"M 38.137695 215 L 38.137695 10.449219 L 40.637695 10.449219 L 40.637695 215 Z M 38.137695 215 \" transform=\"matrix(1,0,0,1,33.256836,35)\"/>\n",
       "</g>\n",
       "<path style=\" stroke:none;fill-rule:nonzero;fill:rgb(0%,0%,100%);fill-opacity:1;\" d=\"M 92.121094 250 L 92.121094 186.230469 L 94.621094 186.230469 L 94.621094 250 Z M 92.121094 250 \"/>\n",
       "<path style=\" stroke:none;fill-rule:nonzero;fill:rgb(0%,50.196078%,0%);fill-opacity:1;\" d=\"M 94.621094 250 L 94.621094 208.980469 L 97.121094 208.980469 L 97.121094 250 Z M 94.621094 250 \"/>\n",
       "<g clip-path=\"url(#clip-2020-05-2886097.41397s3)\" clip-rule=\"nonzero\">\n",
       "<path style=\"fill:none;stroke-width:1;stroke-linecap:butt;stroke-linejoin:miter;stroke:rgb(0%,0%,0%);stroke-opacity:1;stroke-miterlimit:10;\" d=\"M 58.864258 215 L 58.864258 151.230469 L 61.364258 151.230469 L 61.364258 215 Z M 58.864258 215 \" transform=\"matrix(1,0,0,1,33.256836,35)\"/>\n",
       "</g>\n",
       "<g clip-path=\"url(#clip-2020-05-2886097.41397s4)\" clip-rule=\"nonzero\">\n",
       "<path style=\"fill:none;stroke-width:1;stroke-linecap:butt;stroke-linejoin:miter;stroke:rgb(0%,0%,0%);stroke-opacity:1;stroke-miterlimit:10;\" d=\"M 61.364258 215 L 61.364258 173.980469 L 63.864258 173.980469 L 63.864258 215 Z M 61.364258 215 \" transform=\"matrix(1,0,0,1,33.256836,35)\"/>\n",
       "</g>\n",
       "<path style=\" stroke:none;fill-rule:nonzero;fill:rgb(0%,0%,100%);fill-opacity:1;\" d=\"M 115.347656 250 L 115.347656 225.273438 L 117.847656 225.273438 L 117.847656 250 Z M 115.347656 250 \"/>\n",
       "<path style=\" stroke:none;fill-rule:nonzero;fill:rgb(0%,50.196078%,0%);fill-opacity:1;\" d=\"M 117.847656 250 L 117.847656 236.570312 L 120.347656 236.570312 L 120.347656 250 Z M 117.847656 250 \"/>\n",
       "<g clip-path=\"url(#clip-2020-05-2886097.41397s5)\" clip-rule=\"nonzero\">\n",
       "<path style=\"fill:none;stroke-width:1;stroke-linecap:butt;stroke-linejoin:miter;stroke:rgb(0%,0%,0%);stroke-opacity:1;stroke-miterlimit:10;\" d=\"M 82.09082 215 L 82.09082 190.273438 L 84.59082 190.273438 L 84.59082 215 Z M 82.09082 215 \" transform=\"matrix(1,0,0,1,33.256836,35)\"/>\n",
       "</g>\n",
       "<g clip-path=\"url(#clip-2020-05-2886097.41397s6)\" clip-rule=\"nonzero\">\n",
       "<path style=\"fill:none;stroke-width:1;stroke-linecap:butt;stroke-linejoin:miter;stroke:rgb(0%,0%,0%);stroke-opacity:1;stroke-miterlimit:10;\" d=\"M 84.59082 215 L 84.59082 201.570312 L 87.09082 201.570312 L 87.09082 215 Z M 84.59082 215 \" transform=\"matrix(1,0,0,1,33.256836,35)\"/>\n",
       "</g>\n",
       "<path style=\" stroke:none;fill-rule:nonzero;fill:rgb(0%,0%,100%);fill-opacity:1;\" d=\"M 138.574219 250 L 138.574219 236.335938 L 141.074219 236.335938 L 141.074219 250 Z M 138.574219 250 \"/>\n",
       "<path style=\" stroke:none;fill-rule:nonzero;fill:rgb(0%,50.196078%,0%);fill-opacity:1;\" d=\"M 141.074219 250 L 141.074219 245.585938 L 143.574219 245.585938 L 143.574219 250 Z M 141.074219 250 \"/>\n",
       "<g clip-path=\"url(#clip-2020-05-2886097.41397s7)\" clip-rule=\"nonzero\">\n",
       "<path style=\"fill:none;stroke-width:1;stroke-linecap:butt;stroke-linejoin:miter;stroke:rgb(0%,0%,0%);stroke-opacity:1;stroke-miterlimit:10;\" d=\"M 105.317383 215 L 105.317383 201.335938 L 107.817383 201.335938 L 107.817383 215 Z M 105.317383 215 \" transform=\"matrix(1,0,0,1,33.256836,35)\"/>\n",
       "</g>\n",
       "<g clip-path=\"url(#clip-2020-05-2886097.41397s8)\" clip-rule=\"nonzero\">\n",
       "<path style=\"fill:none;stroke-width:1;stroke-linecap:butt;stroke-linejoin:miter;stroke:rgb(0%,0%,0%);stroke-opacity:1;stroke-miterlimit:10;\" d=\"M 107.817383 215 L 107.817383 210.585938 L 110.317383 210.585938 L 110.317383 215 Z M 107.817383 215 \" transform=\"matrix(1,0,0,1,33.256836,35)\"/>\n",
       "</g>\n",
       "<path style=\" stroke:none;fill-rule:nonzero;fill:rgb(0%,0%,100%);fill-opacity:1;\" d=\"M 161.800781 250 L 161.800781 247.398438 L 164.300781 247.398438 L 164.300781 250 Z M 161.800781 250 \"/>\n",
       "<path style=\" stroke:none;fill-rule:nonzero;fill:rgb(0%,50.196078%,0%);fill-opacity:1;\" d=\"M 164.300781 250 L 164.300781 247.792969 L 166.800781 247.792969 L 166.800781 250 Z M 164.300781 250 \"/>\n",
       "<g clip-path=\"url(#clip-2020-05-2886097.41397s9)\" clip-rule=\"nonzero\">\n",
       "<path style=\"fill:none;stroke-width:1;stroke-linecap:butt;stroke-linejoin:miter;stroke:rgb(0%,0%,0%);stroke-opacity:1;stroke-miterlimit:10;\" d=\"M 128.543945 215 L 128.543945 212.398438 L 131.043945 212.398438 L 131.043945 215 Z M 128.543945 215 \" transform=\"matrix(1,0,0,1,33.256836,35)\"/>\n",
       "</g>\n",
       "<g clip-path=\"url(#clip-2020-05-2886097.41397s10)\" clip-rule=\"nonzero\">\n",
       "<path style=\"fill:none;stroke-width:1;stroke-linecap:butt;stroke-linejoin:miter;stroke:rgb(0%,0%,0%);stroke-opacity:1;stroke-miterlimit:10;\" d=\"M 131.043945 215 L 131.043945 212.792969 L 133.543945 212.792969 L 133.543945 215 Z M 131.043945 215 \" transform=\"matrix(1,0,0,1,33.256836,35)\"/>\n",
       "</g>\n",
       "<path style=\" stroke:none;fill-rule:nonzero;fill:rgb(0%,0%,100%);fill-opacity:1;\" d=\"M 185.027344 250 L 185.027344 240.890625 L 187.527344 240.890625 L 187.527344 250 Z M 185.027344 250 \"/>\n",
       "<path style=\" stroke:none;fill-rule:nonzero;fill:rgb(0%,50.196078%,0%);fill-opacity:1;\" d=\"M 187.527344 250 L 187.527344 249.082031 L 190.027344 249.082031 L 190.027344 250 Z M 187.527344 250 \"/>\n",
       "<g clip-path=\"url(#clip-2020-05-2886097.41397s11)\" clip-rule=\"nonzero\">\n",
       "<path style=\"fill:none;stroke-width:1;stroke-linecap:butt;stroke-linejoin:miter;stroke:rgb(0%,0%,0%);stroke-opacity:1;stroke-miterlimit:10;\" d=\"M 151.770508 215 L 151.770508 205.890625 L 154.270508 205.890625 L 154.270508 215 Z M 151.770508 215 \" transform=\"matrix(1,0,0,1,33.256836,35)\"/>\n",
       "</g>\n",
       "<g clip-path=\"url(#clip-2020-05-2886097.41397s12)\" clip-rule=\"nonzero\">\n",
       "<path style=\"fill:none;stroke-width:1;stroke-linecap:butt;stroke-linejoin:miter;stroke:rgb(0%,0%,0%);stroke-opacity:1;stroke-miterlimit:10;\" d=\"M 154.270508 215 L 154.270508 214.082031 L 156.770508 214.082031 L 156.770508 215 Z M 154.270508 215 \" transform=\"matrix(1,0,0,1,33.256836,35)\"/>\n",
       "</g>\n",
       "<path style=\" stroke:none;fill-rule:nonzero;fill:rgb(0%,0%,100%);fill-opacity:1;\" d=\"M 208.253906 250 L 208.253906 246.09375 L 210.753906 246.09375 L 210.753906 250 Z M 208.253906 250 \"/>\n",
       "<path style=\" stroke:none;fill-rule:nonzero;fill:rgb(0%,50.196078%,0%);fill-opacity:1;\" d=\"M 210.753906 250 L 210.753906 248.527344 L 213.253906 248.527344 L 213.253906 250 Z M 210.753906 250 \"/>\n",
       "<g clip-path=\"url(#clip-2020-05-2886097.41397s13)\" clip-rule=\"nonzero\">\n",
       "<path style=\"fill:none;stroke-width:1;stroke-linecap:butt;stroke-linejoin:miter;stroke:rgb(0%,0%,0%);stroke-opacity:1;stroke-miterlimit:10;\" d=\"M 174.99707 215 L 174.99707 211.09375 L 177.49707 211.09375 L 177.49707 215 Z M 174.99707 215 \" transform=\"matrix(1,0,0,1,33.256836,35)\"/>\n",
       "</g>\n",
       "<g clip-path=\"url(#clip-2020-05-2886097.41397s14)\" clip-rule=\"nonzero\">\n",
       "<path style=\"fill:none;stroke-width:1;stroke-linecap:butt;stroke-linejoin:miter;stroke:rgb(0%,0%,0%);stroke-opacity:1;stroke-miterlimit:10;\" d=\"M 177.49707 215 L 177.49707 213.527344 L 179.99707 213.527344 L 179.99707 215 Z M 177.49707 215 \" transform=\"matrix(1,0,0,1,33.256836,35)\"/>\n",
       "</g>\n",
       "<path style=\" stroke:none;fill-rule:nonzero;fill:rgb(0%,0%,100%);fill-opacity:1;\" d=\"M 231.480469 250 L 231.480469 247.398438 L 233.980469 247.398438 L 233.980469 250 Z M 231.480469 250 \"/>\n",
       "<path style=\" stroke:none;fill-rule:nonzero;fill:rgb(0%,50.196078%,0%);fill-opacity:1;\" d=\"M 233.980469 250 L 233.980469 249.449219 L 236.480469 249.449219 L 236.480469 250 Z M 233.980469 250 \"/>\n",
       "<g clip-path=\"url(#clip-2020-05-2886097.41397s15)\" clip-rule=\"nonzero\">\n",
       "<path style=\"fill:none;stroke-width:1;stroke-linecap:butt;stroke-linejoin:miter;stroke:rgb(0%,0%,0%);stroke-opacity:1;stroke-miterlimit:10;\" d=\"M 198.223633 215 L 198.223633 212.398438 L 200.723633 212.398438 L 200.723633 215 Z M 198.223633 215 \" transform=\"matrix(1,0,0,1,33.256836,35)\"/>\n",
       "</g>\n",
       "<g clip-path=\"url(#clip-2020-05-2886097.41397s16)\" clip-rule=\"nonzero\">\n",
       "<path style=\"fill:none;stroke-width:1;stroke-linecap:butt;stroke-linejoin:miter;stroke:rgb(0%,0%,0%);stroke-opacity:1;stroke-miterlimit:10;\" d=\"M 200.723633 215 L 200.723633 214.449219 L 203.223633 214.449219 L 203.223633 215 Z M 200.723633 215 \" transform=\"matrix(1,0,0,1,33.256836,35)\"/>\n",
       "</g>\n",
       "<path style=\" stroke:none;fill-rule:nonzero;fill:rgb(0%,0%,100%);fill-opacity:1;\" d=\"M 254.703125 250 L 254.703125 247.398438 L 257.203125 247.398438 L 257.203125 250 Z M 254.703125 250 \"/>\n",
       "<g clip-path=\"url(#clip-2020-05-2886097.41397s17)\" clip-rule=\"nonzero\">\n",
       "<path style=\"fill:none;stroke-width:1;stroke-linecap:butt;stroke-linejoin:miter;stroke:rgb(0%,0%,0%);stroke-opacity:1;stroke-miterlimit:10;\" d=\"M 221.446289 215 L 221.446289 212.398438 L 223.946289 212.398438 L 223.946289 215 Z M 221.446289 215 \" transform=\"matrix(1,0,0,1,33.256836,35)\"/>\n",
       "</g>\n",
       "<g clip-path=\"url(#clip-2020-05-2886097.41397s18)\" clip-rule=\"nonzero\">\n",
       "<path style=\"fill:none;stroke-width:1;stroke-linecap:butt;stroke-linejoin:miter;stroke:rgb(0%,0%,0%);stroke-opacity:1;stroke-miterlimit:10;\" d=\"M 223.946289 215 L 226.446289 215 Z M 223.946289 215 \" transform=\"matrix(1,0,0,1,33.256836,35)\"/>\n",
       "</g>\n",
       "<path style=\" stroke:none;fill-rule:nonzero;fill:rgb(0%,0%,100%);fill-opacity:1;\" d=\"M 277.929688 250 L 277.929688 249.347656 L 280.429688 249.347656 L 280.429688 250 Z M 277.929688 250 \"/>\n",
       "<g clip-path=\"url(#clip-2020-05-2886097.41397s19)\" clip-rule=\"nonzero\">\n",
       "<path style=\"fill:none;stroke-width:1;stroke-linecap:butt;stroke-linejoin:miter;stroke:rgb(0%,0%,0%);stroke-opacity:1;stroke-miterlimit:10;\" d=\"M 244.672852 215 L 244.672852 214.347656 L 247.172852 214.347656 L 247.172852 215 Z M 244.672852 215 \" transform=\"matrix(1,0,0,1,33.256836,35)\"/>\n",
       "</g>\n",
       "<g clip-path=\"url(#clip-2020-05-2886097.41397s20)\" clip-rule=\"nonzero\">\n",
       "<path style=\"fill:none;stroke-width:1;stroke-linecap:butt;stroke-linejoin:miter;stroke:rgb(0%,0%,0%);stroke-opacity:1;stroke-miterlimit:10;\" d=\"M 247.172852 215 L 249.672852 215 Z M 247.172852 215 \" transform=\"matrix(1,0,0,1,33.256836,35)\"/>\n",
       "</g>\n",
       "<g clip-path=\"url(#clip-2020-05-2886097.41397s21)\" clip-rule=\"nonzero\">\n",
       "<path style=\"fill:none;stroke-width:1;stroke-linecap:butt;stroke-linejoin:miter;stroke:rgb(0%,0%,0%);stroke-opacity:1;stroke-miterlimit:10;\" d=\"M 267.899414 215 L 270.399414 215 Z M 267.899414 215 \" transform=\"matrix(1,0,0,1,33.256836,35)\"/>\n",
       "</g>\n",
       "<g clip-path=\"url(#clip-2020-05-2886097.41397s22)\" clip-rule=\"nonzero\">\n",
       "<path style=\"fill:none;stroke-width:1;stroke-linecap:butt;stroke-linejoin:miter;stroke:rgb(0%,0%,0%);stroke-opacity:1;stroke-miterlimit:10;\" d=\"M 270.399414 215 L 272.899414 215 Z M 270.399414 215 \" transform=\"matrix(1,0,0,1,33.256836,35)\"/>\n",
       "</g>\n",
       "<g clip-path=\"url(#clip-2020-05-2886097.41397s23)\" clip-rule=\"nonzero\">\n",
       "<path style=\"fill:none;stroke-width:1;stroke-linecap:butt;stroke-linejoin:miter;stroke:rgb(0%,0%,0%);stroke-opacity:1;stroke-miterlimit:10;\" d=\"M 291.125977 215 L 293.625977 215 Z M 291.125977 215 \" transform=\"matrix(1,0,0,1,33.256836,35)\"/>\n",
       "</g>\n",
       "<g clip-path=\"url(#clip-2020-05-2886097.41397s24)\" clip-rule=\"nonzero\">\n",
       "<path style=\"fill:none;stroke-width:1;stroke-linecap:butt;stroke-linejoin:miter;stroke:rgb(0%,0%,0%);stroke-opacity:1;stroke-miterlimit:10;\" d=\"M 293.625977 215 L 296.125977 215 Z M 293.625977 215 \" transform=\"matrix(1,0,0,1,33.256836,35)\"/>\n",
       "</g>\n",
       "<g clip-path=\"url(#clip-2020-05-2886097.41397s25)\" clip-rule=\"nonzero\">\n",
       "<path style=\"fill:none;stroke-width:1;stroke-linecap:butt;stroke-linejoin:miter;stroke:rgb(0%,0%,0%);stroke-opacity:1;stroke-miterlimit:10;\" d=\"M 314.352539 215 L 316.852539 215 Z M 314.352539 215 \" transform=\"matrix(1,0,0,1,33.256836,35)\"/>\n",
       "</g>\n",
       "<g clip-path=\"url(#clip-2020-05-2886097.41397s26)\" clip-rule=\"nonzero\">\n",
       "<path style=\"fill:none;stroke-width:1;stroke-linecap:butt;stroke-linejoin:miter;stroke:rgb(0%,0%,0%);stroke-opacity:1;stroke-miterlimit:10;\" d=\"M 316.852539 215 L 319.352539 215 Z M 316.852539 215 \" transform=\"matrix(1,0,0,1,33.256836,35)\"/>\n",
       "</g>\n",
       "<path style=\" stroke:none;fill-rule:nonzero;fill:rgb(0%,0%,100%);fill-opacity:1;\" d=\"M 370.835938 250 L 370.835938 249.347656 L 373.335938 249.347656 L 373.335938 250 Z M 370.835938 250 \"/>\n",
       "<path style=\" stroke:none;fill-rule:nonzero;fill:rgb(0%,50.196078%,0%);fill-opacity:1;\" d=\"M 373.335938 250 L 373.335938 249.816406 L 375.835938 249.816406 L 375.835938 250 Z M 373.335938 250 \"/>\n",
       "<g clip-path=\"url(#clip-2020-05-2886097.41397s27)\" clip-rule=\"nonzero\">\n",
       "<path style=\"fill:none;stroke-width:1;stroke-linecap:butt;stroke-linejoin:miter;stroke:rgb(0%,0%,0%);stroke-opacity:1;stroke-miterlimit:10;\" d=\"M 337.579102 215 L 337.579102 214.347656 L 340.079102 214.347656 L 340.079102 215 Z M 337.579102 215 \" transform=\"matrix(1,0,0,1,33.256836,35)\"/>\n",
       "</g>\n",
       "<g clip-path=\"url(#clip-2020-05-2886097.41397s28)\" clip-rule=\"nonzero\">\n",
       "<path style=\"fill:none;stroke-width:1;stroke-linecap:butt;stroke-linejoin:miter;stroke:rgb(0%,0%,0%);stroke-opacity:1;stroke-miterlimit:10;\" d=\"M 340.079102 215 L 340.079102 214.816406 L 342.579102 214.816406 L 342.579102 215 Z M 340.079102 215 \" transform=\"matrix(1,0,0,1,33.256836,35)\"/>\n",
       "</g>\n",
       "<path style=\" stroke:none;fill-rule:nonzero;fill:rgb(0%,0%,100%);fill-opacity:1;\" d=\"M 394.0625 250 L 394.0625 249.347656 L 396.5625 249.347656 L 396.5625 250 Z M 394.0625 250 \"/>\n",
       "<g clip-path=\"url(#clip-2020-05-2886097.41397s29)\" clip-rule=\"nonzero\">\n",
       "<path style=\"fill:none;stroke-width:1;stroke-linecap:butt;stroke-linejoin:miter;stroke:rgb(0%,0%,0%);stroke-opacity:1;stroke-miterlimit:10;\" d=\"M 360.805664 215 L 360.805664 214.347656 L 363.305664 214.347656 L 363.305664 215 Z M 360.805664 215 \" transform=\"matrix(1,0,0,1,33.256836,35)\"/>\n",
       "</g>\n",
       "<g clip-path=\"url(#clip-2020-05-2886097.41397s30)\" clip-rule=\"nonzero\">\n",
       "<path style=\"fill:none;stroke-width:1;stroke-linecap:butt;stroke-linejoin:miter;stroke:rgb(0%,0%,0%);stroke-opacity:1;stroke-miterlimit:10;\" d=\"M 363.305664 215 L 365.805664 215 Z M 363.305664 215 \" transform=\"matrix(1,0,0,1,33.256836,35)\"/>\n",
       "</g>\n",
       "<path style=\"fill:none;stroke-width:1;stroke-linecap:square;stroke-linejoin:miter;stroke:rgb(0%,0%,0%);stroke-opacity:1;stroke-miterlimit:10;\" d=\"M 23.257812 215 L 23.257812 0 \" transform=\"matrix(1,0,0,1,10,35)\"/>\n",
       "<path style=\"fill:none;stroke-width:1;stroke-linecap:butt;stroke-linejoin:miter;stroke:rgb(0%,0%,0%);stroke-opacity:1;stroke-miterlimit:10;\" d=\"M 23.257812 215 L 25.257812 215 \" transform=\"matrix(1,0,0,1,10,35)\"/>\n",
       "<path style=\"fill:none;stroke-width:1;stroke-linecap:butt;stroke-linejoin:miter;stroke:rgb(0%,0%,0%);stroke-opacity:1;stroke-miterlimit:10;\" d=\"M 23.257812 209.625 L 25.257812 209.625 \" transform=\"matrix(1,0,0,1,10,35)\"/>\n",
       "<path style=\"fill:none;stroke-width:1;stroke-linecap:butt;stroke-linejoin:miter;stroke:rgb(0%,0%,0%);stroke-opacity:1;stroke-miterlimit:10;\" d=\"M 23.257812 204.25 L 25.257812 204.25 \" transform=\"matrix(1,0,0,1,10,35)\"/>\n",
       "<path style=\"fill:none;stroke-width:1;stroke-linecap:butt;stroke-linejoin:miter;stroke:rgb(0%,0%,0%);stroke-opacity:1;stroke-miterlimit:10;\" d=\"M 23.257812 198.875 L 25.257812 198.875 \" transform=\"matrix(1,0,0,1,10,35)\"/>\n",
       "<path style=\"fill:none;stroke-width:1;stroke-linecap:butt;stroke-linejoin:miter;stroke:rgb(0%,0%,0%);stroke-opacity:1;stroke-miterlimit:10;\" d=\"M 23.257812 193.5 L 25.257812 193.5 \" transform=\"matrix(1,0,0,1,10,35)\"/>\n",
       "<path style=\"fill:none;stroke-width:1;stroke-linecap:butt;stroke-linejoin:miter;stroke:rgb(0%,0%,0%);stroke-opacity:1;stroke-miterlimit:10;\" d=\"M 23.257812 188.125 L 25.257812 188.125 \" transform=\"matrix(1,0,0,1,10,35)\"/>\n",
       "<path style=\"fill:none;stroke-width:1;stroke-linecap:butt;stroke-linejoin:miter;stroke:rgb(0%,0%,0%);stroke-opacity:1;stroke-miterlimit:10;\" d=\"M 23.257812 182.75 L 25.257812 182.75 \" transform=\"matrix(1,0,0,1,10,35)\"/>\n",
       "<path style=\"fill:none;stroke-width:1;stroke-linecap:butt;stroke-linejoin:miter;stroke:rgb(0%,0%,0%);stroke-opacity:1;stroke-miterlimit:10;\" d=\"M 23.257812 177.375 L 25.257812 177.375 \" transform=\"matrix(1,0,0,1,10,35)\"/>\n",
       "<path style=\"fill:none;stroke-width:1;stroke-linecap:butt;stroke-linejoin:miter;stroke:rgb(0%,0%,0%);stroke-opacity:1;stroke-miterlimit:10;\" d=\"M 23.257812 172 L 25.257812 172 \" transform=\"matrix(1,0,0,1,10,35)\"/>\n",
       "<path style=\"fill:none;stroke-width:1;stroke-linecap:butt;stroke-linejoin:miter;stroke:rgb(0%,0%,0%);stroke-opacity:1;stroke-miterlimit:10;\" d=\"M 23.257812 166.625 L 25.257812 166.625 \" transform=\"matrix(1,0,0,1,10,35)\"/>\n",
       "<path style=\"fill:none;stroke-width:1;stroke-linecap:butt;stroke-linejoin:miter;stroke:rgb(0%,0%,0%);stroke-opacity:1;stroke-miterlimit:10;\" d=\"M 23.257812 161.25 L 25.257812 161.25 \" transform=\"matrix(1,0,0,1,10,35)\"/>\n",
       "<path style=\"fill:none;stroke-width:1;stroke-linecap:butt;stroke-linejoin:miter;stroke:rgb(0%,0%,0%);stroke-opacity:1;stroke-miterlimit:10;\" d=\"M 23.257812 155.875 L 25.257812 155.875 \" transform=\"matrix(1,0,0,1,10,35)\"/>\n",
       "<path style=\"fill:none;stroke-width:1;stroke-linecap:butt;stroke-linejoin:miter;stroke:rgb(0%,0%,0%);stroke-opacity:1;stroke-miterlimit:10;\" d=\"M 23.257812 150.5 L 25.257812 150.5 \" transform=\"matrix(1,0,0,1,10,35)\"/>\n",
       "<path style=\"fill:none;stroke-width:1;stroke-linecap:butt;stroke-linejoin:miter;stroke:rgb(0%,0%,0%);stroke-opacity:1;stroke-miterlimit:10;\" d=\"M 23.257812 145.125 L 25.257812 145.125 \" transform=\"matrix(1,0,0,1,10,35)\"/>\n",
       "<path style=\"fill:none;stroke-width:1;stroke-linecap:butt;stroke-linejoin:miter;stroke:rgb(0%,0%,0%);stroke-opacity:1;stroke-miterlimit:10;\" d=\"M 23.257812 139.75 L 25.257812 139.75 \" transform=\"matrix(1,0,0,1,10,35)\"/>\n",
       "<path style=\"fill:none;stroke-width:1;stroke-linecap:butt;stroke-linejoin:miter;stroke:rgb(0%,0%,0%);stroke-opacity:1;stroke-miterlimit:10;\" d=\"M 23.257812 134.375 L 25.257812 134.375 \" transform=\"matrix(1,0,0,1,10,35)\"/>\n",
       "<path style=\"fill:none;stroke-width:1;stroke-linecap:butt;stroke-linejoin:miter;stroke:rgb(0%,0%,0%);stroke-opacity:1;stroke-miterlimit:10;\" d=\"M 23.257812 129 L 25.257812 129 \" transform=\"matrix(1,0,0,1,10,35)\"/>\n",
       "<path style=\"fill:none;stroke-width:1;stroke-linecap:butt;stroke-linejoin:miter;stroke:rgb(0%,0%,0%);stroke-opacity:1;stroke-miterlimit:10;\" d=\"M 23.257812 123.625 L 25.257812 123.625 \" transform=\"matrix(1,0,0,1,10,35)\"/>\n",
       "<path style=\"fill:none;stroke-width:1;stroke-linecap:butt;stroke-linejoin:miter;stroke:rgb(0%,0%,0%);stroke-opacity:1;stroke-miterlimit:10;\" d=\"M 23.257812 118.25 L 25.257812 118.25 \" transform=\"matrix(1,0,0,1,10,35)\"/>\n",
       "<path style=\"fill:none;stroke-width:1;stroke-linecap:butt;stroke-linejoin:miter;stroke:rgb(0%,0%,0%);stroke-opacity:1;stroke-miterlimit:10;\" d=\"M 23.257812 112.875 L 25.257812 112.875 \" transform=\"matrix(1,0,0,1,10,35)\"/>\n",
       "<path style=\"fill:none;stroke-width:1;stroke-linecap:butt;stroke-linejoin:miter;stroke:rgb(0%,0%,0%);stroke-opacity:1;stroke-miterlimit:10;\" d=\"M 23.257812 107.5 L 25.257812 107.5 \" transform=\"matrix(1,0,0,1,10,35)\"/>\n",
       "<path style=\"fill:none;stroke-width:1;stroke-linecap:butt;stroke-linejoin:miter;stroke:rgb(0%,0%,0%);stroke-opacity:1;stroke-miterlimit:10;\" d=\"M 23.257812 102.125 L 25.257812 102.125 \" transform=\"matrix(1,0,0,1,10,35)\"/>\n",
       "<path style=\"fill:none;stroke-width:1;stroke-linecap:butt;stroke-linejoin:miter;stroke:rgb(0%,0%,0%);stroke-opacity:1;stroke-miterlimit:10;\" d=\"M 23.257812 96.75 L 25.257812 96.75 \" transform=\"matrix(1,0,0,1,10,35)\"/>\n",
       "<path style=\"fill:none;stroke-width:1;stroke-linecap:butt;stroke-linejoin:miter;stroke:rgb(0%,0%,0%);stroke-opacity:1;stroke-miterlimit:10;\" d=\"M 23.257812 91.375 L 25.257812 91.375 \" transform=\"matrix(1,0,0,1,10,35)\"/>\n",
       "<path style=\"fill:none;stroke-width:1;stroke-linecap:butt;stroke-linejoin:miter;stroke:rgb(0%,0%,0%);stroke-opacity:1;stroke-miterlimit:10;\" d=\"M 23.257812 86 L 25.257812 86 \" transform=\"matrix(1,0,0,1,10,35)\"/>\n",
       "<path style=\"fill:none;stroke-width:1;stroke-linecap:butt;stroke-linejoin:miter;stroke:rgb(0%,0%,0%);stroke-opacity:1;stroke-miterlimit:10;\" d=\"M 23.257812 80.625 L 25.257812 80.625 \" transform=\"matrix(1,0,0,1,10,35)\"/>\n",
       "<path style=\"fill:none;stroke-width:1;stroke-linecap:butt;stroke-linejoin:miter;stroke:rgb(0%,0%,0%);stroke-opacity:1;stroke-miterlimit:10;\" d=\"M 23.257812 75.25 L 25.257812 75.25 \" transform=\"matrix(1,0,0,1,10,35)\"/>\n",
       "<path style=\"fill:none;stroke-width:1;stroke-linecap:butt;stroke-linejoin:miter;stroke:rgb(0%,0%,0%);stroke-opacity:1;stroke-miterlimit:10;\" d=\"M 23.257812 69.875 L 25.257812 69.875 \" transform=\"matrix(1,0,0,1,10,35)\"/>\n",
       "<path style=\"fill:none;stroke-width:1;stroke-linecap:butt;stroke-linejoin:miter;stroke:rgb(0%,0%,0%);stroke-opacity:1;stroke-miterlimit:10;\" d=\"M 23.257812 64.5 L 25.257812 64.5 \" transform=\"matrix(1,0,0,1,10,35)\"/>\n",
       "<path style=\"fill:none;stroke-width:1;stroke-linecap:butt;stroke-linejoin:miter;stroke:rgb(0%,0%,0%);stroke-opacity:1;stroke-miterlimit:10;\" d=\"M 23.257812 59.125 L 25.257812 59.125 \" transform=\"matrix(1,0,0,1,10,35)\"/>\n",
       "<path style=\"fill:none;stroke-width:1;stroke-linecap:butt;stroke-linejoin:miter;stroke:rgb(0%,0%,0%);stroke-opacity:1;stroke-miterlimit:10;\" d=\"M 23.257812 53.75 L 25.257812 53.75 \" transform=\"matrix(1,0,0,1,10,35)\"/>\n",
       "<path style=\"fill:none;stroke-width:1;stroke-linecap:butt;stroke-linejoin:miter;stroke:rgb(0%,0%,0%);stroke-opacity:1;stroke-miterlimit:10;\" d=\"M 23.257812 48.375 L 25.257812 48.375 \" transform=\"matrix(1,0,0,1,10,35)\"/>\n",
       "<path style=\"fill:none;stroke-width:1;stroke-linecap:butt;stroke-linejoin:miter;stroke:rgb(0%,0%,0%);stroke-opacity:1;stroke-miterlimit:10;\" d=\"M 23.257812 43 L 25.257812 43 \" transform=\"matrix(1,0,0,1,10,35)\"/>\n",
       "<path style=\"fill:none;stroke-width:1;stroke-linecap:butt;stroke-linejoin:miter;stroke:rgb(0%,0%,0%);stroke-opacity:1;stroke-miterlimit:10;\" d=\"M 23.257812 37.625 L 25.257812 37.625 \" transform=\"matrix(1,0,0,1,10,35)\"/>\n",
       "<path style=\"fill:none;stroke-width:1;stroke-linecap:butt;stroke-linejoin:miter;stroke:rgb(0%,0%,0%);stroke-opacity:1;stroke-miterlimit:10;\" d=\"M 23.257812 32.25 L 25.257812 32.25 \" transform=\"matrix(1,0,0,1,10,35)\"/>\n",
       "<path style=\"fill:none;stroke-width:1;stroke-linecap:butt;stroke-linejoin:miter;stroke:rgb(0%,0%,0%);stroke-opacity:1;stroke-miterlimit:10;\" d=\"M 23.257812 26.875 L 25.257812 26.875 \" transform=\"matrix(1,0,0,1,10,35)\"/>\n",
       "<path style=\"fill:none;stroke-width:1;stroke-linecap:butt;stroke-linejoin:miter;stroke:rgb(0%,0%,0%);stroke-opacity:1;stroke-miterlimit:10;\" d=\"M 23.257812 21.5 L 25.257812 21.5 \" transform=\"matrix(1,0,0,1,10,35)\"/>\n",
       "<path style=\"fill:none;stroke-width:1;stroke-linecap:butt;stroke-linejoin:miter;stroke:rgb(0%,0%,0%);stroke-opacity:1;stroke-miterlimit:10;\" d=\"M 23.257812 16.125 L 25.257812 16.125 \" transform=\"matrix(1,0,0,1,10,35)\"/>\n",
       "<path style=\"fill:none;stroke-width:1;stroke-linecap:butt;stroke-linejoin:miter;stroke:rgb(0%,0%,0%);stroke-opacity:1;stroke-miterlimit:10;\" d=\"M 23.257812 10.75 L 25.257812 10.75 \" transform=\"matrix(1,0,0,1,10,35)\"/>\n",
       "<path style=\"fill:none;stroke-width:1;stroke-linecap:butt;stroke-linejoin:miter;stroke:rgb(0%,0%,0%);stroke-opacity:1;stroke-miterlimit:10;\" d=\"M 23.257812 5.375 L 25.257812 5.375 \" transform=\"matrix(1,0,0,1,10,35)\"/>\n",
       "<path style=\"fill:none;stroke-width:1;stroke-linecap:butt;stroke-linejoin:miter;stroke:rgb(0%,0%,0%);stroke-opacity:1;stroke-miterlimit:10;\" d=\"M 23.257812 0 L 25.257812 0 \" transform=\"matrix(1,0,0,1,10,35)\"/>\n",
       "<path style=\"fill:none;stroke-width:1;stroke-linecap:butt;stroke-linejoin:miter;stroke:rgb(0%,0%,0%);stroke-opacity:1;stroke-miterlimit:10;\" d=\"M 23.257812 -5.375 L 25.257812 -5.375 \" transform=\"matrix(1,0,0,1,10,35)\"/>\n",
       "<path style=\"fill:none;stroke-width:1;stroke-linecap:butt;stroke-linejoin:miter;stroke:rgb(0%,0%,0%);stroke-opacity:1;stroke-miterlimit:10;\" d=\"M 23.257812 215 L 28.257812 215 \" transform=\"matrix(1,0,0,1,10,35)\"/>\n",
       "<path style=\"fill:none;stroke-width:1;stroke-linecap:butt;stroke-linejoin:miter;stroke:rgb(0%,0%,0%);stroke-opacity:1;stroke-miterlimit:10;\" d=\"M 23.257812 161.25 L 28.257812 161.25 \" transform=\"matrix(1,0,0,1,10,35)\"/>\n",
       "<path style=\"fill:none;stroke-width:1;stroke-linecap:butt;stroke-linejoin:miter;stroke:rgb(0%,0%,0%);stroke-opacity:1;stroke-miterlimit:10;\" d=\"M 23.257812 107.5 L 28.257812 107.5 \" transform=\"matrix(1,0,0,1,10,35)\"/>\n",
       "<path style=\"fill:none;stroke-width:1;stroke-linecap:butt;stroke-linejoin:miter;stroke:rgb(0%,0%,0%);stroke-opacity:1;stroke-miterlimit:10;\" d=\"M 23.257812 53.75 L 28.257812 53.75 \" transform=\"matrix(1,0,0,1,10,35)\"/>\n",
       "<path style=\"fill:none;stroke-width:1;stroke-linecap:butt;stroke-linejoin:miter;stroke:rgb(0%,0%,0%);stroke-opacity:1;stroke-miterlimit:10;\" d=\"M 23.257812 0 L 28.257812 0 \" transform=\"matrix(1,0,0,1,10,35)\"/>\n",
       "<g style=\"fill:rgb(0%,0%,0%);fill-opacity:1;\">\n",
       "  <use xlink:href=\"#glyph-2020-05-2886097.41397s1-1\" x=\"18.433594\" y=\"253.496094\"/>\n",
       "</g>\n",
       "<g style=\"fill:rgb(0%,0%,0%);fill-opacity:1;\">\n",
       "  <use xlink:href=\"#glyph-2020-05-2886097.41397s1-1\" x=\"10.082031\" y=\"199.757812\"/>\n",
       "  <use xlink:href=\"#glyph-2020-05-2886097.41397s1-2\" x=\"15.643555\" y=\"199.757812\"/>\n",
       "  <use xlink:href=\"#glyph-2020-05-2886097.41397s1-3\" x=\"18.421875\" y=\"199.757812\"/>\n",
       "</g>\n",
       "<g style=\"fill:rgb(0%,0%,0%);fill-opacity:1;\">\n",
       "  <use xlink:href=\"#glyph-2020-05-2886097.41397s1-1\" x=\"10\" y=\"146.007812\"/>\n",
       "  <use xlink:href=\"#glyph-2020-05-2886097.41397s1-2\" x=\"15.561523\" y=\"146.007812\"/>\n",
       "  <use xlink:href=\"#glyph-2020-05-2886097.41397s1-4\" x=\"18.339844\" y=\"146.007812\"/>\n",
       "</g>\n",
       "<g style=\"fill:rgb(0%,0%,0%);fill-opacity:1;\">\n",
       "  <use xlink:href=\"#glyph-2020-05-2886097.41397s1-1\" x=\"10.058594\" y=\"92.261719\"/>\n",
       "  <use xlink:href=\"#glyph-2020-05-2886097.41397s1-2\" x=\"15.620117\" y=\"92.261719\"/>\n",
       "  <use xlink:href=\"#glyph-2020-05-2886097.41397s1-5\" x=\"18.398438\" y=\"92.261719\"/>\n",
       "</g>\n",
       "<g style=\"fill:rgb(0%,0%,0%);fill-opacity:1;\">\n",
       "  <use xlink:href=\"#glyph-2020-05-2886097.41397s1-1\" x=\"10.101562\" y=\"38.507812\"/>\n",
       "  <use xlink:href=\"#glyph-2020-05-2886097.41397s1-2\" x=\"15.663086\" y=\"38.507812\"/>\n",
       "  <use xlink:href=\"#glyph-2020-05-2886097.41397s1-6\" x=\"18.441406\" y=\"38.507812\"/>\n",
       "</g>\n",
       "<path style=\"fill:none;stroke-width:1;stroke-linecap:square;stroke-linejoin:miter;stroke:rgb(0%,0%,0%);stroke-opacity:1;stroke-miterlimit:10;\" d=\"M 0.000976562 0 L 391.817383 0 \" transform=\"matrix(1,0,0,1,33.256836,250)\"/>\n",
       "<path style=\"fill:none;stroke-width:1;stroke-linecap:butt;stroke-linejoin:miter;stroke:rgb(0%,0%,0%);stroke-opacity:1;stroke-miterlimit:10;\" d=\"M -9.795898 0 L -9.795898 -2 \" transform=\"matrix(1,0,0,1,33.256836,250)\"/>\n",
       "<path style=\"fill:none;stroke-width:1;stroke-linecap:butt;stroke-linejoin:miter;stroke:rgb(0%,0%,0%);stroke-opacity:1;stroke-miterlimit:10;\" d=\"M 0.000976562 0 L 0.000976562 -2 \" transform=\"matrix(1,0,0,1,33.256836,250)\"/>\n",
       "<path style=\"fill:none;stroke-width:1;stroke-linecap:butt;stroke-linejoin:miter;stroke:rgb(0%,0%,0%);stroke-opacity:1;stroke-miterlimit:10;\" d=\"M 9.793945 0 L 9.793945 -2 \" transform=\"matrix(1,0,0,1,33.256836,250)\"/>\n",
       "<path style=\"fill:none;stroke-width:1;stroke-linecap:butt;stroke-linejoin:miter;stroke:rgb(0%,0%,0%);stroke-opacity:1;stroke-miterlimit:10;\" d=\"M 19.59082 0 L 19.59082 -2 \" transform=\"matrix(1,0,0,1,33.256836,250)\"/>\n",
       "<path style=\"fill:none;stroke-width:1;stroke-linecap:butt;stroke-linejoin:miter;stroke:rgb(0%,0%,0%);stroke-opacity:1;stroke-miterlimit:10;\" d=\"M 29.387695 0 L 29.387695 -2 \" transform=\"matrix(1,0,0,1,33.256836,250)\"/>\n",
       "<path style=\"fill:none;stroke-width:1;stroke-linecap:butt;stroke-linejoin:miter;stroke:rgb(0%,0%,0%);stroke-opacity:1;stroke-miterlimit:10;\" d=\"M 39.180664 0 L 39.180664 -2 \" transform=\"matrix(1,0,0,1,33.256836,250)\"/>\n",
       "<path style=\"fill:none;stroke-width:1;stroke-linecap:butt;stroke-linejoin:miter;stroke:rgb(0%,0%,0%);stroke-opacity:1;stroke-miterlimit:10;\" d=\"M 48.977539 0 L 48.977539 -2 \" transform=\"matrix(1,0,0,1,33.256836,250)\"/>\n",
       "<path style=\"fill:none;stroke-width:1;stroke-linecap:butt;stroke-linejoin:miter;stroke:rgb(0%,0%,0%);stroke-opacity:1;stroke-miterlimit:10;\" d=\"M 58.774414 0 L 58.774414 -2 \" transform=\"matrix(1,0,0,1,33.256836,250)\"/>\n",
       "<path style=\"fill:none;stroke-width:1;stroke-linecap:butt;stroke-linejoin:miter;stroke:rgb(0%,0%,0%);stroke-opacity:1;stroke-miterlimit:10;\" d=\"M 68.567383 0 L 68.567383 -2 \" transform=\"matrix(1,0,0,1,33.256836,250)\"/>\n",
       "<path style=\"fill:none;stroke-width:1;stroke-linecap:butt;stroke-linejoin:miter;stroke:rgb(0%,0%,0%);stroke-opacity:1;stroke-miterlimit:10;\" d=\"M 78.364258 0 L 78.364258 -2 \" transform=\"matrix(1,0,0,1,33.256836,250)\"/>\n",
       "<path style=\"fill:none;stroke-width:1;stroke-linecap:butt;stroke-linejoin:miter;stroke:rgb(0%,0%,0%);stroke-opacity:1;stroke-miterlimit:10;\" d=\"M 88.161133 0 L 88.161133 -2 \" transform=\"matrix(1,0,0,1,33.256836,250)\"/>\n",
       "<path style=\"fill:none;stroke-width:1;stroke-linecap:butt;stroke-linejoin:miter;stroke:rgb(0%,0%,0%);stroke-opacity:1;stroke-miterlimit:10;\" d=\"M 97.954102 0 L 97.954102 -2 \" transform=\"matrix(1,0,0,1,33.256836,250)\"/>\n",
       "<path style=\"fill:none;stroke-width:1;stroke-linecap:butt;stroke-linejoin:miter;stroke:rgb(0%,0%,0%);stroke-opacity:1;stroke-miterlimit:10;\" d=\"M 107.750977 0 L 107.750977 -2 \" transform=\"matrix(1,0,0,1,33.256836,250)\"/>\n",
       "<path style=\"fill:none;stroke-width:1;stroke-linecap:butt;stroke-linejoin:miter;stroke:rgb(0%,0%,0%);stroke-opacity:1;stroke-miterlimit:10;\" d=\"M 117.543945 0 L 117.543945 -2 \" transform=\"matrix(1,0,0,1,33.256836,250)\"/>\n",
       "<path style=\"fill:none;stroke-width:1;stroke-linecap:butt;stroke-linejoin:miter;stroke:rgb(0%,0%,0%);stroke-opacity:1;stroke-miterlimit:10;\" d=\"M 127.34082 0 L 127.34082 -2 \" transform=\"matrix(1,0,0,1,33.256836,250)\"/>\n",
       "<path style=\"fill:none;stroke-width:1;stroke-linecap:butt;stroke-linejoin:miter;stroke:rgb(0%,0%,0%);stroke-opacity:1;stroke-miterlimit:10;\" d=\"M 137.137695 0 L 137.137695 -2 \" transform=\"matrix(1,0,0,1,33.256836,250)\"/>\n",
       "<path style=\"fill:none;stroke-width:1;stroke-linecap:butt;stroke-linejoin:miter;stroke:rgb(0%,0%,0%);stroke-opacity:1;stroke-miterlimit:10;\" d=\"M 146.930664 0 L 146.930664 -2 \" transform=\"matrix(1,0,0,1,33.256836,250)\"/>\n",
       "<path style=\"fill:none;stroke-width:1;stroke-linecap:butt;stroke-linejoin:miter;stroke:rgb(0%,0%,0%);stroke-opacity:1;stroke-miterlimit:10;\" d=\"M 156.727539 0 L 156.727539 -2 \" transform=\"matrix(1,0,0,1,33.256836,250)\"/>\n",
       "<path style=\"fill:none;stroke-width:1;stroke-linecap:butt;stroke-linejoin:miter;stroke:rgb(0%,0%,0%);stroke-opacity:1;stroke-miterlimit:10;\" d=\"M 166.524414 0 L 166.524414 -2 \" transform=\"matrix(1,0,0,1,33.256836,250)\"/>\n",
       "<path style=\"fill:none;stroke-width:1;stroke-linecap:butt;stroke-linejoin:miter;stroke:rgb(0%,0%,0%);stroke-opacity:1;stroke-miterlimit:10;\" d=\"M 176.317383 0 L 176.317383 -2 \" transform=\"matrix(1,0,0,1,33.256836,250)\"/>\n",
       "<path style=\"fill:none;stroke-width:1;stroke-linecap:butt;stroke-linejoin:miter;stroke:rgb(0%,0%,0%);stroke-opacity:1;stroke-miterlimit:10;\" d=\"M 186.114258 0 L 186.114258 -2 \" transform=\"matrix(1,0,0,1,33.256836,250)\"/>\n",
       "<path style=\"fill:none;stroke-width:1;stroke-linecap:butt;stroke-linejoin:miter;stroke:rgb(0%,0%,0%);stroke-opacity:1;stroke-miterlimit:10;\" d=\"M 195.911133 0 L 195.911133 -2 \" transform=\"matrix(1,0,0,1,33.256836,250)\"/>\n",
       "<path style=\"fill:none;stroke-width:1;stroke-linecap:butt;stroke-linejoin:miter;stroke:rgb(0%,0%,0%);stroke-opacity:1;stroke-miterlimit:10;\" d=\"M 205.704102 0 L 205.704102 -2 \" transform=\"matrix(1,0,0,1,33.256836,250)\"/>\n",
       "<path style=\"fill:none;stroke-width:1;stroke-linecap:butt;stroke-linejoin:miter;stroke:rgb(0%,0%,0%);stroke-opacity:1;stroke-miterlimit:10;\" d=\"M 215.500977 0 L 215.500977 -2 \" transform=\"matrix(1,0,0,1,33.256836,250)\"/>\n",
       "<path style=\"fill:none;stroke-width:1;stroke-linecap:butt;stroke-linejoin:miter;stroke:rgb(0%,0%,0%);stroke-opacity:1;stroke-miterlimit:10;\" d=\"M 225.293945 0 L 225.293945 -2 \" transform=\"matrix(1,0,0,1,33.256836,250)\"/>\n",
       "<path style=\"fill:none;stroke-width:1;stroke-linecap:butt;stroke-linejoin:miter;stroke:rgb(0%,0%,0%);stroke-opacity:1;stroke-miterlimit:10;\" d=\"M 235.09082 0 L 235.09082 -2 \" transform=\"matrix(1,0,0,1,33.256836,250)\"/>\n",
       "<path style=\"fill:none;stroke-width:1;stroke-linecap:butt;stroke-linejoin:miter;stroke:rgb(0%,0%,0%);stroke-opacity:1;stroke-miterlimit:10;\" d=\"M 244.887695 0 L 244.887695 -2 \" transform=\"matrix(1,0,0,1,33.256836,250)\"/>\n",
       "<path style=\"fill:none;stroke-width:1;stroke-linecap:butt;stroke-linejoin:miter;stroke:rgb(0%,0%,0%);stroke-opacity:1;stroke-miterlimit:10;\" d=\"M 254.680664 0 L 254.680664 -2 \" transform=\"matrix(1,0,0,1,33.256836,250)\"/>\n",
       "<path style=\"fill:none;stroke-width:1;stroke-linecap:butt;stroke-linejoin:miter;stroke:rgb(0%,0%,0%);stroke-opacity:1;stroke-miterlimit:10;\" d=\"M 264.477539 0 L 264.477539 -2 \" transform=\"matrix(1,0,0,1,33.256836,250)\"/>\n",
       "<path style=\"fill:none;stroke-width:1;stroke-linecap:butt;stroke-linejoin:miter;stroke:rgb(0%,0%,0%);stroke-opacity:1;stroke-miterlimit:10;\" d=\"M 274.274414 0 L 274.274414 -2 \" transform=\"matrix(1,0,0,1,33.256836,250)\"/>\n",
       "<path style=\"fill:none;stroke-width:1;stroke-linecap:butt;stroke-linejoin:miter;stroke:rgb(0%,0%,0%);stroke-opacity:1;stroke-miterlimit:10;\" d=\"M 284.067383 0 L 284.067383 -2 \" transform=\"matrix(1,0,0,1,33.256836,250)\"/>\n",
       "<path style=\"fill:none;stroke-width:1;stroke-linecap:butt;stroke-linejoin:miter;stroke:rgb(0%,0%,0%);stroke-opacity:1;stroke-miterlimit:10;\" d=\"M 293.864258 0 L 293.864258 -2 \" transform=\"matrix(1,0,0,1,33.256836,250)\"/>\n",
       "<path style=\"fill:none;stroke-width:1;stroke-linecap:butt;stroke-linejoin:miter;stroke:rgb(0%,0%,0%);stroke-opacity:1;stroke-miterlimit:10;\" d=\"M 303.661133 0 L 303.661133 -2 \" transform=\"matrix(1,0,0,1,33.256836,250)\"/>\n",
       "<path style=\"fill:none;stroke-width:1;stroke-linecap:butt;stroke-linejoin:miter;stroke:rgb(0%,0%,0%);stroke-opacity:1;stroke-miterlimit:10;\" d=\"M 313.454102 0 L 313.454102 -2 \" transform=\"matrix(1,0,0,1,33.256836,250)\"/>\n",
       "<path style=\"fill:none;stroke-width:1;stroke-linecap:butt;stroke-linejoin:miter;stroke:rgb(0%,0%,0%);stroke-opacity:1;stroke-miterlimit:10;\" d=\"M 323.250977 0 L 323.250977 -2 \" transform=\"matrix(1,0,0,1,33.256836,250)\"/>\n",
       "<path style=\"fill:none;stroke-width:1;stroke-linecap:butt;stroke-linejoin:miter;stroke:rgb(0%,0%,0%);stroke-opacity:1;stroke-miterlimit:10;\" d=\"M 333.047852 0 L 333.047852 -2 \" transform=\"matrix(1,0,0,1,33.256836,250)\"/>\n",
       "<path style=\"fill:none;stroke-width:1;stroke-linecap:butt;stroke-linejoin:miter;stroke:rgb(0%,0%,0%);stroke-opacity:1;stroke-miterlimit:10;\" d=\"M 342.84082 0 L 342.84082 -2 \" transform=\"matrix(1,0,0,1,33.256836,250)\"/>\n",
       "<path style=\"fill:none;stroke-width:1;stroke-linecap:butt;stroke-linejoin:miter;stroke:rgb(0%,0%,0%);stroke-opacity:1;stroke-miterlimit:10;\" d=\"M 352.637695 0 L 352.637695 -2 \" transform=\"matrix(1,0,0,1,33.256836,250)\"/>\n",
       "<path style=\"fill:none;stroke-width:1;stroke-linecap:butt;stroke-linejoin:miter;stroke:rgb(0%,0%,0%);stroke-opacity:1;stroke-miterlimit:10;\" d=\"M 362.430664 0 L 362.430664 -2 \" transform=\"matrix(1,0,0,1,33.256836,250)\"/>\n",
       "<path style=\"fill:none;stroke-width:1;stroke-linecap:butt;stroke-linejoin:miter;stroke:rgb(0%,0%,0%);stroke-opacity:1;stroke-miterlimit:10;\" d=\"M 372.227539 0 L 372.227539 -2 \" transform=\"matrix(1,0,0,1,33.256836,250)\"/>\n",
       "<path style=\"fill:none;stroke-width:1;stroke-linecap:butt;stroke-linejoin:miter;stroke:rgb(0%,0%,0%);stroke-opacity:1;stroke-miterlimit:10;\" d=\"M 382.024414 0 L 382.024414 -2 \" transform=\"matrix(1,0,0,1,33.256836,250)\"/>\n",
       "<path style=\"fill:none;stroke-width:1;stroke-linecap:butt;stroke-linejoin:miter;stroke:rgb(0%,0%,0%);stroke-opacity:1;stroke-miterlimit:10;\" d=\"M 391.817383 0 L 391.817383 -2 \" transform=\"matrix(1,0,0,1,33.256836,250)\"/>\n",
       "<path style=\"fill:none;stroke-width:1;stroke-linecap:butt;stroke-linejoin:miter;stroke:rgb(0%,0%,0%);stroke-opacity:1;stroke-miterlimit:10;\" d=\"M 401.614258 0 L 401.614258 -2 \" transform=\"matrix(1,0,0,1,33.256836,250)\"/>\n",
       "<path style=\"fill:none;stroke-width:1;stroke-linecap:butt;stroke-linejoin:miter;stroke:rgb(0%,0%,0%);stroke-opacity:1;stroke-miterlimit:10;\" d=\"M 0.000976562 0 L 0.000976562 -5 \" transform=\"matrix(1,0,0,1,33.256836,250)\"/>\n",
       "<path style=\"fill:none;stroke-width:1;stroke-linecap:butt;stroke-linejoin:miter;stroke:rgb(0%,0%,0%);stroke-opacity:1;stroke-miterlimit:10;\" d=\"M 48.977539 0 L 48.977539 -5 \" transform=\"matrix(1,0,0,1,33.256836,250)\"/>\n",
       "<path style=\"fill:none;stroke-width:1;stroke-linecap:butt;stroke-linejoin:miter;stroke:rgb(0%,0%,0%);stroke-opacity:1;stroke-miterlimit:10;\" d=\"M 97.954102 0 L 97.954102 -5 \" transform=\"matrix(1,0,0,1,33.256836,250)\"/>\n",
       "<path style=\"fill:none;stroke-width:1;stroke-linecap:butt;stroke-linejoin:miter;stroke:rgb(0%,0%,0%);stroke-opacity:1;stroke-miterlimit:10;\" d=\"M 146.930664 0 L 146.930664 -5 \" transform=\"matrix(1,0,0,1,33.256836,250)\"/>\n",
       "<path style=\"fill:none;stroke-width:1;stroke-linecap:butt;stroke-linejoin:miter;stroke:rgb(0%,0%,0%);stroke-opacity:1;stroke-miterlimit:10;\" d=\"M 195.911133 0 L 195.911133 -5 \" transform=\"matrix(1,0,0,1,33.256836,250)\"/>\n",
       "<path style=\"fill:none;stroke-width:1;stroke-linecap:butt;stroke-linejoin:miter;stroke:rgb(0%,0%,0%);stroke-opacity:1;stroke-miterlimit:10;\" d=\"M 244.887695 0 L 244.887695 -5 \" transform=\"matrix(1,0,0,1,33.256836,250)\"/>\n",
       "<path style=\"fill:none;stroke-width:1;stroke-linecap:butt;stroke-linejoin:miter;stroke:rgb(0%,0%,0%);stroke-opacity:1;stroke-miterlimit:10;\" d=\"M 293.864258 0 L 293.864258 -5 \" transform=\"matrix(1,0,0,1,33.256836,250)\"/>\n",
       "<path style=\"fill:none;stroke-width:1;stroke-linecap:butt;stroke-linejoin:miter;stroke:rgb(0%,0%,0%);stroke-opacity:1;stroke-miterlimit:10;\" d=\"M 342.84082 0 L 342.84082 -5 \" transform=\"matrix(1,0,0,1,33.256836,250)\"/>\n",
       "<path style=\"fill:none;stroke-width:1;stroke-linecap:butt;stroke-linejoin:miter;stroke:rgb(0%,0%,0%);stroke-opacity:1;stroke-miterlimit:10;\" d=\"M 391.817383 0 L 391.817383 -5 \" transform=\"matrix(1,0,0,1,33.256836,250)\"/>\n",
       "<g style=\"fill:rgb(0%,0%,0%);fill-opacity:1;\">\n",
       "  <use xlink:href=\"#glyph-2020-05-2886097.41397s1-7\" x=\"16.71875\" y=\"267.699219\"/>\n",
       "  <use xlink:href=\"#glyph-2020-05-2886097.41397s1-1\" x=\"20.048828\" y=\"267.699219\"/>\n",
       "  <use xlink:href=\"#glyph-2020-05-2886097.41397s1-2\" x=\"25.610352\" y=\"267.699219\"/>\n",
       "  <use xlink:href=\"#glyph-2020-05-2886097.41397s1-1\" x=\"28.388672\" y=\"267.699219\"/>\n",
       "  <use xlink:href=\"#glyph-2020-05-2886097.41397s1-1\" x=\"33.950195\" y=\"267.699219\"/>\n",
       "  <use xlink:href=\"#glyph-2020-05-2886097.41397s1-1\" x=\"39.511719\" y=\"267.699219\"/>\n",
       "  <use xlink:href=\"#glyph-2020-05-2886097.41397s1-8\" x=\"45.073242\" y=\"267.699219\"/>\n",
       "</g>\n",
       "<g style=\"fill:rgb(0%,0%,0%);fill-opacity:1;\">\n",
       "  <use xlink:href=\"#glyph-2020-05-2886097.41397s1-1\" x=\"79.820312\" y=\"267.699219\"/>\n",
       "</g>\n",
       "<g style=\"fill:rgb(0%,0%,0%);fill-opacity:1;\">\n",
       "  <use xlink:href=\"#glyph-2020-05-2886097.41397s1-1\" x=\"116.289062\" y=\"267.699219\"/>\n",
       "  <use xlink:href=\"#glyph-2020-05-2886097.41397s1-2\" x=\"121.850586\" y=\"267.699219\"/>\n",
       "  <use xlink:href=\"#glyph-2020-05-2886097.41397s1-1\" x=\"124.628906\" y=\"267.699219\"/>\n",
       "  <use xlink:href=\"#glyph-2020-05-2886097.41397s1-1\" x=\"130.19043\" y=\"267.699219\"/>\n",
       "  <use xlink:href=\"#glyph-2020-05-2886097.41397s1-1\" x=\"135.751953\" y=\"267.699219\"/>\n",
       "  <use xlink:href=\"#glyph-2020-05-2886097.41397s1-8\" x=\"141.313477\" y=\"267.699219\"/>\n",
       "</g>\n",
       "<g style=\"fill:rgb(0%,0%,0%);fill-opacity:1;\">\n",
       "  <use xlink:href=\"#glyph-2020-05-2886097.41397s1-1\" x=\"168.84375\" y=\"267.699219\"/>\n",
       "  <use xlink:href=\"#glyph-2020-05-2886097.41397s1-2\" x=\"174.405273\" y=\"267.699219\"/>\n",
       "  <use xlink:href=\"#glyph-2020-05-2886097.41397s1-1\" x=\"177.183594\" y=\"267.699219\"/>\n",
       "  <use xlink:href=\"#glyph-2020-05-2886097.41397s1-1\" x=\"182.745117\" y=\"267.699219\"/>\n",
       "  <use xlink:href=\"#glyph-2020-05-2886097.41397s1-9\" x=\"188.306641\" y=\"267.699219\"/>\n",
       "</g>\n",
       "<g style=\"fill:rgb(0%,0%,0%);fill-opacity:1;\">\n",
       "  <use xlink:href=\"#glyph-2020-05-2886097.41397s1-1\" x=\"214.242188\" y=\"267.699219\"/>\n",
       "  <use xlink:href=\"#glyph-2020-05-2886097.41397s1-2\" x=\"219.803711\" y=\"267.699219\"/>\n",
       "  <use xlink:href=\"#glyph-2020-05-2886097.41397s1-1\" x=\"222.582031\" y=\"267.699219\"/>\n",
       "  <use xlink:href=\"#glyph-2020-05-2886097.41397s1-1\" x=\"228.143555\" y=\"267.699219\"/>\n",
       "  <use xlink:href=\"#glyph-2020-05-2886097.41397s1-9\" x=\"233.705078\" y=\"267.699219\"/>\n",
       "  <use xlink:href=\"#glyph-2020-05-2886097.41397s1-8\" x=\"239.266602\" y=\"267.699219\"/>\n",
       "</g>\n",
       "<g style=\"fill:rgb(0%,0%,0%);fill-opacity:1;\">\n",
       "  <use xlink:href=\"#glyph-2020-05-2886097.41397s1-1\" x=\"265.996094\" y=\"267.699219\"/>\n",
       "  <use xlink:href=\"#glyph-2020-05-2886097.41397s1-2\" x=\"271.557617\" y=\"267.699219\"/>\n",
       "  <use xlink:href=\"#glyph-2020-05-2886097.41397s1-1\" x=\"274.335938\" y=\"267.699219\"/>\n",
       "  <use xlink:href=\"#glyph-2020-05-2886097.41397s1-1\" x=\"279.897461\" y=\"267.699219\"/>\n",
       "  <use xlink:href=\"#glyph-2020-05-2886097.41397s1-3\" x=\"285.458984\" y=\"267.699219\"/>\n",
       "</g>\n",
       "<g style=\"fill:rgb(0%,0%,0%);fill-opacity:1;\">\n",
       "  <use xlink:href=\"#glyph-2020-05-2886097.41397s1-1\" x=\"312.195312\" y=\"267.699219\"/>\n",
       "  <use xlink:href=\"#glyph-2020-05-2886097.41397s1-2\" x=\"317.756836\" y=\"267.699219\"/>\n",
       "  <use xlink:href=\"#glyph-2020-05-2886097.41397s1-1\" x=\"320.535156\" y=\"267.699219\"/>\n",
       "  <use xlink:href=\"#glyph-2020-05-2886097.41397s1-1\" x=\"326.09668\" y=\"267.699219\"/>\n",
       "  <use xlink:href=\"#glyph-2020-05-2886097.41397s1-3\" x=\"331.658203\" y=\"267.699219\"/>\n",
       "  <use xlink:href=\"#glyph-2020-05-2886097.41397s1-8\" x=\"337.219727\" y=\"267.699219\"/>\n",
       "</g>\n",
       "<g style=\"fill:rgb(0%,0%,0%);fill-opacity:1;\">\n",
       "  <use xlink:href=\"#glyph-2020-05-2886097.41397s1-1\" x=\"363.960938\" y=\"267.699219\"/>\n",
       "  <use xlink:href=\"#glyph-2020-05-2886097.41397s1-2\" x=\"369.522461\" y=\"267.699219\"/>\n",
       "  <use xlink:href=\"#glyph-2020-05-2886097.41397s1-1\" x=\"372.300781\" y=\"267.699219\"/>\n",
       "  <use xlink:href=\"#glyph-2020-05-2886097.41397s1-1\" x=\"377.862305\" y=\"267.699219\"/>\n",
       "  <use xlink:href=\"#glyph-2020-05-2886097.41397s1-10\" x=\"383.423828\" y=\"267.699219\"/>\n",
       "</g>\n",
       "<g style=\"fill:rgb(0%,0%,0%);fill-opacity:1;\">\n",
       "  <use xlink:href=\"#glyph-2020-05-2886097.41397s1-1\" x=\"410.152344\" y=\"267.699219\"/>\n",
       "  <use xlink:href=\"#glyph-2020-05-2886097.41397s1-2\" x=\"415.713867\" y=\"267.699219\"/>\n",
       "  <use xlink:href=\"#glyph-2020-05-2886097.41397s1-1\" x=\"418.492188\" y=\"267.699219\"/>\n",
       "  <use xlink:href=\"#glyph-2020-05-2886097.41397s1-1\" x=\"424.053711\" y=\"267.699219\"/>\n",
       "  <use xlink:href=\"#glyph-2020-05-2886097.41397s1-10\" x=\"429.615234\" y=\"267.699219\"/>\n",
       "  <use xlink:href=\"#glyph-2020-05-2886097.41397s1-8\" x=\"435.176758\" y=\"267.699219\"/>\n",
       "</g>\n",
       "<path style=\" stroke:none;fill-rule:nonzero;fill:rgb(0%,0%,100%);fill-opacity:1;\" d=\"M 10 280 L 10 290 L 30 290 L 30 280 Z M 10 280 \"/>\n",
       "<g style=\"fill:rgb(0%,0%,0%);fill-opacity:1;\">\n",
       "  <use xlink:href=\"#glyph-2020-05-2886097.41397s1-11\" x=\"36.296875\" y=\"287.699219\"/>\n",
       "  <use xlink:href=\"#glyph-2020-05-2886097.41397s1-12\" x=\"43.518555\" y=\"287.699219\"/>\n",
       "  <use xlink:href=\"#glyph-2020-05-2886097.41397s1-13\" x=\"49.080078\" y=\"287.699219\"/>\n",
       "  <use xlink:href=\"#glyph-2020-05-2886097.41397s1-14\" x=\"57.410156\" y=\"287.699219\"/>\n",
       "  <use xlink:href=\"#glyph-2020-05-2886097.41397s1-15\" x=\"62.97168\" y=\"287.699219\"/>\n",
       "  <use xlink:href=\"#glyph-2020-05-2886097.41397s1-16\" x=\"67.97168\" y=\"287.699219\"/>\n",
       "  <use xlink:href=\"#glyph-2020-05-2886097.41397s1-17\" x=\"71.301758\" y=\"287.699219\"/>\n",
       "  <use xlink:href=\"#glyph-2020-05-2886097.41397s1-18\" x=\"76.863281\" y=\"287.699219\"/>\n",
       "</g>\n",
       "<path style=\" stroke:none;fill-rule:nonzero;fill:rgb(0%,50.196078%,0%);fill-opacity:1;\" d=\"M 98.601562 280 L 98.601562 290 L 118.601562 290 L 118.601562 280 Z M 98.601562 280 \"/>\n",
       "<g style=\"fill:rgb(0%,0%,0%);fill-opacity:1;\">\n",
       "  <use xlink:href=\"#glyph-2020-05-2886097.41397s1-19\" x=\"124.902344\" y=\"287.699219\"/>\n",
       "  <use xlink:href=\"#glyph-2020-05-2886097.41397s1-12\" x=\"132.124023\" y=\"287.699219\"/>\n",
       "  <use xlink:href=\"#glyph-2020-05-2886097.41397s1-20\" x=\"137.685547\" y=\"287.699219\"/>\n",
       "  <use xlink:href=\"#glyph-2020-05-2886097.41397s1-21\" x=\"143.24707\" y=\"287.699219\"/>\n",
       "  <use xlink:href=\"#glyph-2020-05-2886097.41397s1-22\" x=\"148.808594\" y=\"287.699219\"/>\n",
       "  <use xlink:href=\"#glyph-2020-05-2886097.41397s1-23\" x=\"154.370117\" y=\"287.699219\"/>\n",
       "  <use xlink:href=\"#glyph-2020-05-2886097.41397s1-24\" x=\"156.591797\" y=\"287.699219\"/>\n",
       "  <use xlink:href=\"#glyph-2020-05-2886097.41397s1-15\" x=\"158.813477\" y=\"287.699219\"/>\n",
       "  <use xlink:href=\"#glyph-2020-05-2886097.41397s1-17\" x=\"163.813477\" y=\"287.699219\"/>\n",
       "  <use xlink:href=\"#glyph-2020-05-2886097.41397s1-25\" x=\"169.375\" y=\"287.699219\"/>\n",
       "</g>\n",
       "</g>\n",
       "</svg>\n"
      ]
     },
     "metadata": {},
     "output_type": "display_data"
    }
   ],
   "source": [
    "chart = CH.toRenderable $ do\n",
    "    CH.layout_title CH..= \"Fatality Rates of Counties\"\n",
    "    CH.plot $ CH.plotBars <$> CH.bars [\"Democrat\", \"Republican\"] histVals\n",
    "chart"
   ]
  },
  {
   "cell_type": "markdown",
   "metadata": {},
   "source": [
    "We notice that the are far more republican counties in the lowest decile. This is offset by the fact that in all deciles, there are more democrat counties"
   ]
  }
 ],
 "metadata": {
  "kernelspec": {
   "display_name": "Haskell",
   "language": "haskell",
   "name": "haskell"
  },
  "language_info": {
   "codemirror_mode": "ihaskell",
   "file_extension": ".hs",
   "name": "haskell",
   "pygments_lexer": "Haskell",
   "version": "8.6.5"
  }
 },
 "nbformat": 4,
 "nbformat_minor": 4
}

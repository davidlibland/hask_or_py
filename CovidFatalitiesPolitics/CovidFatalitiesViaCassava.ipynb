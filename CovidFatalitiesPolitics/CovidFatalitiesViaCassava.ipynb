{
 "cells": [
  {
   "cell_type": "markdown",
   "metadata": {},
   "source": [
    "In this notebook, we'll use cassava and discrimination to plot a histogram of comparative covid fatalities rates between counties that voted Democrat or Republican in 2016. "
   ]
  },
  {
   "cell_type": "markdown",
   "metadata": {},
   "source": [
    "First we import some libraries"
   ]
  },
  {
   "cell_type": "code",
   "execution_count": 1,
   "metadata": {},
   "outputs": [
    {
     "data": {
      "text/html": [
       "<style>/* Styles used for the Hoogle display in the pager */\n",
       ".hoogle-doc {\n",
       "display: block;\n",
       "padding-bottom: 1.3em;\n",
       "padding-left: 0.4em;\n",
       "}\n",
       ".hoogle-code {\n",
       "display: block;\n",
       "font-family: monospace;\n",
       "white-space: pre;\n",
       "}\n",
       ".hoogle-text {\n",
       "display: block;\n",
       "}\n",
       ".hoogle-name {\n",
       "color: green;\n",
       "font-weight: bold;\n",
       "}\n",
       ".hoogle-head {\n",
       "font-weight: bold;\n",
       "}\n",
       ".hoogle-sub {\n",
       "display: block;\n",
       "margin-left: 0.4em;\n",
       "}\n",
       ".hoogle-package {\n",
       "font-weight: bold;\n",
       "font-style: italic;\n",
       "}\n",
       ".hoogle-module {\n",
       "font-weight: bold;\n",
       "}\n",
       ".hoogle-class {\n",
       "font-weight: bold;\n",
       "}\n",
       ".get-type {\n",
       "color: green;\n",
       "font-weight: bold;\n",
       "font-family: monospace;\n",
       "display: block;\n",
       "white-space: pre-wrap;\n",
       "}\n",
       ".show-type {\n",
       "color: green;\n",
       "font-weight: bold;\n",
       "font-family: monospace;\n",
       "margin-left: 1em;\n",
       "}\n",
       ".mono {\n",
       "font-family: monospace;\n",
       "display: block;\n",
       "}\n",
       ".err-msg {\n",
       "color: red;\n",
       "font-style: italic;\n",
       "font-family: monospace;\n",
       "white-space: pre;\n",
       "display: block;\n",
       "}\n",
       "#unshowable {\n",
       "color: red;\n",
       "font-weight: bold;\n",
       "}\n",
       ".err-msg.in.collapse {\n",
       "padding-top: 0.7em;\n",
       "}\n",
       ".highlight-code {\n",
       "white-space: pre;\n",
       "font-family: monospace;\n",
       "}\n",
       ".suggestion-warning { \n",
       "font-weight: bold;\n",
       "color: rgb(200, 130, 0);\n",
       "}\n",
       ".suggestion-error { \n",
       "font-weight: bold;\n",
       "color: red;\n",
       "}\n",
       ".suggestion-name {\n",
       "font-weight: bold;\n",
       "}\n",
       "</style><div class=\"suggestion-name\" style=\"clear:both;\">Unused LANGUAGE pragma</div><div class=\"suggestion-row\" style=\"float: left;\"><div class=\"suggestion-warning\">Found:</div><div class=\"highlight-code\" id=\"haskell\">{-# LANGUAGE OverloadedStrings #-}</div></div><div class=\"suggestion-row\" style=\"float: left;\"><div class=\"suggestion-warning\">Why Not:</div><div class=\"highlight-code\" id=\"haskell\"></div></div><div class=\"suggestion-name\" style=\"clear:both;\">Unused LANGUAGE pragma</div><div class=\"suggestion-row\" style=\"float: left;\"><div class=\"suggestion-warning\">Found:</div><div class=\"highlight-code\" id=\"haskell\">{-# LANGUAGE RecordWildCards #-}</div></div><div class=\"suggestion-row\" style=\"float: left;\"><div class=\"suggestion-warning\">Why Not:</div><div class=\"highlight-code\" id=\"haskell\"></div></div>"
      ],
      "text/plain": [
       "Line 1: Unused LANGUAGE pragma\n",
       "Found:\n",
       "{-# LANGUAGE OverloadedStrings #-}\n",
       "Why not:\n",
       "Line 3: Unused LANGUAGE pragma\n",
       "Found:\n",
       "{-# LANGUAGE RecordWildCards #-}\n",
       "Why not:"
      ]
     },
     "metadata": {},
     "output_type": "display_data"
    }
   ],
   "source": [
    "{-# LANGUAGE OverloadedStrings #-}\n",
    "{-# LANGUAGE DuplicateRecordFields #-}\n",
    "{-# LANGUAGE RecordWildCards #-}"
   ]
  },
  {
   "cell_type": "code",
   "execution_count": 2,
   "metadata": {},
   "outputs": [],
   "source": [
    "-- base\n",
    "import Control.Exception (IOException)\n",
    "import qualified Control.Exception as Exception\n",
    "import qualified Data.Foldable as F\n",
    "import Control.Monad (mzero, liftM2, join)"
   ]
  },
  {
   "cell_type": "code",
   "execution_count": 3,
   "metadata": {},
   "outputs": [],
   "source": [
    "-- logical\n",
    "import Data.Maybe (fromMaybe)\n",
    "import Data.Either (fromRight)"
   ]
  },
  {
   "cell_type": "code",
   "execution_count": 4,
   "metadata": {},
   "outputs": [],
   "source": [
    "-- casava\n",
    "import Data.Csv (FromField, parseField, FromNamedRecord, parseNamedRecord, decodeByName, (.:))"
   ]
  },
  {
   "cell_type": "code",
   "execution_count": 5,
   "metadata": {},
   "outputs": [],
   "source": [
    "-- text\n",
    "import Data.Text (Text)\n",
    "\n",
    "-- bytestring\n",
    "import Data.ByteString.Char8 as Char8\n",
    "import Data.ByteString.Lazy (ByteString)\n",
    "import qualified Data.ByteString.Lazy as ByteString"
   ]
  },
  {
   "cell_type": "code",
   "execution_count": 6,
   "metadata": {},
   "outputs": [],
   "source": [
    "-- time\n",
    "import Data.Time (UTCTime, parseTime, defaultTimeLocale)"
   ]
  },
  {
   "cell_type": "code",
   "execution_count": 7,
   "metadata": {},
   "outputs": [],
   "source": [
    "-- vector\n",
    "import Data.Vector (Vector)\n",
    "import qualified Data.Vector as Vector"
   ]
  },
  {
   "cell_type": "code",
   "execution_count": 8,
   "metadata": {},
   "outputs": [],
   "source": [
    "-- for merges and joins\n",
    "import Data.Discrimination (grouping, inner)"
   ]
  },
  {
   "cell_type": "code",
   "execution_count": 9,
   "metadata": {},
   "outputs": [],
   "source": [
    "-- for aggregation\n",
    "import qualified Control.Foldl as FL\n",
    "import Data.Map.Strict (Map, (!?))\n",
    "import qualified Data.Map.Strict as Map"
   ]
  },
  {
   "cell_type": "code",
   "execution_count": 10,
   "metadata": {},
   "outputs": [],
   "source": [
    "-- plotting\n",
    "import qualified Graphics.Rendering.Chart.Easy as CH\n",
    "import qualified Graphics.Rendering.Chart.Backend.Cairo as Cairo"
   ]
  },
  {
   "cell_type": "markdown",
   "metadata": {},
   "source": [
    "Next we will need to load our data from CSV files. We'll do this using Cassava."
   ]
  },
  {
   "cell_type": "markdown",
   "metadata": {},
   "source": [
    "The structure of the [NYT County-Level Covid Data Set]( https://github.com/nytimes/covid-19-data/blob/master/us-counties.csv) is described in the following record. Note that [FIPS](https://en.wikipedia.org/wiki/FIPS_county_code) is a code assigned to each county. Some records are missing the FIPS code, which we indicate using Maybe's Nothing value."
   ]
  },
  {
   "cell_type": "code",
   "execution_count": 11,
   "metadata": {},
   "outputs": [],
   "source": [
    "-- Describe the record to hold a datum from the county-level covid database\n",
    "data CovidRec = CovidRec {\n",
    "        date :: UTCTime,\n",
    "        county :: Text,\n",
    "        state :: Text,\n",
    "        mFips :: Maybe Int,\n",
    "        cases :: Int,\n",
    "        deaths :: Int\n",
    "    } deriving (Show, Eq)"
   ]
  },
  {
   "cell_type": "markdown",
   "metadata": {},
   "source": [
    "Cassava will parse most of these datatypes for us, except for the date field. We'll have to tell it how to do that:"
   ]
  },
  {
   "cell_type": "code",
   "execution_count": 12,
   "metadata": {},
   "outputs": [],
   "source": [
    "-- We'll need a custom parser for the dates:\n",
    "parseDate d = parseTime defaultTimeLocale \"%Y-%m-%d\" (Char8.unpack d) :: Maybe UTCTime\n",
    "instance FromField UTCTime where\n",
    "  parseField dateData = case maybeDate of \n",
    "          Just date -> pure date\n",
    "          Nothing -> mzero\n",
    "      where maybeDate = parseDate dateData"
   ]
  },
  {
   "cell_type": "markdown",
   "metadata": {},
   "source": [
    "Next we tell Cassava how to match column names (in the CSV file) to the record fields:"
   ]
  },
  {
   "cell_type": "code",
   "execution_count": 13,
   "metadata": {},
   "outputs": [],
   "source": [
    "-- setup the parser\n",
    "instance FromNamedRecord CovidRec where\n",
    "  parseNamedRecord m =\n",
    "    CovidRec\n",
    "      <$> m .: \"date\"\n",
    "      -- Note that .: is an alias to @lookup@ a key (\"date\") in the Map.\n",
    "      <*> m .: \"county\"\n",
    "      <*> m .: \"state\"\n",
    "      <*> m .: \"fips\"\n",
    "      <*> m .: \"cases\"\n",
    "      <*> m .: \"deaths\""
   ]
  },
  {
   "cell_type": "markdown",
   "metadata": {},
   "source": [
    "We'll need the following helper function to deal with IO failures:"
   ]
  },
  {
   "cell_type": "code",
   "execution_count": 14,
   "metadata": {},
   "outputs": [],
   "source": [
    "catchShowIO :: IO a -> IO (Either String a)\n",
    "catchShowIO action =\n",
    "  fmap Right action `Exception.catch` handleIOException\n",
    "  where\n",
    "    handleIOException :: IOException -> IO (Either String a)\n",
    "    handleIOException = return . Left . show"
   ]
  },
  {
   "cell_type": "code",
   "execution_count": 15,
   "metadata": {},
   "outputs": [],
   "source": [
    "decodeRecs :: FromNamedRecord a => ByteString.ByteString -> Either String (Vector a)\n",
    "decodeRecs = fmap snd . decodeByName\n",
    "\n",
    "decodeRecsFromFile :: FromNamedRecord a => FilePath -> IO (Either String (Vector a))\n",
    "decodeRecsFromFile filePath =\n",
    "  either Left decodeRecs <$>\n",
    "  catchShowIO (ByteString.readFile filePath)"
   ]
  },
  {
   "cell_type": "markdown",
   "metadata": {},
   "source": [
    "Ok, having set that up, let's load the data:"
   ]
  },
  {
   "cell_type": "code",
   "execution_count": 16,
   "metadata": {},
   "outputs": [],
   "source": [
    "covidRecs <- decodeRecsFromFile \"us-counties.csv\" :: IO (Either String (Vector CovidRec))"
   ]
  },
  {
   "cell_type": "markdown",
   "metadata": {},
   "source": [
    "Take a look at an example record (at row 23):"
   ]
  },
  {
   "cell_type": "code",
   "execution_count": 17,
   "metadata": {},
   "outputs": [
    {
     "data": {
      "text/plain": [
       "\"CovidRec {date = 2020-01-29 00:00:00 UTC, county = \\\"Maricopa\\\", state = \\\"Arizona\\\", mFips = Just 4013, cases = 1, deaths = 0}\""
      ]
     },
     "metadata": {},
     "output_type": "display_data"
    }
   ],
   "source": [
    " either id (show . (Vector.! 23)) covidRecs"
   ]
  },
  {
   "cell_type": "markdown",
   "metadata": {},
   "source": [
    "Next we need to load census data, which will have the following record structure:"
   ]
  },
  {
   "cell_type": "code",
   "execution_count": 18,
   "metadata": {},
   "outputs": [],
   "source": [
    "-- Describe the record to hold a census datum\n",
    "data CensusRec = CensusRec {\n",
    "        fips :: Int,\n",
    "        stateId :: Int,\n",
    "        countyId :: Int,\n",
    "        population :: Int,\n",
    "        stateName :: Text,\n",
    "        countyName :: Text\n",
    "    } deriving (Show, Eq)"
   ]
  },
  {
   "cell_type": "markdown",
   "metadata": {},
   "source": [
    "Setting up the parser is fairly straightforward here:"
   ]
  },
  {
   "cell_type": "code",
   "execution_count": 19,
   "metadata": {},
   "outputs": [],
   "source": [
    "-- setup the parser\n",
    "instance FromNamedRecord CensusRec where\n",
    "  parseNamedRecord m =\n",
    "    CensusRec\n",
    "      <$> m .: \"fips\"\n",
    "      <*> m .: \"state\"\n",
    "      <*> m .: \"county\"\n",
    "      <*> m .: \"popestimate2019\"\n",
    "      <*> m .: \"stname\"\n",
    "      <*> m .: \"ctyname\""
   ]
  },
  {
   "cell_type": "markdown",
   "metadata": {},
   "source": [
    "Great, now load the data:"
   ]
  },
  {
   "cell_type": "code",
   "execution_count": 20,
   "metadata": {},
   "outputs": [],
   "source": [
    "censusRecs <- decodeRecsFromFile \"fips-pop.csv\" :: IO (Either String (Vector CensusRec))"
   ]
  },
  {
   "cell_type": "markdown",
   "metadata": {},
   "source": [
    "We want to join the covid and census data on their FIPS field. We can do that using discrimination's inner function:\n",
    "\n",
    "```haskell\n",
    "inner :: Discriminating f\t \n",
    "    => f d  -- the discriminator to use (just use discrimination provided grouping function)\n",
    "    -> (a -> b -> c)  --how to join two rows\n",
    "    -> (a -> d)\t -- selector for the left table\n",
    "    -> (b -> d)\t -- selector for the right table\n",
    "    -> [a] -- left table\n",
    "    -> [b]  -- right table\n",
    "    -> [[c]]\t \n",
    "```\n",
    "We'll want to retain just the cases, deaths, date, fips, and poputation fields:"
   ]
  },
  {
   "cell_type": "code",
   "execution_count": 21,
   "metadata": {},
   "outputs": [],
   "source": [
    "data CovCensRec = CovCensRec {\n",
    "        date :: UTCTime,\n",
    "        fips :: Int,\n",
    "        county :: Text,\n",
    "        cases :: Int,\n",
    "        deaths :: Int,\n",
    "        population :: Int\n",
    "    } deriving (Show, Eq)\n",
    "\n",
    "mergeCovCensRec :: CovidRec -> CensusRec -> CovCensRec\n",
    "mergeCovCensRec CovidRec{..} CensusRec{..} = CovCensRec{..}"
   ]
  },
  {
   "cell_type": "code",
   "execution_count": 22,
   "metadata": {},
   "outputs": [],
   "source": [
    "joinCovCensusRecs :: Vector CovidRec -> Vector CensusRec -> [CovCensRec]\n",
    "joinCovCensusRecs l r = F.concat $ \n",
    "    inner grouping mergeCovCensRec (fromMaybe (-1) . mFips) csFips (F.toList l) (F.toList r)\n",
    "    where csFips = fips :: CensusRec -> Int"
   ]
  },
  {
   "cell_type": "code",
   "execution_count": 23,
   "metadata": {},
   "outputs": [],
   "source": [
    "covCensusRecs = joinCovCensusRecs <$> covidRecs <*> censusRecs"
   ]
  },
  {
   "cell_type": "markdown",
   "metadata": {},
   "source": [
    "Let's look at an example of such a row for alameda:"
   ]
  },
  {
   "cell_type": "code",
   "execution_count": 24,
   "metadata": {},
   "outputs": [
    {
     "data": {
      "text/plain": [
       "\"CovCensRec {date = 2020-03-01 00:00:00 UTC, fips = 6001, county = \\\"Alameda\\\", cases = 1, deaths = 0, population = 1671329}\""
      ]
     },
     "metadata": {},
     "output_type": "display_data"
    }
   ],
   "source": [
    "do\n",
    "    let countyNm = county :: CovCensRec -> Text\n",
    "    print $ either id (show . Prelude.head . Prelude.filter ((== \"Alameda\") . countyNm)) covCensusRecs"
   ]
  },
  {
   "cell_type": "markdown",
   "metadata": {},
   "source": [
    "Finally, we load the voting data from the 2016 election. This is structured according to the following record type:"
   ]
  },
  {
   "cell_type": "code",
   "execution_count": 25,
   "metadata": {},
   "outputs": [],
   "source": [
    "data VotesRec = VotesRec {\n",
    "        demVotes :: Int,\n",
    "        gopVotes :: Int,\n",
    "        stateAbbr :: Text,\n",
    "        countyName :: Text,\n",
    "        fips :: Int\n",
    "    } deriving (Show, Eq)"
   ]
  },
  {
   "cell_type": "code",
   "execution_count": 26,
   "metadata": {},
   "outputs": [],
   "source": [
    "-- setup the parser\n",
    "instance FromNamedRecord VotesRec where\n",
    "  parseNamedRecord m =\n",
    "    VotesRec\n",
    "      <$> m .: \"votes_dem\"\n",
    "      <*> m .: \"votes_gop\"\n",
    "      <*> m .: \"state_abbr\"\n",
    "      <*> m .: \"county_name\"\n",
    "      <*> m .: \"combined_fips\""
   ]
  },
  {
   "cell_type": "code",
   "execution_count": 27,
   "metadata": {},
   "outputs": [],
   "source": [
    "votesRecs <- decodeRecsFromFile \"us-election-data-2016.csv\" :: IO (Either String (Vector VotesRec))"
   ]
  },
  {
   "cell_type": "markdown",
   "metadata": {},
   "source": [
    "Now we want to join this along fips to form the final record:"
   ]
  },
  {
   "cell_type": "code",
   "execution_count": 28,
   "metadata": {},
   "outputs": [],
   "source": [
    "data CountyRec = CountyRec {\n",
    "        date :: UTCTime,\n",
    "        county :: Text,\n",
    "        cases :: Int,\n",
    "        deaths :: Int,\n",
    "        population :: Int,\n",
    "        demVotes :: Int,\n",
    "        gopVotes :: Int\n",
    "    } deriving (Show, Eq)\n",
    "\n",
    "mergeCovCensVotesRec :: CovCensRec -> VotesRec -> CountyRec\n",
    "mergeCovCensVotesRec CovCensRec{date=d, county=c, cases=cs, deaths=ds, population=p} VotesRec{demVotes=dv, gopVotes=gv} \n",
    "    = CountyRec d c cs ds p dv gv"
   ]
  },
  {
   "cell_type": "code",
   "execution_count": 29,
   "metadata": {},
   "outputs": [],
   "source": [
    "joinCountyRecs :: [CovCensRec] -> Vector VotesRec -> [CountyRec]\n",
    "joinCountyRecs l r = F.concat $ \n",
    "    inner grouping mergeCovCensVotesRec cFips vFips l (F.toList r)\n",
    "    where \n",
    "        cFips = fips :: CovCensRec -> Int\n",
    "        vFips = fips :: VotesRec -> Int"
   ]
  },
  {
   "cell_type": "code",
   "execution_count": 30,
   "metadata": {},
   "outputs": [],
   "source": [
    "countyRecs = joinCountyRecs <$> covCensusRecs <*> votesRecs"
   ]
  },
  {
   "cell_type": "markdown",
   "metadata": {},
   "source": [
    "Let's examine an example row for alameda:"
   ]
  },
  {
   "cell_type": "code",
   "execution_count": 31,
   "metadata": {},
   "outputs": [
    {
     "data": {
      "text/plain": [
       "\"CountyRec {date = 2020-03-01 00:00:00 UTC, county = \\\"Alameda\\\", cases = 1, deaths = 0, population = 1671329, demVotes = 486351, gopVotes = 91189}\""
      ]
     },
     "metadata": {},
     "output_type": "display_data"
    }
   ],
   "source": [
    "do\n",
    "    let countyNm = county :: CountyRec -> Text\n",
    "    print $ either id (show . Prelude.head . Prelude.filter ((== \"Alameda\") . countyNm)) countyRecs"
   ]
  },
  {
   "cell_type": "markdown",
   "metadata": {},
   "source": [
    "Finally, let's compute the county by country fatality rates, separately for democratic and gop counties."
   ]
  },
  {
   "cell_type": "markdown",
   "metadata": {},
   "source": [
    "We'll start by building a fold which computes the fatality rate for a `CountyRec`."
   ]
  },
  {
   "cell_type": "code",
   "execution_count": 32,
   "metadata": {},
   "outputs": [],
   "source": [
    "-- fatality rate:\n",
    "fatalityRateFold :: FL.Fold CountyRec (Maybe Double)\n",
    "fatalityRateFold = liftM2 (/) \n",
    "    <$> FL.premap (fromIntegral . (deaths :: CountyRec -> Int)) FL.maximum \n",
    "    <*> FL.premap (fromIntegral . (population :: CountyRec -> Int)) FL.maximum"
   ]
  },
  {
   "cell_type": "markdown",
   "metadata": {},
   "source": [
    "Next, we use `Foldl`'s groupBy to lift that fold so as to group over counties. We accept a predicate function to allow us to aggregate democratic and gop counties separately."
   ]
  },
  {
   "cell_type": "code",
   "execution_count": 33,
   "metadata": {},
   "outputs": [],
   "source": [
    "-- This is the core group by fold.\n",
    "fatalitiesByCountyFold :: FL.Fold CountyRec (Map Text (Maybe Double))\n",
    "fatalitiesByCountyFold = FL.groupBy (county :: CountyRec -> Text) fatalityRateFold\n",
    "\n",
    "-- Here we lift apply that fold, first filtering by a predicate, and then handling \n",
    "-- possible errors (by returning an empty map):\n",
    "fatalitiesByCounty :: (CountyRec -> Bool) -> Map Text Double\n",
    "fatalitiesByCounty predicate = case countyRecs of\n",
    "    -- just get an empty map if there was an error.\n",
    "    Left s -> Map.empty\n",
    "    -- apply the fold, dropping any Nothing values from the Map via @Map.mapMaybe id@\n",
    "    Right r -> Map.mapMaybe id $ FL.fold (FL.prefilter predicate fatalitiesByCountyFold) r"
   ]
  },
  {
   "cell_type": "markdown",
   "metadata": {},
   "source": [
    "Now we define predicates which determine if a county voted democrat or gop during the 2016 election"
   ]
  },
  {
   "cell_type": "code",
   "execution_count": 34,
   "metadata": {},
   "outputs": [],
   "source": [
    "isDem :: CountyRec -> Bool\n",
    "isDem CountyRec{demVotes=d, gopVotes=g} = d > g \n",
    "\n",
    "isGop :: CountyRec -> Bool\n",
    "isGop CountyRec{demVotes=d, gopVotes=g} = d <= g "
   ]
  },
  {
   "cell_type": "markdown",
   "metadata": {},
   "source": [
    "And finally, we extract the actual maps for democrat and gop counties:"
   ]
  },
  {
   "cell_type": "code",
   "execution_count": 35,
   "metadata": {},
   "outputs": [],
   "source": [
    "demFatalities :: Map Text Double\n",
    "demFatalities = fatalitiesByCounty isDem"
   ]
  },
  {
   "cell_type": "code",
   "execution_count": 36,
   "metadata": {},
   "outputs": [],
   "source": [
    "gopFatalities :: Map Text Double\n",
    "gopFatalities = fatalitiesByCounty isGop"
   ]
  },
  {
   "cell_type": "markdown",
   "metadata": {},
   "source": [
    "For example, lets check the fatality rate in Alameda and San Francisco"
   ]
  },
  {
   "cell_type": "code",
   "execution_count": 37,
   "metadata": {},
   "outputs": [
    {
     "data": {
      "text/plain": [
       "Just 5.2652709310973486e-5"
      ]
     },
     "metadata": {},
     "output_type": "display_data"
    }
   ],
   "source": [
    "demFatalities !? \"Alameda\""
   ]
  },
  {
   "cell_type": "code",
   "execution_count": 38,
   "metadata": {},
   "outputs": [
    {
     "data": {
      "text/plain": [
       "Just 4.1971575034399676e-5"
      ]
     },
     "metadata": {},
     "output_type": "display_data"
    }
   ],
   "source": [
    "demFatalities !? \"San Francisco\""
   ]
  },
  {
   "cell_type": "code",
   "execution_count": 39,
   "metadata": {},
   "outputs": [],
   "source": [
    "demHist = CH.histToPlot $ CH.defaultNormedPlotHist\n",
    "          CH.& CH.plot_hist_bins CH..~ 30\n",
    "          CH.& CH.plot_hist_values CH..~ Map.elems demFatalities"
   ]
  },
  {
   "cell_type": "code",
   "execution_count": 40,
   "metadata": {},
   "outputs": [],
   "source": [
    "gopHist = CH.histToPlot $ CH.defaultNormedPlotHist\n",
    "          CH.& CH.plot_hist_bins CH..~ 30\n",
    "          CH.& CH.plot_hist_values CH..~ Map.elems gopFatalities"
   ]
  },
  {
   "cell_type": "code",
   "execution_count": 41,
   "metadata": {},
   "outputs": [],
   "source": [
    "chart = CH.toRenderable\n",
    "    $ CH.layout_title CH..~ \"Beta Distribution\"\n",
    "    $ CH.layout_plots CH..~ [demHist, gopHist]\n",
    "    $ CH.def"
   ]
  },
  {
   "cell_type": "code",
   "execution_count": 43,
   "metadata": {},
   "outputs": [
    {
     "data": {
      "image/png": "[encoded data removed]",
      "image/svg+xml": [
       "<?xml version=\"1.0\" encoding=\"UTF-8\"?>\n",
       "<svg xmlns=\"http://www.w3.org/2000/svg\" xmlns:xlink=\"http://www.w3.org/1999/xlink\" width=\"450pt\" height=\"300pt\" viewBox=\"0 0 450 300\" version=\"1.1\">\n",
       "<defs>\n",
       "<g>\n",
       "<symbol overflow=\"visible\" id=\"glyph-2020-05-2877996.152377s0-0\">\n",
       "<path style=\"stroke:none;\" d=\"M 1.128906 0 L 1.128906 -10.796875 L 9.820312 -10.796875 L 9.820312 0 Z M 8.472656 -1.347656 L 8.472656 -9.449219 L 2.476562 -9.449219 L 2.476562 -1.347656 Z M 8.472656 -1.347656 \"/>\n",
       "</symbol>\n",
       "<symbol overflow=\"visible\" id=\"glyph-2020-05-2877996.152377s0-1\">\n",
       "<path style=\"stroke:none;\" d=\"M 3.332031 -8.921875 L 3.332031 -6.539062 L 5.984375 -6.539062 C 6.457031 -6.539062 6.84375 -6.628906 7.136719 -6.808594 C 7.433594 -6.984375 7.582031 -7.300781 7.582031 -7.757812 C 7.582031 -8.257812 7.386719 -8.589844 6.996094 -8.753906 C 6.65625 -8.867188 6.226562 -8.921875 5.707031 -8.921875 Z M 3.332031 -4.753906 L 3.332031 -1.875 L 5.984375 -1.875 C 6.457031 -1.875 6.828125 -1.9375 7.089844 -2.066406 C 7.570312 -2.300781 7.808594 -2.75 7.808594 -3.414062 C 7.808594 -3.976562 7.574219 -4.359375 7.113281 -4.570312 C 6.851562 -4.6875 6.488281 -4.75 6.019531 -4.753906 Z M 6.421875 -10.796875 C 7.746094 -10.777344 8.683594 -10.394531 9.234375 -9.644531 C 9.566406 -9.1875 9.734375 -8.636719 9.734375 -8 C 9.734375 -7.339844 9.566406 -6.808594 9.234375 -6.410156 C 9.050781 -6.183594 8.777344 -5.980469 8.414062 -5.792969 C 8.96875 -5.59375 9.382812 -5.277344 9.664062 -4.839844 C 9.945312 -4.40625 10.085938 -3.878906 10.085938 -3.257812 C 10.085938 -2.617188 9.925781 -2.046875 9.601562 -1.539062 C 9.398438 -1.203125 9.140625 -0.917969 8.832031 -0.6875 C 8.484375 -0.425781 8.078125 -0.242188 7.605469 -0.148438 C 7.132812 -0.0507812 6.625 0 6.070312 0 L 1.179688 0 L 1.179688 -10.796875 Z M 6.421875 -10.796875 \"/>\n",
       "</symbol>\n",
       "<symbol overflow=\"visible\" id=\"glyph-2020-05-2877996.152377s0-2\">\n",
       "<path style=\"stroke:none;\" d=\"M 4.125 -6.476562 C 3.640625 -6.476562 3.265625 -6.324219 3 -6.019531 C 2.734375 -5.71875 2.566406 -5.308594 2.496094 -4.789062 L 5.742188 -4.789062 C 5.707031 -5.339844 5.539062 -5.761719 5.242188 -6.046875 C 4.941406 -6.332031 4.566406 -6.476562 4.125 -6.476562 Z M 4.125 -8.195312 C 4.789062 -8.195312 5.386719 -8.070312 5.917969 -7.820312 C 6.449219 -7.574219 6.890625 -7.179688 7.234375 -6.644531 C 7.546875 -6.171875 7.75 -5.621094 7.84375 -4.996094 C 7.898438 -4.628906 7.921875 -4.101562 7.910156 -3.414062 L 2.445312 -3.414062 C 2.476562 -2.613281 2.726562 -2.050781 3.199219 -1.726562 C 3.488281 -1.527344 3.835938 -1.429688 4.242188 -1.429688 C 4.671875 -1.429688 5.019531 -1.550781 5.289062 -1.792969 C 5.433594 -1.925781 5.5625 -2.109375 5.675781 -2.34375 L 7.808594 -2.34375 C 7.753906 -1.871094 7.507812 -1.390625 7.066406 -0.902344 C 6.382812 -0.125 5.425781 0.265625 4.195312 0.265625 C 3.179688 0.265625 2.285156 -0.0625 1.507812 -0.71875 C 0.730469 -1.371094 0.34375 -2.4375 0.34375 -3.910156 C 0.34375 -5.292969 0.695312 -6.351562 1.394531 -7.089844 C 2.09375 -7.828125 3.003906 -8.195312 4.125 -8.195312 Z M 4.125 -8.195312 \"/>\n",
       "</symbol>\n",
       "<symbol overflow=\"visible\" id=\"glyph-2020-05-2877996.152377s0-3\">\n",
       "<path style=\"stroke:none;\" d=\"M 0.152344 -6.421875 L 0.152344 -7.910156 L 1.265625 -7.910156 L 1.265625 -10.136719 L 3.332031 -10.136719 L 3.332031 -7.910156 L 4.628906 -7.910156 L 4.628906 -6.421875 L 3.332031 -6.421875 L 3.332031 -2.203125 C 3.332031 -1.875 3.375 -1.671875 3.457031 -1.59375 C 3.539062 -1.511719 3.792969 -1.472656 4.21875 -1.472656 C 4.28125 -1.472656 4.347656 -1.472656 4.421875 -1.476562 C 4.492188 -1.476562 4.5625 -1.480469 4.628906 -1.488281 L 4.628906 0.0742188 L 3.640625 0.109375 C 2.652344 0.144531 1.980469 -0.0273438 1.617188 -0.402344 C 1.382812 -0.640625 1.265625 -1.011719 1.265625 -1.507812 L 1.265625 -6.421875 Z M 0.152344 -6.421875 \"/>\n",
       "</symbol>\n",
       "<symbol overflow=\"visible\" id=\"glyph-2020-05-2877996.152377s0-4\">\n",
       "<path style=\"stroke:none;\" d=\"M 5.375 -3.882812 C 5.242188 -3.800781 5.109375 -3.730469 4.976562 -3.679688 C 4.84375 -3.628906 4.65625 -3.582031 4.421875 -3.539062 L 3.953125 -3.449219 C 3.515625 -3.371094 3.199219 -3.277344 3.011719 -3.164062 C 2.6875 -2.972656 2.527344 -2.679688 2.527344 -2.277344 C 2.527344 -1.921875 2.625 -1.664062 2.824219 -1.503906 C 3.023438 -1.347656 3.261719 -1.265625 3.546875 -1.265625 C 3.996094 -1.265625 4.40625 -1.398438 4.785156 -1.664062 C 5.164062 -1.925781 5.359375 -2.40625 5.375 -3.105469 Z M 4.109375 -4.855469 C 4.496094 -4.90625 4.769531 -4.964844 4.9375 -5.039062 C 5.234375 -5.164062 5.382812 -5.363281 5.382812 -5.632812 C 5.382812 -5.960938 5.269531 -6.183594 5.042969 -6.308594 C 4.816406 -6.433594 4.484375 -6.496094 4.042969 -6.496094 C 3.550781 -6.496094 3.199219 -6.375 2.996094 -6.128906 C 2.847656 -5.949219 2.75 -5.707031 2.703125 -5.398438 L 0.6875 -5.398438 C 0.730469 -6.097656 0.929688 -6.671875 1.273438 -7.117188 C 1.824219 -7.820312 2.773438 -8.171875 4.117188 -8.171875 C 4.992188 -8.171875 5.765625 -8 6.445312 -7.652344 C 7.125 -7.304688 7.464844 -6.652344 7.464844 -5.691406 L 7.464844 -2.027344 C 7.464844 -1.773438 7.46875 -1.46875 7.476562 -1.105469 C 7.492188 -0.832031 7.535156 -0.648438 7.601562 -0.550781 C 7.671875 -0.453125 7.773438 -0.371094 7.910156 -0.308594 L 7.910156 0 L 5.640625 0 C 5.578125 -0.160156 5.53125 -0.3125 5.507812 -0.453125 C 5.484375 -0.59375 5.464844 -0.757812 5.449219 -0.9375 C 5.160156 -0.625 4.828125 -0.359375 4.453125 -0.140625 C 4.003906 0.117188 3.496094 0.25 2.929688 0.25 C 2.207031 0.25 1.609375 0.0429688 1.140625 -0.371094 C 0.667969 -0.78125 0.433594 -1.367188 0.433594 -2.125 C 0.433594 -3.105469 0.8125 -3.816406 1.566406 -4.253906 C 1.980469 -4.492188 2.59375 -4.664062 3.398438 -4.769531 Z M 4.109375 -4.855469 \"/>\n",
       "</symbol>\n",
       "<symbol overflow=\"visible\" id=\"glyph-2020-05-2877996.152377s0-5\">\n",
       "<g>\n",
       "</g>\n",
       "</symbol>\n",
       "<symbol overflow=\"visible\" id=\"glyph-2020-05-2877996.152377s0-6\">\n",
       "<path style=\"stroke:none;\" d=\"M 3.332031 -8.921875 L 3.332031 -1.875 L 5.414062 -1.875 C 6.476562 -1.875 7.21875 -2.398438 7.640625 -3.449219 C 7.867188 -4.027344 7.984375 -4.710938 7.984375 -5.507812 C 7.984375 -6.605469 7.8125 -7.449219 7.46875 -8.039062 C 7.125 -8.625 6.4375 -8.921875 5.414062 -8.921875 Z M 5.792969 -10.796875 C 6.460938 -10.785156 7.019531 -10.707031 7.464844 -10.5625 C 8.21875 -10.3125 8.832031 -9.855469 9.300781 -9.191406 C 9.675781 -8.65625 9.933594 -8.074219 10.070312 -7.449219 C 10.207031 -6.824219 10.277344 -6.226562 10.277344 -5.660156 C 10.277344 -4.226562 9.988281 -3.011719 9.410156 -2.015625 C 8.628906 -0.671875 7.425781 0 5.792969 0 L 1.140625 0 L 1.140625 -10.796875 Z M 5.792969 -10.796875 \"/>\n",
       "</symbol>\n",
       "<symbol overflow=\"visible\" id=\"glyph-2020-05-2877996.152377s0-7\">\n",
       "<path style=\"stroke:none;\" d=\"M 3.121094 -8.9375 L 1.003906 -8.9375 L 1.003906 -10.863281 L 3.121094 -10.863281 Z M 1.003906 -7.984375 L 3.121094 -7.984375 L 3.121094 0 L 1.003906 0 Z M 1.003906 -7.984375 \"/>\n",
       "</symbol>\n",
       "<symbol overflow=\"visible\" id=\"glyph-2020-05-2877996.152377s0-8\">\n",
       "<path style=\"stroke:none;\" d=\"M 2.601562 -2.546875 C 2.644531 -2.175781 2.738281 -1.914062 2.886719 -1.757812 C 3.144531 -1.480469 3.625 -1.339844 4.320312 -1.339844 C 4.730469 -1.339844 5.058594 -1.402344 5.300781 -1.523438 C 5.542969 -1.644531 5.660156 -1.828125 5.660156 -2.074219 C 5.660156 -2.308594 5.5625 -2.484375 5.367188 -2.609375 C 5.171875 -2.730469 4.449219 -2.9375 3.195312 -3.238281 C 2.289062 -3.460938 1.652344 -3.742188 1.28125 -4.078125 C 0.910156 -4.410156 0.726562 -4.890625 0.726562 -5.515625 C 0.726562 -6.253906 1.015625 -6.886719 1.59375 -7.414062 C 2.171875 -7.945312 2.984375 -8.210938 4.035156 -8.210938 C 5.03125 -8.210938 5.84375 -8.011719 6.472656 -7.613281 C 7.097656 -7.214844 7.457031 -6.527344 7.550781 -5.550781 L 5.464844 -5.550781 C 5.433594 -5.820312 5.359375 -6.03125 5.238281 -6.1875 C 5.007812 -6.472656 4.617188 -6.613281 4.066406 -6.613281 C 3.609375 -6.613281 3.289062 -6.542969 3.09375 -6.402344 C 2.902344 -6.261719 2.804688 -6.09375 2.804688 -5.902344 C 2.804688 -5.664062 2.90625 -5.492188 3.113281 -5.382812 C 3.316406 -5.269531 4.042969 -5.078125 5.289062 -4.804688 C 6.117188 -4.609375 6.742188 -4.3125 7.15625 -3.917969 C 7.566406 -3.519531 7.769531 -3.015625 7.769531 -2.417969 C 7.769531 -1.625 7.476562 -0.980469 6.886719 -0.480469 C 6.300781 0.0195312 5.390625 0.269531 4.160156 0.269531 C 2.90625 0.269531 1.980469 0.0078125 1.378906 -0.523438 C 0.78125 -1.054688 0.484375 -1.726562 0.484375 -2.546875 Z M 2.601562 -2.546875 \"/>\n",
       "</symbol>\n",
       "<symbol overflow=\"visible\" id=\"glyph-2020-05-2877996.152377s0-9\">\n",
       "<path style=\"stroke:none;\" d=\"M 5.308594 -8.171875 C 5.347656 -8.171875 5.382812 -8.171875 5.410156 -8.171875 C 5.4375 -8.167969 5.496094 -8.164062 5.589844 -8.160156 L 5.589844 -6.019531 C 5.457031 -6.035156 5.339844 -6.046875 5.238281 -6.050781 C 5.132812 -6.054688 5.050781 -6.058594 4.988281 -6.058594 C 4.148438 -6.058594 3.585938 -5.785156 3.296875 -5.238281 C 3.136719 -4.929688 3.054688 -4.457031 3.054688 -3.816406 L 3.054688 0 L 0.953125 0 L 0.953125 -7.984375 L 2.945312 -7.984375 L 2.945312 -6.59375 C 3.265625 -7.125 3.546875 -7.488281 3.785156 -7.683594 C 4.175781 -8.011719 4.683594 -8.171875 5.308594 -8.171875 Z M 5.308594 -8.171875 \"/>\n",
       "</symbol>\n",
       "<symbol overflow=\"visible\" id=\"glyph-2020-05-2877996.152377s0-10\">\n",
       "<path style=\"stroke:none;\" d=\"M 5.289062 -8.160156 C 6.339844 -8.160156 7.160156 -7.78125 7.753906 -7.023438 C 8.347656 -6.265625 8.640625 -5.289062 8.640625 -4.09375 C 8.640625 -2.855469 8.351562 -1.828125 7.765625 -1.011719 C 7.179688 -0.195312 6.359375 0.210938 5.308594 0.210938 C 4.648438 0.210938 4.121094 0.0820312 3.71875 -0.183594 C 3.480469 -0.339844 3.222656 -0.613281 2.945312 -1.003906 L 2.945312 0 L 0.902344 0 L 0.902344 -10.78125 L 2.980469 -10.78125 L 2.980469 -6.945312 C 3.246094 -7.316406 3.535156 -7.597656 3.851562 -7.792969 C 4.226562 -8.039062 4.707031 -8.160156 5.289062 -8.160156 Z M 4.753906 -1.507812 C 5.289062 -1.507812 5.707031 -1.726562 6.007812 -2.160156 C 6.304688 -2.59375 6.453125 -3.167969 6.453125 -3.875 C 6.453125 -4.441406 6.378906 -4.910156 6.234375 -5.28125 C 5.953125 -5.984375 5.441406 -6.335938 4.695312 -6.335938 C 3.9375 -6.335938 3.417969 -5.992188 3.132812 -5.304688 C 2.988281 -4.9375 2.914062 -4.460938 2.914062 -3.882812 C 2.914062 -3.199219 3.066406 -2.632812 3.367188 -2.183594 C 3.671875 -1.734375 4.132812 -1.507812 4.753906 -1.507812 Z M 4.753906 -1.507812 \"/>\n",
       "</symbol>\n",
       "<symbol overflow=\"visible\" id=\"glyph-2020-05-2877996.152377s0-11\">\n",
       "<path style=\"stroke:none;\" d=\"M 3.054688 -7.984375 L 3.054688 -3.171875 C 3.054688 -2.71875 3.109375 -2.375 3.214844 -2.144531 C 3.40625 -1.742188 3.78125 -1.539062 4.335938 -1.539062 C 5.046875 -1.539062 5.539062 -1.828125 5.800781 -2.402344 C 5.9375 -2.714844 6.007812 -3.128906 6.007812 -3.640625 L 6.007812 -7.984375 L 8.121094 -7.984375 L 8.121094 0 L 6.09375 0 L 6.09375 -1.128906 C 6.074219 -1.105469 6.023438 -1.03125 5.945312 -0.90625 C 5.867188 -0.785156 5.777344 -0.679688 5.667969 -0.585938 C 5.339844 -0.292969 5.027344 -0.09375 4.71875 0.015625 C 4.414062 0.121094 4.058594 0.175781 3.648438 0.175781 C 2.464844 0.175781 1.671875 -0.25 1.257812 -1.097656 C 1.03125 -1.566406 0.914062 -2.257812 0.914062 -3.171875 L 0.914062 -7.984375 Z M 3.054688 -7.984375 \"/>\n",
       "</symbol>\n",
       "<symbol overflow=\"visible\" id=\"glyph-2020-05-2877996.152377s0-12\">\n",
       "<path style=\"stroke:none;\" d=\"M 4.554688 -1.472656 C 5.164062 -1.472656 5.632812 -1.6875 5.960938 -2.125 C 6.289062 -2.558594 6.453125 -3.175781 6.453125 -3.976562 C 6.453125 -4.777344 6.289062 -5.394531 5.960938 -5.828125 C 5.632812 -6.257812 5.164062 -6.476562 4.554688 -6.476562 C 3.945312 -6.476562 3.476562 -6.257812 3.144531 -5.828125 C 2.816406 -5.394531 2.652344 -4.777344 2.652344 -3.976562 C 2.652344 -3.175781 2.816406 -2.558594 3.144531 -2.125 C 3.476562 -1.691406 3.945312 -1.472656 4.554688 -1.472656 Z M 8.640625 -3.976562 C 8.640625 -2.804688 8.304688 -1.804688 7.632812 -0.96875 C 6.957031 -0.136719 5.933594 0.277344 4.5625 0.277344 C 3.191406 0.277344 2.167969 -0.136719 1.492188 -0.96875 C 0.820312 -1.800781 0.484375 -2.804688 0.484375 -3.976562 C 0.484375 -5.128906 0.820312 -6.128906 1.492188 -6.972656 C 2.167969 -7.816406 3.191406 -8.238281 4.5625 -8.238281 C 5.933594 -8.238281 6.957031 -7.816406 7.632812 -6.972656 C 8.304688 -6.128906 8.640625 -5.128906 8.640625 -3.976562 Z M 8.640625 -3.976562 \"/>\n",
       "</symbol>\n",
       "<symbol overflow=\"visible\" id=\"glyph-2020-05-2877996.152377s0-13\">\n",
       "<path style=\"stroke:none;\" d=\"M 5.398438 -8.171875 C 6.222656 -8.171875 6.898438 -7.957031 7.421875 -7.527344 C 7.949219 -7.09375 8.210938 -6.375 8.210938 -5.375 L 8.210938 0 L 6.070312 0 L 6.070312 -4.855469 C 6.070312 -5.277344 6.015625 -5.597656 5.902344 -5.824219 C 5.699219 -6.234375 5.308594 -6.4375 4.730469 -6.4375 C 4.023438 -6.4375 3.539062 -6.136719 3.273438 -5.539062 C 3.136719 -5.21875 3.070312 -4.8125 3.070312 -4.320312 L 3.070312 0 L 0.988281 0 L 0.988281 -7.96875 L 3.003906 -7.96875 L 3.003906 -6.804688 C 3.273438 -7.214844 3.523438 -7.507812 3.765625 -7.691406 C 4.195312 -8.011719 4.738281 -8.171875 5.398438 -8.171875 Z M 5.398438 -8.171875 \"/>\n",
       "</symbol>\n",
       "<symbol overflow=\"visible\" id=\"glyph-2020-05-2877996.152377s1-0\">\n",
       "<path style=\"stroke:none;\" d=\"M 0.320312 0 L 0.320312 -7.171875 L 6.015625 -7.171875 L 6.015625 0 Z M 5.117188 -0.898438 L 5.117188 -6.273438 L 1.21875 -6.273438 L 1.21875 -0.898438 Z M 5.117188 -0.898438 \"/>\n",
       "</symbol>\n",
       "<symbol overflow=\"visible\" id=\"glyph-2020-05-2877996.152377s1-1\">\n",
       "<path style=\"stroke:none;\" d=\"M 2.703125 -6.992188 C 3.609375 -6.992188 4.265625 -6.621094 4.667969 -5.875 C 4.980469 -5.296875 5.136719 -4.507812 5.136719 -3.507812 C 5.136719 -2.554688 4.996094 -1.769531 4.710938 -1.148438 C 4.300781 -0.257812 3.632812 0.191406 2.699219 0.191406 C 1.859375 0.191406 1.234375 -0.175781 0.824219 -0.902344 C 0.484375 -1.511719 0.3125 -2.328125 0.3125 -3.355469 C 0.3125 -4.148438 0.414062 -4.832031 0.621094 -5.398438 C 1.003906 -6.460938 1.699219 -6.992188 2.703125 -6.992188 Z M 2.695312 -0.609375 C 3.152344 -0.609375 3.515625 -0.8125 3.785156 -1.214844 C 4.054688 -1.617188 4.1875 -2.371094 4.1875 -3.472656 C 4.1875 -4.265625 4.09375 -4.917969 3.898438 -5.433594 C 3.703125 -5.945312 3.320312 -6.203125 2.757812 -6.203125 C 2.242188 -6.203125 1.863281 -5.957031 1.625 -5.472656 C 1.382812 -4.984375 1.265625 -4.265625 1.265625 -3.320312 C 1.265625 -2.609375 1.339844 -2.035156 1.492188 -1.601562 C 1.726562 -0.941406 2.128906 -0.609375 2.695312 -0.609375 Z M 2.695312 -0.609375 \"/>\n",
       "</symbol>\n",
       "<symbol overflow=\"visible\" id=\"glyph-2020-05-2877996.152377s1-2\">\n",
       "<path style=\"stroke:none;\" d=\"M 0.3125 0 C 0.34375 -0.601562 0.46875 -1.125 0.6875 -1.570312 C 0.902344 -2.015625 1.324219 -2.421875 1.953125 -2.789062 L 2.890625 -3.328125 C 3.3125 -3.574219 3.605469 -3.78125 3.773438 -3.953125 C 4.039062 -4.226562 4.175781 -4.535156 4.175781 -4.882812 C 4.175781 -5.289062 4.054688 -5.613281 3.808594 -5.851562 C 3.5625 -6.089844 3.238281 -6.210938 2.832031 -6.210938 C 2.230469 -6.210938 1.8125 -5.984375 1.582031 -5.527344 C 1.457031 -5.28125 1.390625 -4.945312 1.375 -4.511719 L 0.484375 -4.511719 C 0.492188 -5.121094 0.605469 -5.617188 0.820312 -6 C 1.203125 -6.679688 1.875 -7.015625 2.835938 -7.015625 C 3.636719 -7.015625 4.222656 -6.800781 4.59375 -6.367188 C 4.960938 -5.933594 5.148438 -5.453125 5.148438 -4.921875 C 5.148438 -4.363281 4.949219 -3.882812 4.554688 -3.484375 C 4.328125 -3.253906 3.917969 -2.976562 3.328125 -2.648438 L 2.660156 -2.273438 C 2.34375 -2.097656 2.089844 -1.933594 1.910156 -1.773438 C 1.585938 -1.488281 1.378906 -1.175781 1.292969 -0.828125 L 5.113281 -0.828125 L 5.113281 0 Z M 0.3125 0 \"/>\n",
       "</symbol>\n",
       "<symbol overflow=\"visible\" id=\"glyph-2020-05-2877996.152377s1-3\">\n",
       "<path style=\"stroke:none;\" d=\"M 3.304688 -2.476562 L 3.304688 -5.644531 L 1.0625 -2.476562 Z M 3.320312 0 L 3.320312 -1.710938 L 0.253906 -1.710938 L 0.253906 -2.570312 L 3.457031 -7.011719 L 4.199219 -7.011719 L 4.199219 -2.476562 L 5.230469 -2.476562 L 5.230469 -1.710938 L 4.199219 -1.710938 L 4.199219 0 Z M 3.320312 0 \"/>\n",
       "</symbol>\n",
       "<symbol overflow=\"visible\" id=\"glyph-2020-05-2877996.152377s1-4\">\n",
       "<path style=\"stroke:none;\" d=\"M 2.925781 -7.023438 C 3.707031 -7.023438 4.25 -6.820312 4.558594 -6.414062 C 4.867188 -6.007812 5.019531 -5.589844 5.019531 -5.160156 L 4.148438 -5.160156 C 4.097656 -5.4375 4.015625 -5.65625 3.902344 -5.8125 C 3.691406 -6.105469 3.367188 -6.25 2.9375 -6.25 C 2.445312 -6.25 2.058594 -6.023438 1.765625 -5.570312 C 1.476562 -5.117188 1.316406 -4.464844 1.285156 -3.617188 C 1.484375 -3.914062 1.738281 -4.136719 2.046875 -4.28125 C 2.328125 -4.414062 2.636719 -4.476562 2.984375 -4.476562 C 3.570312 -4.476562 4.082031 -4.289062 4.515625 -3.914062 C 4.953125 -3.539062 5.171875 -2.984375 5.171875 -2.242188 C 5.171875 -1.605469 4.964844 -1.042969 4.550781 -0.554688 C 4.136719 -0.0625 3.546875 0.179688 2.78125 0.179688 C 2.128906 0.179688 1.5625 -0.0664062 1.089844 -0.5625 C 0.613281 -1.058594 0.375 -1.894531 0.375 -3.070312 C 0.375 -3.941406 0.480469 -4.679688 0.695312 -5.28125 C 1.101562 -6.441406 1.84375 -7.023438 2.925781 -7.023438 Z M 2.859375 -0.601562 C 3.324219 -0.601562 3.667969 -0.757812 3.898438 -1.066406 C 4.128906 -1.378906 4.242188 -1.746094 4.242188 -2.167969 C 4.242188 -2.527344 4.140625 -2.867188 3.9375 -3.191406 C 3.730469 -3.515625 3.359375 -3.675781 2.816406 -3.675781 C 2.4375 -3.675781 2.109375 -3.550781 1.824219 -3.300781 C 1.539062 -3.050781 1.398438 -2.671875 1.398438 -2.167969 C 1.398438 -1.726562 1.527344 -1.351562 1.785156 -1.050781 C 2.042969 -0.75 2.402344 -0.601562 2.859375 -0.601562 Z M 2.859375 -0.601562 \"/>\n",
       "</symbol>\n",
       "<symbol overflow=\"visible\" id=\"glyph-2020-05-2877996.152377s1-5\">\n",
       "<path style=\"stroke:none;\" d=\"M 2.71875 -4.0625 C 3.105469 -4.0625 3.410156 -4.171875 3.628906 -4.386719 C 3.847656 -4.601562 3.953125 -4.863281 3.953125 -5.160156 C 3.953125 -5.421875 3.851562 -5.660156 3.640625 -5.878906 C 3.433594 -6.097656 3.117188 -6.207031 2.691406 -6.207031 C 2.265625 -6.207031 1.960938 -6.097656 1.773438 -5.878906 C 1.585938 -5.660156 1.488281 -5.40625 1.488281 -5.113281 C 1.488281 -4.785156 1.609375 -4.527344 1.855469 -4.339844 C 2.101562 -4.15625 2.386719 -4.0625 2.71875 -4.0625 Z M 2.773438 -0.601562 C 3.179688 -0.601562 3.519531 -0.710938 3.785156 -0.929688 C 4.054688 -1.148438 4.1875 -1.476562 4.1875 -1.914062 C 4.1875 -2.367188 4.050781 -2.710938 3.773438 -2.945312 C 3.496094 -3.179688 3.144531 -3.296875 2.710938 -3.296875 C 2.289062 -3.296875 1.949219 -3.175781 1.683594 -2.9375 C 1.417969 -2.699219 1.285156 -2.367188 1.285156 -1.945312 C 1.285156 -1.578125 1.40625 -1.265625 1.648438 -1 C 1.890625 -0.734375 2.265625 -0.601562 2.773438 -0.601562 Z M 1.523438 -3.726562 C 1.28125 -3.828125 1.089844 -3.953125 0.953125 -4.09375 C 0.695312 -4.351562 0.566406 -4.691406 0.566406 -5.109375 C 0.566406 -5.628906 0.753906 -6.074219 1.132812 -6.449219 C 1.511719 -6.824219 2.046875 -7.011719 2.738281 -7.011719 C 3.410156 -7.011719 3.9375 -6.835938 4.316406 -6.480469 C 4.695312 -6.128906 4.886719 -5.714844 4.886719 -5.242188 C 4.886719 -4.808594 4.777344 -4.453125 4.554688 -4.183594 C 4.429688 -4.03125 4.238281 -3.882812 3.980469 -3.734375 C 4.269531 -3.601562 4.496094 -3.449219 4.664062 -3.277344 C 4.972656 -2.953125 5.125 -2.527344 5.125 -2.007812 C 5.125 -1.390625 4.921875 -0.871094 4.507812 -0.441406 C 4.09375 -0.015625 3.507812 0.199219 2.753906 0.199219 C 2.074219 0.199219 1.5 0.015625 1.027344 -0.355469 C 0.558594 -0.722656 0.320312 -1.257812 0.320312 -1.960938 C 0.320312 -2.375 0.421875 -2.734375 0.625 -3.035156 C 0.828125 -3.335938 1.125 -3.566406 1.523438 -3.726562 Z M 1.523438 -3.726562 \"/>\n",
       "</symbol>\n",
       "<symbol overflow=\"visible\" id=\"glyph-2020-05-2877996.152377s1-6\">\n",
       "<path style=\"stroke:none;\" d=\"M 0.855469 -1.0625 L 1.875 -1.0625 L 1.875 0 L 0.855469 0 Z M 0.855469 -1.0625 \"/>\n",
       "</symbol>\n",
       "<symbol overflow=\"visible\" id=\"glyph-2020-05-2877996.152377s1-7\">\n",
       "<path style=\"stroke:none;\" d=\"M 1.234375 -1.78125 C 1.292969 -1.28125 1.527344 -0.933594 1.933594 -0.742188 C 2.140625 -0.644531 2.382812 -0.59375 2.65625 -0.59375 C 3.175781 -0.59375 3.5625 -0.761719 3.8125 -1.09375 C 4.0625 -1.425781 4.1875 -1.792969 4.1875 -2.195312 C 4.1875 -2.683594 4.039062 -3.0625 3.742188 -3.328125 C 3.445312 -3.597656 3.085938 -3.730469 2.671875 -3.730469 C 2.367188 -3.730469 2.109375 -3.671875 1.890625 -3.554688 C 1.675781 -3.4375 1.492188 -3.273438 1.335938 -3.066406 L 0.578125 -3.109375 L 1.109375 -6.875 L 4.742188 -6.875 L 4.742188 -6.023438 L 1.765625 -6.023438 L 1.46875 -4.082031 C 1.632812 -4.207031 1.789062 -4.296875 1.933594 -4.359375 C 2.195312 -4.46875 2.496094 -4.523438 2.835938 -4.523438 C 3.476562 -4.523438 4.023438 -4.316406 4.46875 -3.902344 C 4.914062 -3.488281 5.136719 -2.964844 5.136719 -2.328125 C 5.136719 -1.667969 4.933594 -1.085938 4.523438 -0.582031 C 4.117188 -0.078125 3.464844 0.175781 2.570312 0.175781 C 2 0.175781 1.496094 0.015625 1.058594 -0.304688 C 0.621094 -0.625 0.375 -1.117188 0.320312 -1.78125 Z M 1.234375 -1.78125 \"/>\n",
       "</symbol>\n",
       "<symbol overflow=\"visible\" id=\"glyph-2020-05-2877996.152377s1-8\">\n",
       "<path style=\"stroke:none;\" d=\"M 0.957031 -4.953125 L 0.957031 -5.625 C 1.59375 -5.6875 2.035156 -5.789062 2.285156 -5.933594 C 2.535156 -6.078125 2.722656 -6.421875 2.847656 -6.960938 L 3.539062 -6.960938 L 3.539062 0 L 2.601562 0 L 2.601562 -4.953125 Z M 0.957031 -4.953125 \"/>\n",
       "</symbol>\n",
       "<symbol overflow=\"visible\" id=\"glyph-2020-05-2877996.152377s1-9\">\n",
       "<path style=\"stroke:none;\" d=\"M 2.597656 0.191406 C 1.769531 0.191406 1.171875 -0.0351562 0.796875 -0.492188 C 0.425781 -0.945312 0.238281 -1.496094 0.238281 -2.148438 L 1.15625 -2.148438 C 1.195312 -1.695312 1.28125 -1.367188 1.410156 -1.164062 C 1.640625 -0.796875 2.050781 -0.609375 2.648438 -0.609375 C 3.109375 -0.609375 3.480469 -0.734375 3.757812 -0.980469 C 4.039062 -1.226562 4.179688 -1.546875 4.179688 -1.9375 C 4.179688 -2.421875 4.03125 -2.757812 3.738281 -2.949219 C 3.445312 -3.140625 3.035156 -3.238281 2.507812 -3.238281 C 2.449219 -3.238281 2.390625 -3.238281 2.332031 -3.234375 C 2.273438 -3.234375 2.210938 -3.230469 2.148438 -3.226562 L 2.148438 -4.003906 C 2.238281 -3.992188 2.316406 -3.988281 2.378906 -3.984375 C 2.441406 -3.980469 2.507812 -3.980469 2.578125 -3.980469 C 2.90625 -3.980469 3.175781 -4.03125 3.390625 -4.136719 C 3.761719 -4.320312 3.945312 -4.644531 3.945312 -5.113281 C 3.945312 -5.460938 3.820312 -5.730469 3.574219 -5.917969 C 3.328125 -6.105469 3.039062 -6.203125 2.710938 -6.203125 C 2.125 -6.203125 1.71875 -6.007812 1.492188 -5.617188 C 1.371094 -5.402344 1.300781 -5.09375 1.285156 -4.695312 L 0.414062 -4.695312 C 0.414062 -5.21875 0.519531 -5.660156 0.726562 -6.023438 C 1.085938 -6.675781 1.714844 -7 2.617188 -7 C 3.328125 -7 3.882812 -6.84375 4.273438 -6.527344 C 4.664062 -6.210938 4.859375 -5.75 4.859375 -5.148438 C 4.859375 -4.71875 4.742188 -4.367188 4.511719 -4.101562 C 4.367188 -3.9375 4.183594 -3.804688 3.953125 -3.710938 C 4.320312 -3.609375 4.609375 -3.414062 4.816406 -3.128906 C 5.023438 -2.839844 5.125 -2.488281 5.125 -2.070312 C 5.125 -1.402344 4.90625 -0.859375 4.46875 -0.4375 C 4.027344 -0.0195312 3.40625 0.191406 2.597656 0.191406 Z M 2.597656 0.191406 \"/>\n",
       "</symbol>\n",
       "</g>\n",
       "<clipPath id=\"clip-2020-05-2877996.152377s1\">\n",
       "  <path d=\"M 41.566406 118 L 382 118 L 382 270 L 41.566406 270 Z M 41.566406 118 \"/>\n",
       "</clipPath>\n",
       "<clipPath id=\"clip-2020-05-2877996.152377s2\">\n",
       "  <path d=\"M 41.566406 117 L 382 117 L 382 270 L 41.566406 270 Z M 41.566406 117 \"/>\n",
       "</clipPath>\n",
       "<clipPath id=\"clip-2020-05-2877996.152377s3\">\n",
       "  <path d=\"M 41.566406 41 L 354 41 L 354 270 L 41.566406 270 Z M 41.566406 41 \"/>\n",
       "</clipPath>\n",
       "</defs>\n",
       "<g id=\"surface53\">\n",
       "<rect x=\"0\" y=\"0\" width=\"450\" height=\"300\" style=\"fill:rgb(100%,100%,100%);fill-opacity:1;stroke:none;\"/>\n",
       "<g style=\"fill:rgb(0%,0%,0%);fill-opacity:1;\">\n",
       "  <use xlink:href=\"#glyph-2020-05-2877996.152377s0-1\" x=\"165.648438\" y=\"16.550781\"/>\n",
       "  <use xlink:href=\"#glyph-2020-05-2877996.152377s0-2\" x=\"176.480957\" y=\"16.550781\"/>\n",
       "  <use xlink:href=\"#glyph-2020-05-2877996.152377s0-3\" x=\"184.823242\" y=\"16.550781\"/>\n",
       "  <use xlink:href=\"#glyph-2020-05-2877996.152377s0-4\" x=\"189.818359\" y=\"16.550781\"/>\n",
       "  <use xlink:href=\"#glyph-2020-05-2877996.152377s0-5\" x=\"198.160645\" y=\"16.550781\"/>\n",
       "  <use xlink:href=\"#glyph-2020-05-2877996.152377s0-6\" x=\"202.328125\" y=\"16.550781\"/>\n",
       "  <use xlink:href=\"#glyph-2020-05-2877996.152377s0-7\" x=\"213.160645\" y=\"16.550781\"/>\n",
       "  <use xlink:href=\"#glyph-2020-05-2877996.152377s0-8\" x=\"217.328125\" y=\"16.550781\"/>\n",
       "  <use xlink:href=\"#glyph-2020-05-2877996.152377s0-3\" x=\"225.67041\" y=\"16.550781\"/>\n",
       "  <use xlink:href=\"#glyph-2020-05-2877996.152377s0-9\" x=\"230.665527\" y=\"16.550781\"/>\n",
       "  <use xlink:href=\"#glyph-2020-05-2877996.152377s0-7\" x=\"236.50293\" y=\"16.550781\"/>\n",
       "  <use xlink:href=\"#glyph-2020-05-2877996.152377s0-10\" x=\"240.67041\" y=\"16.550781\"/>\n",
       "  <use xlink:href=\"#glyph-2020-05-2877996.152377s0-11\" x=\"249.833008\" y=\"16.550781\"/>\n",
       "  <use xlink:href=\"#glyph-2020-05-2877996.152377s0-3\" x=\"258.995605\" y=\"16.550781\"/>\n",
       "  <use xlink:href=\"#glyph-2020-05-2877996.152377s0-7\" x=\"263.990723\" y=\"16.550781\"/>\n",
       "  <use xlink:href=\"#glyph-2020-05-2877996.152377s0-12\" x=\"268.158203\" y=\"16.550781\"/>\n",
       "  <use xlink:href=\"#glyph-2020-05-2877996.152377s0-13\" x=\"277.320801\" y=\"16.550781\"/>\n",
       "</g>\n",
       "<path style=\"fill:none;stroke-width:1;stroke-linecap:butt;stroke-linejoin:miter;stroke:rgb(82.745098%,82.745098%,82.745098%);stroke-opacity:1;stroke-dasharray:5,5;stroke-miterlimit:10;\" d=\"M -0.000976562 0 L -0.000976562 235 \" transform=\"matrix(1,0,0,1,41.567383,35)\"/>\n",
       "<path style=\"fill:none;stroke-width:1;stroke-linecap:butt;stroke-linejoin:miter;stroke:rgb(82.745098%,82.745098%,82.745098%);stroke-opacity:1;stroke-dasharray:5,5;stroke-miterlimit:10;\" d=\"M 54.788086 0 L 54.788086 235 \" transform=\"matrix(1,0,0,1,41.567383,35)\"/>\n",
       "<path style=\"fill:none;stroke-width:1;stroke-linecap:butt;stroke-linejoin:miter;stroke:rgb(82.745098%,82.745098%,82.745098%);stroke-opacity:1;stroke-dasharray:5,5;stroke-miterlimit:10;\" d=\"M 109.573242 0 L 109.573242 235 \" transform=\"matrix(1,0,0,1,41.567383,35)\"/>\n",
       "<path style=\"fill:none;stroke-width:1;stroke-linecap:butt;stroke-linejoin:miter;stroke:rgb(82.745098%,82.745098%,82.745098%);stroke-opacity:1;stroke-dasharray:5,5;stroke-miterlimit:10;\" d=\"M 164.362305 0 L 164.362305 235 \" transform=\"matrix(1,0,0,1,41.567383,35)\"/>\n",
       "<path style=\"fill:none;stroke-width:1;stroke-linecap:butt;stroke-linejoin:miter;stroke:rgb(82.745098%,82.745098%,82.745098%);stroke-opacity:1;stroke-dasharray:5,5;stroke-miterlimit:10;\" d=\"M 219.147461 0 L 219.147461 235 \" transform=\"matrix(1,0,0,1,41.567383,35)\"/>\n",
       "<path style=\"fill:none;stroke-width:1;stroke-linecap:butt;stroke-linejoin:miter;stroke:rgb(82.745098%,82.745098%,82.745098%);stroke-opacity:1;stroke-dasharray:5,5;stroke-miterlimit:10;\" d=\"M 273.932617 0 L 273.932617 235 \" transform=\"matrix(1,0,0,1,41.567383,35)\"/>\n",
       "<path style=\"fill:none;stroke-width:1;stroke-linecap:butt;stroke-linejoin:miter;stroke:rgb(82.745098%,82.745098%,82.745098%);stroke-opacity:1;stroke-dasharray:5,5;stroke-miterlimit:10;\" d=\"M 328.72168 0 L 328.72168 235 \" transform=\"matrix(1,0,0,1,41.567383,35)\"/>\n",
       "<path style=\"fill:none;stroke-width:1;stroke-linecap:butt;stroke-linejoin:miter;stroke:rgb(82.745098%,82.745098%,82.745098%);stroke-opacity:1;stroke-dasharray:5,5;stroke-miterlimit:10;\" d=\"M 383.506836 0 L 383.506836 235 \" transform=\"matrix(1,0,0,1,41.567383,35)\"/>\n",
       "<path style=\"fill:none;stroke-width:1;stroke-linecap:butt;stroke-linejoin:miter;stroke:rgb(82.745098%,82.745098%,82.745098%);stroke-opacity:1;stroke-dasharray:5,5;stroke-miterlimit:10;\" d=\"M -0.000976562 235 L 383.506836 235 \" transform=\"matrix(1,0,0,1,41.567383,35)\"/>\n",
       "<path style=\"fill:none;stroke-width:1;stroke-linecap:butt;stroke-linejoin:miter;stroke:rgb(82.745098%,82.745098%,82.745098%);stroke-opacity:1;stroke-dasharray:5,5;stroke-miterlimit:10;\" d=\"M -0.000976562 176.25 L 383.506836 176.25 \" transform=\"matrix(1,0,0,1,41.567383,35)\"/>\n",
       "<path style=\"fill:none;stroke-width:1;stroke-linecap:butt;stroke-linejoin:miter;stroke:rgb(82.745098%,82.745098%,82.745098%);stroke-opacity:1;stroke-dasharray:5,5;stroke-miterlimit:10;\" d=\"M -0.000976562 117.5 L 383.506836 117.5 \" transform=\"matrix(1,0,0,1,41.567383,35)\"/>\n",
       "<path style=\"fill:none;stroke-width:1;stroke-linecap:butt;stroke-linejoin:miter;stroke:rgb(82.745098%,82.745098%,82.745098%);stroke-opacity:1;stroke-dasharray:5,5;stroke-miterlimit:10;\" d=\"M -0.000976562 58.75 L 383.506836 58.75 \" transform=\"matrix(1,0,0,1,41.567383,35)\"/>\n",
       "<path style=\"fill:none;stroke-width:1;stroke-linecap:butt;stroke-linejoin:miter;stroke:rgb(82.745098%,82.745098%,82.745098%);stroke-opacity:1;stroke-dasharray:5,5;stroke-miterlimit:10;\" d=\"M -0.000976562 0 L 383.506836 0 \" transform=\"matrix(1,0,0,1,41.567383,35)\"/>\n",
       "<g clip-path=\"url(#clip-2020-05-2877996.152377s1)\" clip-rule=\"nonzero\">\n",
       "<path style=\" stroke:none;fill-rule:nonzero;fill:rgb(50%,50%,100%);fill-opacity:1;\" d=\"M 41.566406 270 L 41.566406 118.484375 L 52.882812 118.484375 L 52.882812 224.546875 L 64.199219 224.546875 L 64.199219 251.40625 L 75.515625 251.40625 L 75.515625 250.714844 L 86.832031 250.714844 L 86.832031 260.359375 L 98.148438 260.359375 L 98.148438 261.046875 L 109.464844 261.046875 L 109.464844 265.867188 L 120.78125 265.867188 L 120.78125 266.554688 L 132.097656 266.554688 L 132.097656 267.933594 L 143.414062 267.933594 L 143.414062 267.246094 L 154.730469 267.246094 L 154.730469 265.867188 L 177.363281 265.867188 L 177.363281 267.933594 L 188.679688 267.933594 L 188.679688 269.3125 L 211.3125 269.3125 L 211.3125 267.933594 L 222.628906 267.933594 L 222.628906 269.3125 L 233.945312 269.3125 L 233.945312 268.621094 L 245.261719 268.621094 L 245.261719 269.3125 L 267.894531 269.3125 L 267.894531 270 L 347.105469 270 L 347.105469 269.3125 L 358.421875 269.3125 L 358.421875 270 L 369.738281 270 L 369.738281 269.3125 L 381.054688 269.3125 L 381.054688 270 \"/>\n",
       "</g>\n",
       "<g clip-path=\"url(#clip-2020-05-2877996.152377s2)\" clip-rule=\"nonzero\">\n",
       "<path style=\"fill:none;stroke-width:1;stroke-linecap:butt;stroke-linejoin:miter;stroke:rgb(0%,0%,100%);stroke-opacity:1;stroke-miterlimit:10;\" d=\"M -0.000976562 235 L -0.000976562 83.484375 L 11.31543 83.484375 L 11.31543 189.546875 L 22.631836 189.546875 L 22.631836 216.40625 L 33.948242 216.40625 L 33.948242 215.714844 L 45.264648 215.714844 L 45.264648 225.359375 L 56.581055 225.359375 L 56.581055 226.046875 L 67.897461 226.046875 L 67.897461 230.867188 L 79.213867 230.867188 L 79.213867 231.554688 L 90.530273 231.554688 L 90.530273 232.933594 L 101.84668 232.933594 L 101.84668 232.246094 L 113.163086 232.246094 L 113.163086 230.867188 L 135.795898 230.867188 L 135.795898 232.933594 L 147.112305 232.933594 L 147.112305 234.3125 L 169.745117 234.3125 L 169.745117 232.933594 L 181.061523 232.933594 L 181.061523 234.3125 L 192.37793 234.3125 L 192.37793 233.621094 L 203.694336 233.621094 L 203.694336 234.3125 L 226.327148 234.3125 L 226.327148 235 L 305.538086 235 L 305.538086 234.3125 L 316.854492 234.3125 L 316.854492 235 L 328.170898 235 L 328.170898 234.3125 L 339.487305 234.3125 L 339.487305 235 \" transform=\"matrix(1,0,0,1,41.567383,35)\"/>\n",
       "</g>\n",
       "<g clip-path=\"url(#clip-2020-05-2877996.152377s3)\" clip-rule=\"nonzero\">\n",
       "<path style=\"fill-rule:nonzero;fill:rgb(50%,50%,100%);fill-opacity:1;stroke-width:1;stroke-linecap:butt;stroke-linejoin:miter;stroke:rgb(0%,0%,100%);stroke-opacity:1;stroke-miterlimit:10;\" d=\"M -0.000976562 235 L -0.000976562 6.945312 L 10.393555 6.945312 L 10.393555 202.148438 L 20.788086 202.148438 L 20.788086 217.621094 L 31.182617 217.621094 L 31.182617 225.25 L 41.577148 225.25 L 41.577148 228.429688 L 51.97168 228.429688 L 51.97168 230.972656 L 62.366211 230.972656 L 62.366211 232.246094 L 72.760742 232.246094 L 72.760742 233.09375 L 83.155273 233.09375 L 83.155273 234.152344 L 93.549805 234.152344 L 93.549805 233.726562 L 103.948242 233.726562 L 103.948242 234.152344 L 114.342773 234.152344 L 114.342773 234.574219 L 124.737305 234.574219 L 124.737305 234.363281 L 135.131836 234.363281 L 135.131836 234.152344 L 145.526367 234.152344 L 145.526367 234.574219 L 155.920898 234.574219 L 155.920898 234.152344 L 166.31543 234.152344 L 166.31543 235 L 301.444336 235 L 301.444336 234.789062 L 311.838867 234.789062 L 311.838867 235 \" transform=\"matrix(1,0,0,1,41.567383,35)\"/>\n",
       "</g>\n",
       "<path style=\"fill:none;stroke-width:1;stroke-linecap:square;stroke-linejoin:miter;stroke:rgb(0%,0%,0%);stroke-opacity:1;stroke-miterlimit:10;\" d=\"M 31.566406 235 L 31.566406 0 \" transform=\"matrix(1,0,0,1,10,35)\"/>\n",
       "<path style=\"fill:none;stroke-width:1;stroke-linecap:butt;stroke-linejoin:miter;stroke:rgb(0%,0%,0%);stroke-opacity:1;stroke-miterlimit:10;\" d=\"M 31.566406 235 L 33.566406 235 \" transform=\"matrix(1,0,0,1,10,35)\"/>\n",
       "<path style=\"fill:none;stroke-width:1;stroke-linecap:butt;stroke-linejoin:miter;stroke:rgb(0%,0%,0%);stroke-opacity:1;stroke-miterlimit:10;\" d=\"M 31.566406 229.125 L 33.566406 229.125 \" transform=\"matrix(1,0,0,1,10,35)\"/>\n",
       "<path style=\"fill:none;stroke-width:1;stroke-linecap:butt;stroke-linejoin:miter;stroke:rgb(0%,0%,0%);stroke-opacity:1;stroke-miterlimit:10;\" d=\"M 31.566406 223.25 L 33.566406 223.25 \" transform=\"matrix(1,0,0,1,10,35)\"/>\n",
       "<path style=\"fill:none;stroke-width:1;stroke-linecap:butt;stroke-linejoin:miter;stroke:rgb(0%,0%,0%);stroke-opacity:1;stroke-miterlimit:10;\" d=\"M 31.566406 217.375 L 33.566406 217.375 \" transform=\"matrix(1,0,0,1,10,35)\"/>\n",
       "<path style=\"fill:none;stroke-width:1;stroke-linecap:butt;stroke-linejoin:miter;stroke:rgb(0%,0%,0%);stroke-opacity:1;stroke-miterlimit:10;\" d=\"M 31.566406 211.5 L 33.566406 211.5 \" transform=\"matrix(1,0,0,1,10,35)\"/>\n",
       "<path style=\"fill:none;stroke-width:1;stroke-linecap:butt;stroke-linejoin:miter;stroke:rgb(0%,0%,0%);stroke-opacity:1;stroke-miterlimit:10;\" d=\"M 31.566406 205.625 L 33.566406 205.625 \" transform=\"matrix(1,0,0,1,10,35)\"/>\n",
       "<path style=\"fill:none;stroke-width:1;stroke-linecap:butt;stroke-linejoin:miter;stroke:rgb(0%,0%,0%);stroke-opacity:1;stroke-miterlimit:10;\" d=\"M 31.566406 199.75 L 33.566406 199.75 \" transform=\"matrix(1,0,0,1,10,35)\"/>\n",
       "<path style=\"fill:none;stroke-width:1;stroke-linecap:butt;stroke-linejoin:miter;stroke:rgb(0%,0%,0%);stroke-opacity:1;stroke-miterlimit:10;\" d=\"M 31.566406 193.875 L 33.566406 193.875 \" transform=\"matrix(1,0,0,1,10,35)\"/>\n",
       "<path style=\"fill:none;stroke-width:1;stroke-linecap:butt;stroke-linejoin:miter;stroke:rgb(0%,0%,0%);stroke-opacity:1;stroke-miterlimit:10;\" d=\"M 31.566406 188 L 33.566406 188 \" transform=\"matrix(1,0,0,1,10,35)\"/>\n",
       "<path style=\"fill:none;stroke-width:1;stroke-linecap:butt;stroke-linejoin:miter;stroke:rgb(0%,0%,0%);stroke-opacity:1;stroke-miterlimit:10;\" d=\"M 31.566406 182.125 L 33.566406 182.125 \" transform=\"matrix(1,0,0,1,10,35)\"/>\n",
       "<path style=\"fill:none;stroke-width:1;stroke-linecap:butt;stroke-linejoin:miter;stroke:rgb(0%,0%,0%);stroke-opacity:1;stroke-miterlimit:10;\" d=\"M 31.566406 176.25 L 33.566406 176.25 \" transform=\"matrix(1,0,0,1,10,35)\"/>\n",
       "<path style=\"fill:none;stroke-width:1;stroke-linecap:butt;stroke-linejoin:miter;stroke:rgb(0%,0%,0%);stroke-opacity:1;stroke-miterlimit:10;\" d=\"M 31.566406 170.375 L 33.566406 170.375 \" transform=\"matrix(1,0,0,1,10,35)\"/>\n",
       "<path style=\"fill:none;stroke-width:1;stroke-linecap:butt;stroke-linejoin:miter;stroke:rgb(0%,0%,0%);stroke-opacity:1;stroke-miterlimit:10;\" d=\"M 31.566406 164.5 L 33.566406 164.5 \" transform=\"matrix(1,0,0,1,10,35)\"/>\n",
       "<path style=\"fill:none;stroke-width:1;stroke-linecap:butt;stroke-linejoin:miter;stroke:rgb(0%,0%,0%);stroke-opacity:1;stroke-miterlimit:10;\" d=\"M 31.566406 158.625 L 33.566406 158.625 \" transform=\"matrix(1,0,0,1,10,35)\"/>\n",
       "<path style=\"fill:none;stroke-width:1;stroke-linecap:butt;stroke-linejoin:miter;stroke:rgb(0%,0%,0%);stroke-opacity:1;stroke-miterlimit:10;\" d=\"M 31.566406 152.75 L 33.566406 152.75 \" transform=\"matrix(1,0,0,1,10,35)\"/>\n",
       "<path style=\"fill:none;stroke-width:1;stroke-linecap:butt;stroke-linejoin:miter;stroke:rgb(0%,0%,0%);stroke-opacity:1;stroke-miterlimit:10;\" d=\"M 31.566406 146.875 L 33.566406 146.875 \" transform=\"matrix(1,0,0,1,10,35)\"/>\n",
       "<path style=\"fill:none;stroke-width:1;stroke-linecap:butt;stroke-linejoin:miter;stroke:rgb(0%,0%,0%);stroke-opacity:1;stroke-miterlimit:10;\" d=\"M 31.566406 141 L 33.566406 141 \" transform=\"matrix(1,0,0,1,10,35)\"/>\n",
       "<path style=\"fill:none;stroke-width:1;stroke-linecap:butt;stroke-linejoin:miter;stroke:rgb(0%,0%,0%);stroke-opacity:1;stroke-miterlimit:10;\" d=\"M 31.566406 135.125 L 33.566406 135.125 \" transform=\"matrix(1,0,0,1,10,35)\"/>\n",
       "<path style=\"fill:none;stroke-width:1;stroke-linecap:butt;stroke-linejoin:miter;stroke:rgb(0%,0%,0%);stroke-opacity:1;stroke-miterlimit:10;\" d=\"M 31.566406 129.25 L 33.566406 129.25 \" transform=\"matrix(1,0,0,1,10,35)\"/>\n",
       "<path style=\"fill:none;stroke-width:1;stroke-linecap:butt;stroke-linejoin:miter;stroke:rgb(0%,0%,0%);stroke-opacity:1;stroke-miterlimit:10;\" d=\"M 31.566406 123.375 L 33.566406 123.375 \" transform=\"matrix(1,0,0,1,10,35)\"/>\n",
       "<path style=\"fill:none;stroke-width:1;stroke-linecap:butt;stroke-linejoin:miter;stroke:rgb(0%,0%,0%);stroke-opacity:1;stroke-miterlimit:10;\" d=\"M 31.566406 117.5 L 33.566406 117.5 \" transform=\"matrix(1,0,0,1,10,35)\"/>\n",
       "<path style=\"fill:none;stroke-width:1;stroke-linecap:butt;stroke-linejoin:miter;stroke:rgb(0%,0%,0%);stroke-opacity:1;stroke-miterlimit:10;\" d=\"M 31.566406 111.625 L 33.566406 111.625 \" transform=\"matrix(1,0,0,1,10,35)\"/>\n",
       "<path style=\"fill:none;stroke-width:1;stroke-linecap:butt;stroke-linejoin:miter;stroke:rgb(0%,0%,0%);stroke-opacity:1;stroke-miterlimit:10;\" d=\"M 31.566406 105.75 L 33.566406 105.75 \" transform=\"matrix(1,0,0,1,10,35)\"/>\n",
       "<path style=\"fill:none;stroke-width:1;stroke-linecap:butt;stroke-linejoin:miter;stroke:rgb(0%,0%,0%);stroke-opacity:1;stroke-miterlimit:10;\" d=\"M 31.566406 99.875 L 33.566406 99.875 \" transform=\"matrix(1,0,0,1,10,35)\"/>\n",
       "<path style=\"fill:none;stroke-width:1;stroke-linecap:butt;stroke-linejoin:miter;stroke:rgb(0%,0%,0%);stroke-opacity:1;stroke-miterlimit:10;\" d=\"M 31.566406 94 L 33.566406 94 \" transform=\"matrix(1,0,0,1,10,35)\"/>\n",
       "<path style=\"fill:none;stroke-width:1;stroke-linecap:butt;stroke-linejoin:miter;stroke:rgb(0%,0%,0%);stroke-opacity:1;stroke-miterlimit:10;\" d=\"M 31.566406 88.125 L 33.566406 88.125 \" transform=\"matrix(1,0,0,1,10,35)\"/>\n",
       "<path style=\"fill:none;stroke-width:1;stroke-linecap:butt;stroke-linejoin:miter;stroke:rgb(0%,0%,0%);stroke-opacity:1;stroke-miterlimit:10;\" d=\"M 31.566406 82.25 L 33.566406 82.25 \" transform=\"matrix(1,0,0,1,10,35)\"/>\n",
       "<path style=\"fill:none;stroke-width:1;stroke-linecap:butt;stroke-linejoin:miter;stroke:rgb(0%,0%,0%);stroke-opacity:1;stroke-miterlimit:10;\" d=\"M 31.566406 76.375 L 33.566406 76.375 \" transform=\"matrix(1,0,0,1,10,35)\"/>\n",
       "<path style=\"fill:none;stroke-width:1;stroke-linecap:butt;stroke-linejoin:miter;stroke:rgb(0%,0%,0%);stroke-opacity:1;stroke-miterlimit:10;\" d=\"M 31.566406 70.5 L 33.566406 70.5 \" transform=\"matrix(1,0,0,1,10,35)\"/>\n",
       "<path style=\"fill:none;stroke-width:1;stroke-linecap:butt;stroke-linejoin:miter;stroke:rgb(0%,0%,0%);stroke-opacity:1;stroke-miterlimit:10;\" d=\"M 31.566406 64.625 L 33.566406 64.625 \" transform=\"matrix(1,0,0,1,10,35)\"/>\n",
       "<path style=\"fill:none;stroke-width:1;stroke-linecap:butt;stroke-linejoin:miter;stroke:rgb(0%,0%,0%);stroke-opacity:1;stroke-miterlimit:10;\" d=\"M 31.566406 58.75 L 33.566406 58.75 \" transform=\"matrix(1,0,0,1,10,35)\"/>\n",
       "<path style=\"fill:none;stroke-width:1;stroke-linecap:butt;stroke-linejoin:miter;stroke:rgb(0%,0%,0%);stroke-opacity:1;stroke-miterlimit:10;\" d=\"M 31.566406 52.875 L 33.566406 52.875 \" transform=\"matrix(1,0,0,1,10,35)\"/>\n",
       "<path style=\"fill:none;stroke-width:1;stroke-linecap:butt;stroke-linejoin:miter;stroke:rgb(0%,0%,0%);stroke-opacity:1;stroke-miterlimit:10;\" d=\"M 31.566406 47 L 33.566406 47 \" transform=\"matrix(1,0,0,1,10,35)\"/>\n",
       "<path style=\"fill:none;stroke-width:1;stroke-linecap:butt;stroke-linejoin:miter;stroke:rgb(0%,0%,0%);stroke-opacity:1;stroke-miterlimit:10;\" d=\"M 31.566406 41.125 L 33.566406 41.125 \" transform=\"matrix(1,0,0,1,10,35)\"/>\n",
       "<path style=\"fill:none;stroke-width:1;stroke-linecap:butt;stroke-linejoin:miter;stroke:rgb(0%,0%,0%);stroke-opacity:1;stroke-miterlimit:10;\" d=\"M 31.566406 35.25 L 33.566406 35.25 \" transform=\"matrix(1,0,0,1,10,35)\"/>\n",
       "<path style=\"fill:none;stroke-width:1;stroke-linecap:butt;stroke-linejoin:miter;stroke:rgb(0%,0%,0%);stroke-opacity:1;stroke-miterlimit:10;\" d=\"M 31.566406 29.375 L 33.566406 29.375 \" transform=\"matrix(1,0,0,1,10,35)\"/>\n",
       "<path style=\"fill:none;stroke-width:1;stroke-linecap:butt;stroke-linejoin:miter;stroke:rgb(0%,0%,0%);stroke-opacity:1;stroke-miterlimit:10;\" d=\"M 31.566406 23.5 L 33.566406 23.5 \" transform=\"matrix(1,0,0,1,10,35)\"/>\n",
       "<path style=\"fill:none;stroke-width:1;stroke-linecap:butt;stroke-linejoin:miter;stroke:rgb(0%,0%,0%);stroke-opacity:1;stroke-miterlimit:10;\" d=\"M 31.566406 17.625 L 33.566406 17.625 \" transform=\"matrix(1,0,0,1,10,35)\"/>\n",
       "<path style=\"fill:none;stroke-width:1;stroke-linecap:butt;stroke-linejoin:miter;stroke:rgb(0%,0%,0%);stroke-opacity:1;stroke-miterlimit:10;\" d=\"M 31.566406 11.75 L 33.566406 11.75 \" transform=\"matrix(1,0,0,1,10,35)\"/>\n",
       "<path style=\"fill:none;stroke-width:1;stroke-linecap:butt;stroke-linejoin:miter;stroke:rgb(0%,0%,0%);stroke-opacity:1;stroke-miterlimit:10;\" d=\"M 31.566406 5.875 L 33.566406 5.875 \" transform=\"matrix(1,0,0,1,10,35)\"/>\n",
       "<path style=\"fill:none;stroke-width:1;stroke-linecap:butt;stroke-linejoin:miter;stroke:rgb(0%,0%,0%);stroke-opacity:1;stroke-miterlimit:10;\" d=\"M 31.566406 0 L 33.566406 0 \" transform=\"matrix(1,0,0,1,10,35)\"/>\n",
       "<path style=\"fill:none;stroke-width:1;stroke-linecap:butt;stroke-linejoin:miter;stroke:rgb(0%,0%,0%);stroke-opacity:1;stroke-miterlimit:10;\" d=\"M 31.566406 235 L 36.566406 235 \" transform=\"matrix(1,0,0,1,10,35)\"/>\n",
       "<path style=\"fill:none;stroke-width:1;stroke-linecap:butt;stroke-linejoin:miter;stroke:rgb(0%,0%,0%);stroke-opacity:1;stroke-miterlimit:10;\" d=\"M 31.566406 176.25 L 36.566406 176.25 \" transform=\"matrix(1,0,0,1,10,35)\"/>\n",
       "<path style=\"fill:none;stroke-width:1;stroke-linecap:butt;stroke-linejoin:miter;stroke:rgb(0%,0%,0%);stroke-opacity:1;stroke-miterlimit:10;\" d=\"M 31.566406 117.5 L 36.566406 117.5 \" transform=\"matrix(1,0,0,1,10,35)\"/>\n",
       "<path style=\"fill:none;stroke-width:1;stroke-linecap:butt;stroke-linejoin:miter;stroke:rgb(0%,0%,0%);stroke-opacity:1;stroke-miterlimit:10;\" d=\"M 31.566406 58.75 L 36.566406 58.75 \" transform=\"matrix(1,0,0,1,10,35)\"/>\n",
       "<path style=\"fill:none;stroke-width:1;stroke-linecap:butt;stroke-linejoin:miter;stroke:rgb(0%,0%,0%);stroke-opacity:1;stroke-miterlimit:10;\" d=\"M 31.566406 0 L 36.566406 0 \" transform=\"matrix(1,0,0,1,10,35)\"/>\n",
       "<g style=\"fill:rgb(0%,0%,0%);fill-opacity:1;\">\n",
       "  <use xlink:href=\"#glyph-2020-05-2877996.152377s1-1\" x=\"26.742188\" y=\"273.496094\"/>\n",
       "</g>\n",
       "<g style=\"fill:rgb(0%,0%,0%);fill-opacity:1;\">\n",
       "  <use xlink:href=\"#glyph-2020-05-2877996.152377s1-2\" x=\"10.058594\" y=\"214.757812\"/>\n",
       "  <use xlink:href=\"#glyph-2020-05-2877996.152377s1-1\" x=\"15.620117\" y=\"214.757812\"/>\n",
       "  <use xlink:href=\"#glyph-2020-05-2877996.152377s1-1\" x=\"21.181641\" y=\"214.757812\"/>\n",
       "  <use xlink:href=\"#glyph-2020-05-2877996.152377s1-1\" x=\"26.743164\" y=\"214.757812\"/>\n",
       "</g>\n",
       "<g style=\"fill:rgb(0%,0%,0%);fill-opacity:1;\">\n",
       "  <use xlink:href=\"#glyph-2020-05-2877996.152377s1-3\" x=\"10\" y=\"156.007812\"/>\n",
       "  <use xlink:href=\"#glyph-2020-05-2877996.152377s1-1\" x=\"15.561523\" y=\"156.007812\"/>\n",
       "  <use xlink:href=\"#glyph-2020-05-2877996.152377s1-1\" x=\"21.123047\" y=\"156.007812\"/>\n",
       "  <use xlink:href=\"#glyph-2020-05-2877996.152377s1-1\" x=\"26.68457\" y=\"156.007812\"/>\n",
       "</g>\n",
       "<g style=\"fill:rgb(0%,0%,0%);fill-opacity:1;\">\n",
       "  <use xlink:href=\"#glyph-2020-05-2877996.152377s1-4\" x=\"10.121094\" y=\"97.261719\"/>\n",
       "  <use xlink:href=\"#glyph-2020-05-2877996.152377s1-1\" x=\"15.682617\" y=\"97.261719\"/>\n",
       "  <use xlink:href=\"#glyph-2020-05-2877996.152377s1-1\" x=\"21.244141\" y=\"97.261719\"/>\n",
       "  <use xlink:href=\"#glyph-2020-05-2877996.152377s1-1\" x=\"26.805664\" y=\"97.261719\"/>\n",
       "</g>\n",
       "<g style=\"fill:rgb(0%,0%,0%);fill-opacity:1;\">\n",
       "  <use xlink:href=\"#glyph-2020-05-2877996.152377s1-5\" x=\"10.070312\" y=\"38.507812\"/>\n",
       "  <use xlink:href=\"#glyph-2020-05-2877996.152377s1-1\" x=\"15.631836\" y=\"38.507812\"/>\n",
       "  <use xlink:href=\"#glyph-2020-05-2877996.152377s1-1\" x=\"21.193359\" y=\"38.507812\"/>\n",
       "  <use xlink:href=\"#glyph-2020-05-2877996.152377s1-1\" x=\"26.754883\" y=\"38.507812\"/>\n",
       "</g>\n",
       "<path style=\"fill:none;stroke-width:1;stroke-linecap:square;stroke-linejoin:miter;stroke:rgb(0%,0%,0%);stroke-opacity:1;stroke-miterlimit:10;\" d=\"M -0.000976562 0 L 383.506836 0 \" transform=\"matrix(1,0,0,1,41.567383,270)\"/>\n",
       "<path style=\"fill:none;stroke-width:1;stroke-linecap:butt;stroke-linejoin:miter;stroke:rgb(0%,0%,0%);stroke-opacity:1;stroke-miterlimit:10;\" d=\"M -0.000976562 0 L -0.000976562 -2 \" transform=\"matrix(1,0,0,1,41.567383,270)\"/>\n",
       "<path style=\"fill:none;stroke-width:1;stroke-linecap:butt;stroke-linejoin:miter;stroke:rgb(0%,0%,0%);stroke-opacity:1;stroke-miterlimit:10;\" d=\"M 10.956055 0 L 10.956055 -2 \" transform=\"matrix(1,0,0,1,41.567383,270)\"/>\n",
       "<path style=\"fill:none;stroke-width:1;stroke-linecap:butt;stroke-linejoin:miter;stroke:rgb(0%,0%,0%);stroke-opacity:1;stroke-miterlimit:10;\" d=\"M 21.913086 0 L 21.913086 -2 \" transform=\"matrix(1,0,0,1,41.567383,270)\"/>\n",
       "<path style=\"fill:none;stroke-width:1;stroke-linecap:butt;stroke-linejoin:miter;stroke:rgb(0%,0%,0%);stroke-opacity:1;stroke-miterlimit:10;\" d=\"M 32.874023 0 L 32.874023 -2 \" transform=\"matrix(1,0,0,1,41.567383,270)\"/>\n",
       "<path style=\"fill:none;stroke-width:1;stroke-linecap:butt;stroke-linejoin:miter;stroke:rgb(0%,0%,0%);stroke-opacity:1;stroke-miterlimit:10;\" d=\"M 43.831055 0 L 43.831055 -2 \" transform=\"matrix(1,0,0,1,41.567383,270)\"/>\n",
       "<path style=\"fill:none;stroke-width:1;stroke-linecap:butt;stroke-linejoin:miter;stroke:rgb(0%,0%,0%);stroke-opacity:1;stroke-miterlimit:10;\" d=\"M 54.788086 0 L 54.788086 -2 \" transform=\"matrix(1,0,0,1,41.567383,270)\"/>\n",
       "<path style=\"fill:none;stroke-width:1;stroke-linecap:butt;stroke-linejoin:miter;stroke:rgb(0%,0%,0%);stroke-opacity:1;stroke-miterlimit:10;\" d=\"M 65.745117 0 L 65.745117 -2 \" transform=\"matrix(1,0,0,1,41.567383,270)\"/>\n",
       "<path style=\"fill:none;stroke-width:1;stroke-linecap:butt;stroke-linejoin:miter;stroke:rgb(0%,0%,0%);stroke-opacity:1;stroke-miterlimit:10;\" d=\"M 76.702148 0 L 76.702148 -2 \" transform=\"matrix(1,0,0,1,41.567383,270)\"/>\n",
       "<path style=\"fill:none;stroke-width:1;stroke-linecap:butt;stroke-linejoin:miter;stroke:rgb(0%,0%,0%);stroke-opacity:1;stroke-miterlimit:10;\" d=\"M 87.65918 0 L 87.65918 -2 \" transform=\"matrix(1,0,0,1,41.567383,270)\"/>\n",
       "<path style=\"fill:none;stroke-width:1;stroke-linecap:butt;stroke-linejoin:miter;stroke:rgb(0%,0%,0%);stroke-opacity:1;stroke-miterlimit:10;\" d=\"M 98.616211 0 L 98.616211 -2 \" transform=\"matrix(1,0,0,1,41.567383,270)\"/>\n",
       "<path style=\"fill:none;stroke-width:1;stroke-linecap:butt;stroke-linejoin:miter;stroke:rgb(0%,0%,0%);stroke-opacity:1;stroke-miterlimit:10;\" d=\"M 109.573242 0 L 109.573242 -2 \" transform=\"matrix(1,0,0,1,41.567383,270)\"/>\n",
       "<path style=\"fill:none;stroke-width:1;stroke-linecap:butt;stroke-linejoin:miter;stroke:rgb(0%,0%,0%);stroke-opacity:1;stroke-miterlimit:10;\" d=\"M 120.530273 0 L 120.530273 -2 \" transform=\"matrix(1,0,0,1,41.567383,270)\"/>\n",
       "<path style=\"fill:none;stroke-width:1;stroke-linecap:butt;stroke-linejoin:miter;stroke:rgb(0%,0%,0%);stroke-opacity:1;stroke-miterlimit:10;\" d=\"M 131.487305 0 L 131.487305 -2 \" transform=\"matrix(1,0,0,1,41.567383,270)\"/>\n",
       "<path style=\"fill:none;stroke-width:1;stroke-linecap:butt;stroke-linejoin:miter;stroke:rgb(0%,0%,0%);stroke-opacity:1;stroke-miterlimit:10;\" d=\"M 142.444336 0 L 142.444336 -2 \" transform=\"matrix(1,0,0,1,41.567383,270)\"/>\n",
       "<path style=\"fill:none;stroke-width:1;stroke-linecap:butt;stroke-linejoin:miter;stroke:rgb(0%,0%,0%);stroke-opacity:1;stroke-miterlimit:10;\" d=\"M 153.401367 0 L 153.401367 -2 \" transform=\"matrix(1,0,0,1,41.567383,270)\"/>\n",
       "<path style=\"fill:none;stroke-width:1;stroke-linecap:butt;stroke-linejoin:miter;stroke:rgb(0%,0%,0%);stroke-opacity:1;stroke-miterlimit:10;\" d=\"M 164.362305 0 L 164.362305 -2 \" transform=\"matrix(1,0,0,1,41.567383,270)\"/>\n",
       "<path style=\"fill:none;stroke-width:1;stroke-linecap:butt;stroke-linejoin:miter;stroke:rgb(0%,0%,0%);stroke-opacity:1;stroke-miterlimit:10;\" d=\"M 175.319336 0 L 175.319336 -2 \" transform=\"matrix(1,0,0,1,41.567383,270)\"/>\n",
       "<path style=\"fill:none;stroke-width:1;stroke-linecap:butt;stroke-linejoin:miter;stroke:rgb(0%,0%,0%);stroke-opacity:1;stroke-miterlimit:10;\" d=\"M 186.276367 0 L 186.276367 -2 \" transform=\"matrix(1,0,0,1,41.567383,270)\"/>\n",
       "<path style=\"fill:none;stroke-width:1;stroke-linecap:butt;stroke-linejoin:miter;stroke:rgb(0%,0%,0%);stroke-opacity:1;stroke-miterlimit:10;\" d=\"M 197.233398 0 L 197.233398 -2 \" transform=\"matrix(1,0,0,1,41.567383,270)\"/>\n",
       "<path style=\"fill:none;stroke-width:1;stroke-linecap:butt;stroke-linejoin:miter;stroke:rgb(0%,0%,0%);stroke-opacity:1;stroke-miterlimit:10;\" d=\"M 208.19043 0 L 208.19043 -2 \" transform=\"matrix(1,0,0,1,41.567383,270)\"/>\n",
       "<path style=\"fill:none;stroke-width:1;stroke-linecap:butt;stroke-linejoin:miter;stroke:rgb(0%,0%,0%);stroke-opacity:1;stroke-miterlimit:10;\" d=\"M 219.147461 0 L 219.147461 -2 \" transform=\"matrix(1,0,0,1,41.567383,270)\"/>\n",
       "<path style=\"fill:none;stroke-width:1;stroke-linecap:butt;stroke-linejoin:miter;stroke:rgb(0%,0%,0%);stroke-opacity:1;stroke-miterlimit:10;\" d=\"M 230.104492 0 L 230.104492 -2 \" transform=\"matrix(1,0,0,1,41.567383,270)\"/>\n",
       "<path style=\"fill:none;stroke-width:1;stroke-linecap:butt;stroke-linejoin:miter;stroke:rgb(0%,0%,0%);stroke-opacity:1;stroke-miterlimit:10;\" d=\"M 241.061523 0 L 241.061523 -2 \" transform=\"matrix(1,0,0,1,41.567383,270)\"/>\n",
       "<path style=\"fill:none;stroke-width:1;stroke-linecap:butt;stroke-linejoin:miter;stroke:rgb(0%,0%,0%);stroke-opacity:1;stroke-miterlimit:10;\" d=\"M 252.018555 0 L 252.018555 -2 \" transform=\"matrix(1,0,0,1,41.567383,270)\"/>\n",
       "<path style=\"fill:none;stroke-width:1;stroke-linecap:butt;stroke-linejoin:miter;stroke:rgb(0%,0%,0%);stroke-opacity:1;stroke-miterlimit:10;\" d=\"M 262.975586 0 L 262.975586 -2 \" transform=\"matrix(1,0,0,1,41.567383,270)\"/>\n",
       "<path style=\"fill:none;stroke-width:1;stroke-linecap:butt;stroke-linejoin:miter;stroke:rgb(0%,0%,0%);stroke-opacity:1;stroke-miterlimit:10;\" d=\"M 273.932617 0 L 273.932617 -2 \" transform=\"matrix(1,0,0,1,41.567383,270)\"/>\n",
       "<path style=\"fill:none;stroke-width:1;stroke-linecap:butt;stroke-linejoin:miter;stroke:rgb(0%,0%,0%);stroke-opacity:1;stroke-miterlimit:10;\" d=\"M 284.893555 0 L 284.893555 -2 \" transform=\"matrix(1,0,0,1,41.567383,270)\"/>\n",
       "<path style=\"fill:none;stroke-width:1;stroke-linecap:butt;stroke-linejoin:miter;stroke:rgb(0%,0%,0%);stroke-opacity:1;stroke-miterlimit:10;\" d=\"M 295.850586 0 L 295.850586 -2 \" transform=\"matrix(1,0,0,1,41.567383,270)\"/>\n",
       "<path style=\"fill:none;stroke-width:1;stroke-linecap:butt;stroke-linejoin:miter;stroke:rgb(0%,0%,0%);stroke-opacity:1;stroke-miterlimit:10;\" d=\"M 306.807617 0 L 306.807617 -2 \" transform=\"matrix(1,0,0,1,41.567383,270)\"/>\n",
       "<path style=\"fill:none;stroke-width:1;stroke-linecap:butt;stroke-linejoin:miter;stroke:rgb(0%,0%,0%);stroke-opacity:1;stroke-miterlimit:10;\" d=\"M 317.764648 0 L 317.764648 -2 \" transform=\"matrix(1,0,0,1,41.567383,270)\"/>\n",
       "<path style=\"fill:none;stroke-width:1;stroke-linecap:butt;stroke-linejoin:miter;stroke:rgb(0%,0%,0%);stroke-opacity:1;stroke-miterlimit:10;\" d=\"M 328.72168 0 L 328.72168 -2 \" transform=\"matrix(1,0,0,1,41.567383,270)\"/>\n",
       "<path style=\"fill:none;stroke-width:1;stroke-linecap:butt;stroke-linejoin:miter;stroke:rgb(0%,0%,0%);stroke-opacity:1;stroke-miterlimit:10;\" d=\"M 339.678711 0 L 339.678711 -2 \" transform=\"matrix(1,0,0,1,41.567383,270)\"/>\n",
       "<path style=\"fill:none;stroke-width:1;stroke-linecap:butt;stroke-linejoin:miter;stroke:rgb(0%,0%,0%);stroke-opacity:1;stroke-miterlimit:10;\" d=\"M 350.635742 0 L 350.635742 -2 \" transform=\"matrix(1,0,0,1,41.567383,270)\"/>\n",
       "<path style=\"fill:none;stroke-width:1;stroke-linecap:butt;stroke-linejoin:miter;stroke:rgb(0%,0%,0%);stroke-opacity:1;stroke-miterlimit:10;\" d=\"M 361.592773 0 L 361.592773 -2 \" transform=\"matrix(1,0,0,1,41.567383,270)\"/>\n",
       "<path style=\"fill:none;stroke-width:1;stroke-linecap:butt;stroke-linejoin:miter;stroke:rgb(0%,0%,0%);stroke-opacity:1;stroke-miterlimit:10;\" d=\"M 372.549805 0 L 372.549805 -2 \" transform=\"matrix(1,0,0,1,41.567383,270)\"/>\n",
       "<path style=\"fill:none;stroke-width:1;stroke-linecap:butt;stroke-linejoin:miter;stroke:rgb(0%,0%,0%);stroke-opacity:1;stroke-miterlimit:10;\" d=\"M 383.506836 0 L 383.506836 -2 \" transform=\"matrix(1,0,0,1,41.567383,270)\"/>\n",
       "<path style=\"fill:none;stroke-width:1;stroke-linecap:butt;stroke-linejoin:miter;stroke:rgb(0%,0%,0%);stroke-opacity:1;stroke-miterlimit:10;\" d=\"M 394.463867 0 L 394.463867 -2 \" transform=\"matrix(1,0,0,1,41.567383,270)\"/>\n",
       "<path style=\"fill:none;stroke-width:1;stroke-linecap:butt;stroke-linejoin:miter;stroke:rgb(0%,0%,0%);stroke-opacity:1;stroke-miterlimit:10;\" d=\"M -0.000976562 0 L -0.000976562 -5 \" transform=\"matrix(1,0,0,1,41.567383,270)\"/>\n",
       "<path style=\"fill:none;stroke-width:1;stroke-linecap:butt;stroke-linejoin:miter;stroke:rgb(0%,0%,0%);stroke-opacity:1;stroke-miterlimit:10;\" d=\"M 54.788086 0 L 54.788086 -5 \" transform=\"matrix(1,0,0,1,41.567383,270)\"/>\n",
       "<path style=\"fill:none;stroke-width:1;stroke-linecap:butt;stroke-linejoin:miter;stroke:rgb(0%,0%,0%);stroke-opacity:1;stroke-miterlimit:10;\" d=\"M 109.573242 0 L 109.573242 -5 \" transform=\"matrix(1,0,0,1,41.567383,270)\"/>\n",
       "<path style=\"fill:none;stroke-width:1;stroke-linecap:butt;stroke-linejoin:miter;stroke:rgb(0%,0%,0%);stroke-opacity:1;stroke-miterlimit:10;\" d=\"M 164.362305 0 L 164.362305 -5 \" transform=\"matrix(1,0,0,1,41.567383,270)\"/>\n",
       "<path style=\"fill:none;stroke-width:1;stroke-linecap:butt;stroke-linejoin:miter;stroke:rgb(0%,0%,0%);stroke-opacity:1;stroke-miterlimit:10;\" d=\"M 219.147461 0 L 219.147461 -5 \" transform=\"matrix(1,0,0,1,41.567383,270)\"/>\n",
       "<path style=\"fill:none;stroke-width:1;stroke-linecap:butt;stroke-linejoin:miter;stroke:rgb(0%,0%,0%);stroke-opacity:1;stroke-miterlimit:10;\" d=\"M 273.932617 0 L 273.932617 -5 \" transform=\"matrix(1,0,0,1,41.567383,270)\"/>\n",
       "<path style=\"fill:none;stroke-width:1;stroke-linecap:butt;stroke-linejoin:miter;stroke:rgb(0%,0%,0%);stroke-opacity:1;stroke-miterlimit:10;\" d=\"M 328.72168 0 L 328.72168 -5 \" transform=\"matrix(1,0,0,1,41.567383,270)\"/>\n",
       "<path style=\"fill:none;stroke-width:1;stroke-linecap:butt;stroke-linejoin:miter;stroke:rgb(0%,0%,0%);stroke-opacity:1;stroke-miterlimit:10;\" d=\"M 383.506836 0 L 383.506836 -5 \" transform=\"matrix(1,0,0,1,41.567383,270)\"/>\n",
       "<g style=\"fill:rgb(0%,0%,0%);fill-opacity:1;\">\n",
       "  <use xlink:href=\"#glyph-2020-05-2877996.152377s1-1\" x=\"39.15625\" y=\"287.699219\"/>\n",
       "</g>\n",
       "<g style=\"fill:rgb(0%,0%,0%);fill-opacity:1;\">\n",
       "  <use xlink:href=\"#glyph-2020-05-2877996.152377s1-1\" x=\"81.429688\" y=\"287.699219\"/>\n",
       "  <use xlink:href=\"#glyph-2020-05-2877996.152377s1-6\" x=\"86.991211\" y=\"287.699219\"/>\n",
       "  <use xlink:href=\"#glyph-2020-05-2877996.152377s1-1\" x=\"89.769531\" y=\"287.699219\"/>\n",
       "  <use xlink:href=\"#glyph-2020-05-2877996.152377s1-1\" x=\"95.331055\" y=\"287.699219\"/>\n",
       "  <use xlink:href=\"#glyph-2020-05-2877996.152377s1-1\" x=\"100.892578\" y=\"287.699219\"/>\n",
       "  <use xlink:href=\"#glyph-2020-05-2877996.152377s1-7\" x=\"106.454102\" y=\"287.699219\"/>\n",
       "</g>\n",
       "<g style=\"fill:rgb(0%,0%,0%);fill-opacity:1;\">\n",
       "  <use xlink:href=\"#glyph-2020-05-2877996.152377s1-1\" x=\"139.796875\" y=\"287.699219\"/>\n",
       "  <use xlink:href=\"#glyph-2020-05-2877996.152377s1-6\" x=\"145.358398\" y=\"287.699219\"/>\n",
       "  <use xlink:href=\"#glyph-2020-05-2877996.152377s1-1\" x=\"148.136719\" y=\"287.699219\"/>\n",
       "  <use xlink:href=\"#glyph-2020-05-2877996.152377s1-1\" x=\"153.698242\" y=\"287.699219\"/>\n",
       "  <use xlink:href=\"#glyph-2020-05-2877996.152377s1-8\" x=\"159.259766\" y=\"287.699219\"/>\n",
       "</g>\n",
       "<g style=\"fill:rgb(0%,0%,0%);fill-opacity:1;\">\n",
       "  <use xlink:href=\"#glyph-2020-05-2877996.152377s1-1\" x=\"191.003906\" y=\"287.699219\"/>\n",
       "  <use xlink:href=\"#glyph-2020-05-2877996.152377s1-6\" x=\"196.56543\" y=\"287.699219\"/>\n",
       "  <use xlink:href=\"#glyph-2020-05-2877996.152377s1-1\" x=\"199.34375\" y=\"287.699219\"/>\n",
       "  <use xlink:href=\"#glyph-2020-05-2877996.152377s1-1\" x=\"204.905273\" y=\"287.699219\"/>\n",
       "  <use xlink:href=\"#glyph-2020-05-2877996.152377s1-8\" x=\"210.466797\" y=\"287.699219\"/>\n",
       "  <use xlink:href=\"#glyph-2020-05-2877996.152377s1-7\" x=\"216.02832\" y=\"287.699219\"/>\n",
       "</g>\n",
       "<g style=\"fill:rgb(0%,0%,0%);fill-opacity:1;\">\n",
       "  <use xlink:href=\"#glyph-2020-05-2877996.152377s1-1\" x=\"248.566406\" y=\"287.699219\"/>\n",
       "  <use xlink:href=\"#glyph-2020-05-2877996.152377s1-6\" x=\"254.12793\" y=\"287.699219\"/>\n",
       "  <use xlink:href=\"#glyph-2020-05-2877996.152377s1-1\" x=\"256.90625\" y=\"287.699219\"/>\n",
       "  <use xlink:href=\"#glyph-2020-05-2877996.152377s1-1\" x=\"262.467773\" y=\"287.699219\"/>\n",
       "  <use xlink:href=\"#glyph-2020-05-2877996.152377s1-2\" x=\"268.029297\" y=\"287.699219\"/>\n",
       "</g>\n",
       "<g style=\"fill:rgb(0%,0%,0%);fill-opacity:1;\">\n",
       "  <use xlink:href=\"#glyph-2020-05-2877996.152377s1-1\" x=\"300.578125\" y=\"287.699219\"/>\n",
       "  <use xlink:href=\"#glyph-2020-05-2877996.152377s1-6\" x=\"306.139648\" y=\"287.699219\"/>\n",
       "  <use xlink:href=\"#glyph-2020-05-2877996.152377s1-1\" x=\"308.917969\" y=\"287.699219\"/>\n",
       "  <use xlink:href=\"#glyph-2020-05-2877996.152377s1-1\" x=\"314.479492\" y=\"287.699219\"/>\n",
       "  <use xlink:href=\"#glyph-2020-05-2877996.152377s1-2\" x=\"320.041016\" y=\"287.699219\"/>\n",
       "  <use xlink:href=\"#glyph-2020-05-2877996.152377s1-7\" x=\"325.602539\" y=\"287.699219\"/>\n",
       "</g>\n",
       "<g style=\"fill:rgb(0%,0%,0%);fill-opacity:1;\">\n",
       "  <use xlink:href=\"#glyph-2020-05-2877996.152377s1-1\" x=\"358.148438\" y=\"287.699219\"/>\n",
       "  <use xlink:href=\"#glyph-2020-05-2877996.152377s1-6\" x=\"363.709961\" y=\"287.699219\"/>\n",
       "  <use xlink:href=\"#glyph-2020-05-2877996.152377s1-1\" x=\"366.488281\" y=\"287.699219\"/>\n",
       "  <use xlink:href=\"#glyph-2020-05-2877996.152377s1-1\" x=\"372.049805\" y=\"287.699219\"/>\n",
       "  <use xlink:href=\"#glyph-2020-05-2877996.152377s1-9\" x=\"377.611328\" y=\"287.699219\"/>\n",
       "</g>\n",
       "<g style=\"fill:rgb(0%,0%,0%);fill-opacity:1;\">\n",
       "  <use xlink:href=\"#glyph-2020-05-2877996.152377s1-1\" x=\"410.152344\" y=\"287.699219\"/>\n",
       "  <use xlink:href=\"#glyph-2020-05-2877996.152377s1-6\" x=\"415.713867\" y=\"287.699219\"/>\n",
       "  <use xlink:href=\"#glyph-2020-05-2877996.152377s1-1\" x=\"418.492188\" y=\"287.699219\"/>\n",
       "  <use xlink:href=\"#glyph-2020-05-2877996.152377s1-1\" x=\"424.053711\" y=\"287.699219\"/>\n",
       "  <use xlink:href=\"#glyph-2020-05-2877996.152377s1-9\" x=\"429.615234\" y=\"287.699219\"/>\n",
       "  <use xlink:href=\"#glyph-2020-05-2877996.152377s1-7\" x=\"435.176758\" y=\"287.699219\"/>\n",
       "</g>\n",
       "</g>\n",
       "</svg>\n"
      ]
     },
     "metadata": {},
     "output_type": "display_data"
    }
   ],
   "source": [
    "chart"
   ]
  },
  {
   "cell_type": "markdown",
   "metadata": {},
   "source": [
    "Save the graph as a file."
   ]
  },
  {
   "cell_type": "code",
   "execution_count": 44,
   "metadata": {},
   "outputs": [],
   "source": [
    "Cairo.renderableToFile CH.def \"covidFatalityRates.png\" chart"
   ]
  },
  {
   "cell_type": "code",
   "execution_count": null,
   "metadata": {},
   "outputs": [],
   "source": []
  }
 ],
 "metadata": {
  "kernelspec": {
   "display_name": "Haskell",
   "language": "haskell",
   "name": "haskell"
  },
  "language_info": {
   "codemirror_mode": "ihaskell",
   "file_extension": ".hs",
   "name": "haskell",
   "pygments_lexer": "Haskell",
   "version": "8.6.5"
  }
 },
 "nbformat": 4,
 "nbformat_minor": 4
}
